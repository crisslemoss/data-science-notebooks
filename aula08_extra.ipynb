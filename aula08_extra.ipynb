{
 "cells": [
  {
   "cell_type": "code",
   "execution_count": 1,
   "metadata": {},
   "outputs": [],
   "source": [
    "#conda install -c conda-forge ipywidgets"
   ]
  },
  {
   "cell_type": "code",
   "execution_count": 1,
   "metadata": {},
   "outputs": [],
   "source": [
    "import pandas as pd\n",
    "import folium as fo\n",
    "import re\n",
    "import bs4 \n",
    "import requests \n",
    "import ipywidgets as widgets"
   ]
  },
  {
   "cell_type": "code",
   "execution_count": 2,
   "metadata": {},
   "outputs": [],
   "source": [
    "def get_data():  \n",
    "    headers = {\"User-Agent\":\"Mozilla/5.0 (Windows NT 10.0; Win64; x64; rv:66.0) Gecko/20100101 Firefox/66.0\", \"Accept-Encoding\":\"gzip, deflate\", \"Accept\":\"text/html,application/xhtml+xml,application/xml;q=0.9,*/*;q=0.8\", \"DNT\":\"1\",\"Connection\":\"close\", \"Upgrade-Insecure-Requests\":\"1\"}\n",
    "\n",
    "    pagina = requests.get('http://queimadas.dgi.inpe.br/queimadas/dados-abertos/')\n",
    "    content = pagina.content\n",
    "    soup = bs4.BeautifulSoup(content)\n",
    "\n",
    "    lista_regiao_url = []\n",
    "    lista_regiao = []\n",
    "    \n",
    "    for tr in soup.findAll('tr'):                        \n",
    "        regiao_url = []        \n",
    "        regiao_nome = []        \n",
    "        for td in tr.findAll('td'):                        \n",
    "            \n",
    "            regiao_nome.append(td.get_text().strip())                                    \n",
    "            for a in td.find_all('a'):                \n",
    "                if (len(regiao_nome)==4):   #dados csv 48h                  \n",
    "                    regiao_url.append(a.get('href'))                    \n",
    "            \n",
    "        lista_regiao_url.append([regiao_nome[0],regiao_url[0]])\n",
    "        lista_regiao.append(regiao_nome[0])\n",
    "        \n",
    "    return lista_regiao_url,  lista_regiao\n",
    "    \n",
    "lista = get_data()"
   ]
  },
  {
   "cell_type": "code",
   "execution_count": 16,
   "metadata": {},
   "outputs": [
    {
     "data": {
      "text/plain": [
       "([['América do Sul',\n",
       "   '/queimadas/dados-abertos/download/?utm_campaign=dados-abertos&outputFormat=csv&utm_medium=landing-page&time=48h&utm_content=focos_ams_48h&id=focos_ams&utm_source=landing-page'],\n",
       "  ['Brasil',\n",
       "   '/queimadas/dados-abertos/download/?utm_campaign=dados-abertos&outputFormat=csv&utm_medium=landing-page&time=48h&utm_content=focos_brasil_48h&id=focos_brasil&utm_source=landing-page'],\n",
       "  ['Acre',\n",
       "   '/queimadas/dados-abertos/download/?utm_campaign=dados-abertos&outputFormat=csv&utm_medium=landing-page&time=48h&utm_content=focos_brasil_ac_48h&id=focos_brasil_ac&utm_source=landing-page'],\n",
       "  ['Alagoas',\n",
       "   '/queimadas/dados-abertos/download/?utm_campaign=dados-abertos&outputFormat=csv&utm_medium=landing-page&time=48h&utm_content=focos_brasil_al_48h&id=focos_brasil_al&utm_source=landing-page'],\n",
       "  ['Amapá',\n",
       "   '/queimadas/dados-abertos/download/?utm_campaign=dados-abertos&outputFormat=csv&utm_medium=landing-page&time=48h&utm_content=focos_brasil_ap_48h&id=focos_brasil_ap&utm_source=landing-page'],\n",
       "  ['Amazonas',\n",
       "   '/queimadas/dados-abertos/download/?utm_campaign=dados-abertos&outputFormat=csv&utm_medium=landing-page&time=48h&utm_content=focos_brasil_am_48h&id=focos_brasil_am&utm_source=landing-page'],\n",
       "  ['Bahia',\n",
       "   '/queimadas/dados-abertos/download/?utm_campaign=dados-abertos&outputFormat=csv&utm_medium=landing-page&time=48h&utm_content=focos_brasil_ba_48h&id=focos_brasil_ba&utm_source=landing-page'],\n",
       "  ['Ceará',\n",
       "   '/queimadas/dados-abertos/download/?utm_campaign=dados-abertos&outputFormat=csv&utm_medium=landing-page&time=48h&utm_content=focos_brasil_ce_48h&id=focos_brasil_ce&utm_source=landing-page'],\n",
       "  ['Distrito Federal',\n",
       "   '/queimadas/dados-abertos/download/?utm_campaign=dados-abertos&outputFormat=csv&utm_medium=landing-page&time=48h&utm_content=focos_brasil_df_48h&id=focos_brasil_df&utm_source=landing-page'],\n",
       "  ['Espírito Santo',\n",
       "   '/queimadas/dados-abertos/download/?utm_campaign=dados-abertos&outputFormat=csv&utm_medium=landing-page&time=48h&utm_content=focos_brasil_es_48h&id=focos_brasil_es&utm_source=landing-page'],\n",
       "  ['Goiás',\n",
       "   '/queimadas/dados-abertos/download/?utm_campaign=dados-abertos&outputFormat=csv&utm_medium=landing-page&time=48h&utm_content=focos_brasil_go_48h&id=focos_brasil_go&utm_source=landing-page'],\n",
       "  ['Maranhão',\n",
       "   '/queimadas/dados-abertos/download/?utm_campaign=dados-abertos&outputFormat=csv&utm_medium=landing-page&time=48h&utm_content=focos_brasil_ma_48h&id=focos_brasil_ma&utm_source=landing-page'],\n",
       "  ['Mato Grosso do Sul',\n",
       "   '/queimadas/dados-abertos/download/?utm_campaign=dados-abertos&outputFormat=csv&utm_medium=landing-page&time=48h&utm_content=focos_brasil_ms_48h&id=focos_brasil_ms&utm_source=landing-page'],\n",
       "  ['Mato Grosso',\n",
       "   '/queimadas/dados-abertos/download/?utm_campaign=dados-abertos&outputFormat=csv&utm_medium=landing-page&time=48h&utm_content=focos_brasil_mt_48h&id=focos_brasil_mt&utm_source=landing-page'],\n",
       "  ['Minas Gerais',\n",
       "   '/queimadas/dados-abertos/download/?utm_campaign=dados-abertos&outputFormat=csv&utm_medium=landing-page&time=48h&utm_content=focos_brasil_mg_48h&id=focos_brasil_mg&utm_source=landing-page'],\n",
       "  ['Pará',\n",
       "   '/queimadas/dados-abertos/download/?utm_campaign=dados-abertos&outputFormat=csv&utm_medium=landing-page&time=48h&utm_content=focos_brasil_pa_48h&id=focos_brasil_pa&utm_source=landing-page'],\n",
       "  ['Paraíba',\n",
       "   '/queimadas/dados-abertos/download/?utm_campaign=dados-abertos&outputFormat=csv&utm_medium=landing-page&time=48h&utm_content=focos_brasil_pb_48h&id=focos_brasil_pb&utm_source=landing-page'],\n",
       "  ['Paraná',\n",
       "   '/queimadas/dados-abertos/download/?utm_campaign=dados-abertos&outputFormat=csv&utm_medium=landing-page&time=48h&utm_content=focos_brasil_pr_48h&id=focos_brasil_pr&utm_source=landing-page'],\n",
       "  ['Pernambuco',\n",
       "   '/queimadas/dados-abertos/download/?utm_campaign=dados-abertos&outputFormat=csv&utm_medium=landing-page&time=48h&utm_content=focos_brasil_pe_48h&id=focos_brasil_pe&utm_source=landing-page'],\n",
       "  ['Piauí',\n",
       "   '/queimadas/dados-abertos/download/?utm_campaign=dados-abertos&outputFormat=csv&utm_medium=landing-page&time=48h&utm_content=focos_brasil_pi_48h&id=focos_brasil_pi&utm_source=landing-page'],\n",
       "  ['Rio de Janeiro',\n",
       "   '/queimadas/dados-abertos/download/?utm_campaign=dados-abertos&outputFormat=csv&utm_medium=landing-page&time=48h&utm_content=focos_brasil_rj_48h&id=focos_brasil_rj&utm_source=landing-page'],\n",
       "  ['Rio Grande do Norte',\n",
       "   '/queimadas/dados-abertos/download/?utm_campaign=dados-abertos&outputFormat=csv&utm_medium=landing-page&time=48h&utm_content=focos_brasil_rn_48h&id=focos_brasil_rn&utm_source=landing-page'],\n",
       "  ['Rio Grande do Sul',\n",
       "   '/queimadas/dados-abertos/download/?utm_campaign=dados-abertos&outputFormat=csv&utm_medium=landing-page&time=48h&utm_content=focos_brasil_rs_48h&id=focos_brasil_rs&utm_source=landing-page'],\n",
       "  ['Rondônia',\n",
       "   '/queimadas/dados-abertos/download/?utm_campaign=dados-abertos&outputFormat=csv&utm_medium=landing-page&time=48h&utm_content=focos_brasil_ro_48h&id=focos_brasil_ro&utm_source=landing-page'],\n",
       "  ['Roraima',\n",
       "   '/queimadas/dados-abertos/download/?utm_campaign=dados-abertos&outputFormat=csv&utm_medium=landing-page&time=48h&utm_content=focos_brasil_rr_48h&id=focos_brasil_rr&utm_source=landing-page'],\n",
       "  ['Santa Catarina',\n",
       "   '/queimadas/dados-abertos/download/?utm_campaign=dados-abertos&outputFormat=csv&utm_medium=landing-page&time=48h&utm_content=focos_brasil_sc_48h&id=focos_brasil_sc&utm_source=landing-page'],\n",
       "  ['São Paulo',\n",
       "   '/queimadas/dados-abertos/download/?utm_campaign=dados-abertos&outputFormat=csv&utm_medium=landing-page&time=48h&utm_content=focos_brasil_sp_48h&id=focos_brasil_sp&utm_source=landing-page'],\n",
       "  ['Sergipe',\n",
       "   '/queimadas/dados-abertos/download/?utm_campaign=dados-abertos&outputFormat=csv&utm_medium=landing-page&time=48h&utm_content=focos_brasil_se_48h&id=focos_brasil_se&utm_source=landing-page'],\n",
       "  ['Tocantins',\n",
       "   '/queimadas/dados-abertos/download/?utm_campaign=dados-abertos&outputFormat=csv&utm_medium=landing-page&time=48h&utm_content=focos_brasil_to_48h&id=focos_brasil_to&utm_source=landing-page']],\n",
       " ['América do Sul',\n",
       "  'Brasil',\n",
       "  'Acre',\n",
       "  'Alagoas',\n",
       "  'Amapá',\n",
       "  'Amazonas',\n",
       "  'Bahia',\n",
       "  'Ceará',\n",
       "  'Distrito Federal',\n",
       "  'Espírito Santo',\n",
       "  'Goiás',\n",
       "  'Maranhão',\n",
       "  'Mato Grosso do Sul',\n",
       "  'Mato Grosso',\n",
       "  'Minas Gerais',\n",
       "  'Pará',\n",
       "  'Paraíba',\n",
       "  'Paraná',\n",
       "  'Pernambuco',\n",
       "  'Piauí',\n",
       "  'Rio de Janeiro',\n",
       "  'Rio Grande do Norte',\n",
       "  'Rio Grande do Sul',\n",
       "  'Rondônia',\n",
       "  'Roraima',\n",
       "  'Santa Catarina',\n",
       "  'São Paulo',\n",
       "  'Sergipe',\n",
       "  'Tocantins'])"
      ]
     },
     "execution_count": 16,
     "metadata": {},
     "output_type": "execute_result"
    }
   ],
   "source": [
    "lista"
   ]
  },
  {
   "cell_type": "code",
   "execution_count": 3,
   "metadata": {},
   "outputs": [
    {
     "name": "stdout",
     "output_type": "stream",
     "text": [
      "Selecione a regiao que deseja inspecionar os focos de incendio:\n"
     ]
    },
    {
     "data": {
      "application/vnd.jupyter.widget-view+json": {
       "model_id": "53dfe8bec2ec4537ad5a44113e6f14c3",
       "version_major": 2,
       "version_minor": 0
      },
      "text/plain": [
       "ToggleButtons(index=1, options=('América do Sul', 'Brasil', 'Acre', 'Alagoas', 'Amapá', 'Amazonas', 'Bahia', '…"
      ]
     },
     "metadata": {},
     "output_type": "display_data"
    }
   ],
   "source": [
    "print('Selecione a regiao que deseja inspecionar os focos de incendio:')\n",
    "ToggleButtons_regiao = widgets.ToggleButtons(\n",
    "    options=lista[1],    \n",
    "    value=lista[1][1],    \n",
    "    disabled=False    \n",
    ")\n",
    "\n",
    "display(ToggleButtons_regiao)"
   ]
  },
  {
   "cell_type": "code",
   "execution_count": 4,
   "metadata": {},
   "outputs": [],
   "source": [
    "idx = lista[1].index(ToggleButtons_regiao.value)"
   ]
  },
  {
   "cell_type": "code",
   "execution_count": 5,
   "metadata": {},
   "outputs": [
    {
     "name": "stdout",
     "output_type": "stream",
     "text": [
      "14\n"
     ]
    }
   ],
   "source": [
    "print(idx)"
   ]
  },
  {
   "cell_type": "code",
   "execution_count": 6,
   "metadata": {},
   "outputs": [
    {
     "name": "stdout",
     "output_type": "stream",
     "text": [
      "http://queimadas.dgi.inpe.br/queimadas/dados-abertos/download/?utm_campaign=dados-abertos&outputFormat=csv&utm_medium=landing-page&time=48h&utm_content=focos_brasil_mg_48h&id=focos_brasil_mg&utm_source=landing-page\n"
     ]
    }
   ],
   "source": [
    "url = 'http://queimadas.dgi.inpe.br' +  str(lista[0][idx][1])\n",
    "print(url)"
   ]
  },
  {
   "cell_type": "code",
   "execution_count": 7,
   "metadata": {},
   "outputs": [],
   "source": [
    "CSV_URL = url\n",
    "#'http://queimadas.dgi.inpe.br/queimadas/dados-abertos/download/?utm_campaign=dados-abertos&outputFormat=csv&utm_medium=landing-page&time=48h&utm_content=focos_brasil_48h&id=focos_brasil&utm_source=landing-page'"
   ]
  },
  {
   "cell_type": "code",
   "execution_count": 8,
   "metadata": {},
   "outputs": [],
   "source": [
    "df = pd.read_csv(CSV_URL)"
   ]
  },
  {
   "cell_type": "code",
   "execution_count": 9,
   "metadata": {},
   "outputs": [
    {
     "data": {
      "text/html": [
       "<div>\n",
       "<style scoped>\n",
       "    .dataframe tbody tr th:only-of-type {\n",
       "        vertical-align: middle;\n",
       "    }\n",
       "\n",
       "    .dataframe tbody tr th {\n",
       "        vertical-align: top;\n",
       "    }\n",
       "\n",
       "    .dataframe thead th {\n",
       "        text-align: right;\n",
       "    }\n",
       "</style>\n",
       "<table border=\"1\" class=\"dataframe\">\n",
       "  <thead>\n",
       "    <tr style=\"text-align: right;\">\n",
       "      <th></th>\n",
       "      <th>FID</th>\n",
       "      <th>id</th>\n",
       "      <th>longitude</th>\n",
       "      <th>latitude</th>\n",
       "      <th>data_hora_gmt</th>\n",
       "      <th>satelite</th>\n",
       "      <th>municipio</th>\n",
       "      <th>estado</th>\n",
       "      <th>pais</th>\n",
       "      <th>municipio_id</th>\n",
       "      <th>estado_id</th>\n",
       "      <th>pais_id</th>\n",
       "      <th>numero_dias_sem_chuva</th>\n",
       "      <th>precipitacao</th>\n",
       "      <th>risco_fogo</th>\n",
       "      <th>bioma</th>\n",
       "      <th>geom</th>\n",
       "    </tr>\n",
       "  </thead>\n",
       "  <tbody>\n",
       "    <tr>\n",
       "      <th>0</th>\n",
       "      <td>focos_brasil_ontem_hoje_ref.e66538e3-f99d-319d...</td>\n",
       "      <td>e66538e3-f99d-319d-8287-46301be952f7</td>\n",
       "      <td>-49.616</td>\n",
       "      <td>-18.624</td>\n",
       "      <td>2020-09-25T17:10:00</td>\n",
       "      <td>AQUA_M-T</td>\n",
       "      <td>CAPINÓPOLIS</td>\n",
       "      <td>MINAS GERAIS</td>\n",
       "      <td>Brasil</td>\n",
       "      <td>3112604</td>\n",
       "      <td>31</td>\n",
       "      <td>33</td>\n",
       "      <td>2</td>\n",
       "      <td>0.0</td>\n",
       "      <td>1.0</td>\n",
       "      <td>Cerrado</td>\n",
       "      <td>POINT (-18.624 -49.616)</td>\n",
       "    </tr>\n",
       "    <tr>\n",
       "      <th>1</th>\n",
       "      <td>focos_brasil_ontem_hoje_ref.23d815fa-93d3-3562...</td>\n",
       "      <td>23d815fa-93d3-3562-98e6-caeea3e1120c</td>\n",
       "      <td>-49.612</td>\n",
       "      <td>-18.621</td>\n",
       "      <td>2020-09-25T17:10:00</td>\n",
       "      <td>AQUA_M-T</td>\n",
       "      <td>CAPINÓPOLIS</td>\n",
       "      <td>MINAS GERAIS</td>\n",
       "      <td>Brasil</td>\n",
       "      <td>3112604</td>\n",
       "      <td>31</td>\n",
       "      <td>33</td>\n",
       "      <td>2</td>\n",
       "      <td>0.0</td>\n",
       "      <td>1.0</td>\n",
       "      <td>Cerrado</td>\n",
       "      <td>POINT (-18.621 -49.612)</td>\n",
       "    </tr>\n",
       "    <tr>\n",
       "      <th>2</th>\n",
       "      <td>focos_brasil_ontem_hoje_ref.1f4db9ab-9adb-386d...</td>\n",
       "      <td>1f4db9ab-9adb-386d-a179-3d519b03f6c1</td>\n",
       "      <td>-46.861</td>\n",
       "      <td>-20.000</td>\n",
       "      <td>2020-09-25T17:10:00</td>\n",
       "      <td>AQUA_M-T</td>\n",
       "      <td>TAPIRA</td>\n",
       "      <td>MINAS GERAIS</td>\n",
       "      <td>Brasil</td>\n",
       "      <td>3168101</td>\n",
       "      <td>31</td>\n",
       "      <td>33</td>\n",
       "      <td>2</td>\n",
       "      <td>0.0</td>\n",
       "      <td>0.8</td>\n",
       "      <td>Cerrado</td>\n",
       "      <td>POINT (-20 -46.861)</td>\n",
       "    </tr>\n",
       "    <tr>\n",
       "      <th>3</th>\n",
       "      <td>focos_brasil_ontem_hoje_ref.cd97c8a3-f5d3-330e...</td>\n",
       "      <td>cd97c8a3-f5d3-330e-a0fa-64472972caae</td>\n",
       "      <td>-46.863</td>\n",
       "      <td>-19.989</td>\n",
       "      <td>2020-09-25T17:10:00</td>\n",
       "      <td>AQUA_M-T</td>\n",
       "      <td>TAPIRA</td>\n",
       "      <td>MINAS GERAIS</td>\n",
       "      <td>Brasil</td>\n",
       "      <td>3168101</td>\n",
       "      <td>31</td>\n",
       "      <td>33</td>\n",
       "      <td>2</td>\n",
       "      <td>0.0</td>\n",
       "      <td>0.7</td>\n",
       "      <td>Cerrado</td>\n",
       "      <td>POINT (-19.989 -46.863)</td>\n",
       "    </tr>\n",
       "    <tr>\n",
       "      <th>4</th>\n",
       "      <td>focos_brasil_ontem_hoje_ref.4101a440-ca4b-3805...</td>\n",
       "      <td>4101a440-ca4b-3805-a665-2c5fd62971b4</td>\n",
       "      <td>-46.846</td>\n",
       "      <td>-19.997</td>\n",
       "      <td>2020-09-25T17:10:00</td>\n",
       "      <td>AQUA_M-T</td>\n",
       "      <td>TAPIRA</td>\n",
       "      <td>MINAS GERAIS</td>\n",
       "      <td>Brasil</td>\n",
       "      <td>3168101</td>\n",
       "      <td>31</td>\n",
       "      <td>33</td>\n",
       "      <td>3</td>\n",
       "      <td>0.0</td>\n",
       "      <td>0.6</td>\n",
       "      <td>Cerrado</td>\n",
       "      <td>POINT (-19.997 -46.846)</td>\n",
       "    </tr>\n",
       "  </tbody>\n",
       "</table>\n",
       "</div>"
      ],
      "text/plain": [
       "                                                 FID  \\\n",
       "0  focos_brasil_ontem_hoje_ref.e66538e3-f99d-319d...   \n",
       "1  focos_brasil_ontem_hoje_ref.23d815fa-93d3-3562...   \n",
       "2  focos_brasil_ontem_hoje_ref.1f4db9ab-9adb-386d...   \n",
       "3  focos_brasil_ontem_hoje_ref.cd97c8a3-f5d3-330e...   \n",
       "4  focos_brasil_ontem_hoje_ref.4101a440-ca4b-3805...   \n",
       "\n",
       "                                     id  longitude  latitude  \\\n",
       "0  e66538e3-f99d-319d-8287-46301be952f7    -49.616   -18.624   \n",
       "1  23d815fa-93d3-3562-98e6-caeea3e1120c    -49.612   -18.621   \n",
       "2  1f4db9ab-9adb-386d-a179-3d519b03f6c1    -46.861   -20.000   \n",
       "3  cd97c8a3-f5d3-330e-a0fa-64472972caae    -46.863   -19.989   \n",
       "4  4101a440-ca4b-3805-a665-2c5fd62971b4    -46.846   -19.997   \n",
       "\n",
       "         data_hora_gmt  satelite    municipio        estado    pais  \\\n",
       "0  2020-09-25T17:10:00  AQUA_M-T  CAPINÓPOLIS  MINAS GERAIS  Brasil   \n",
       "1  2020-09-25T17:10:00  AQUA_M-T  CAPINÓPOLIS  MINAS GERAIS  Brasil   \n",
       "2  2020-09-25T17:10:00  AQUA_M-T       TAPIRA  MINAS GERAIS  Brasil   \n",
       "3  2020-09-25T17:10:00  AQUA_M-T       TAPIRA  MINAS GERAIS  Brasil   \n",
       "4  2020-09-25T17:10:00  AQUA_M-T       TAPIRA  MINAS GERAIS  Brasil   \n",
       "\n",
       "   municipio_id  estado_id  pais_id  numero_dias_sem_chuva  precipitacao  \\\n",
       "0       3112604         31       33                      2           0.0   \n",
       "1       3112604         31       33                      2           0.0   \n",
       "2       3168101         31       33                      2           0.0   \n",
       "3       3168101         31       33                      2           0.0   \n",
       "4       3168101         31       33                      3           0.0   \n",
       "\n",
       "   risco_fogo    bioma                     geom  \n",
       "0         1.0  Cerrado  POINT (-18.624 -49.616)  \n",
       "1         1.0  Cerrado  POINT (-18.621 -49.612)  \n",
       "2         0.8  Cerrado      POINT (-20 -46.861)  \n",
       "3         0.7  Cerrado  POINT (-19.989 -46.863)  \n",
       "4         0.6  Cerrado  POINT (-19.997 -46.846)  "
      ]
     },
     "execution_count": 9,
     "metadata": {},
     "output_type": "execute_result"
    }
   ],
   "source": [
    "df.head()"
   ]
  },
  {
   "cell_type": "code",
   "execution_count": 14,
   "metadata": {},
   "outputs": [],
   "source": [
    "def replace(match):\n",
    "    data = {\"á\": \"a\", \"ã\" : \"a\", \"Á\": \"A\",\"Ã\" : \"A\", \"ç\": \"c\", \"ê\": \"e\", \"Ô\":\"O\", \"Ú\":\"U\", \"Ó\":\"O\"}\n",
    "    return data.get(match.group(0))"
   ]
  },
  {
   "cell_type": "code",
   "execution_count": 15,
   "metadata": {},
   "outputs": [
    {
     "data": {
      "text/html": [
       "<div style=\"width:100%;\"><div style=\"position:relative;width:100%;height:0;padding-bottom:60%;\"><span style=\"color:#565656\">Make this Notebook Trusted to load map: File -> Trust Notebook</span><iframe src=\"about:blank\" style=\"position:absolute;width:100%;height:100%;left:0;top:0;border:none !important;\" data-html=PCFET0NUWVBFIGh0bWw+CjxoZWFkPiAgICAKICAgIDxtZXRhIGh0dHAtZXF1aXY9ImNvbnRlbnQtdHlwZSIgY29udGVudD0idGV4dC9odG1sOyBjaGFyc2V0PVVURi04IiAvPgogICAgCiAgICAgICAgPHNjcmlwdD4KICAgICAgICAgICAgTF9OT19UT1VDSCA9IGZhbHNlOwogICAgICAgICAgICBMX0RJU0FCTEVfM0QgPSBmYWxzZTsKICAgICAgICA8L3NjcmlwdD4KICAgIAogICAgPHNjcmlwdCBzcmM9Imh0dHBzOi8vY2RuLmpzZGVsaXZyLm5ldC9ucG0vbGVhZmxldEAxLjYuMC9kaXN0L2xlYWZsZXQuanMiPjwvc2NyaXB0PgogICAgPHNjcmlwdCBzcmM9Imh0dHBzOi8vY29kZS5qcXVlcnkuY29tL2pxdWVyeS0xLjEyLjQubWluLmpzIj48L3NjcmlwdD4KICAgIDxzY3JpcHQgc3JjPSJodHRwczovL21heGNkbi5ib290c3RyYXBjZG4uY29tL2Jvb3RzdHJhcC8zLjIuMC9qcy9ib290c3RyYXAubWluLmpzIj48L3NjcmlwdD4KICAgIDxzY3JpcHQgc3JjPSJodHRwczovL2NkbmpzLmNsb3VkZmxhcmUuY29tL2FqYXgvbGlicy9MZWFmbGV0LmF3ZXNvbWUtbWFya2Vycy8yLjAuMi9sZWFmbGV0LmF3ZXNvbWUtbWFya2Vycy5qcyI+PC9zY3JpcHQ+CiAgICA8bGluayByZWw9InN0eWxlc2hlZXQiIGhyZWY9Imh0dHBzOi8vY2RuLmpzZGVsaXZyLm5ldC9ucG0vbGVhZmxldEAxLjYuMC9kaXN0L2xlYWZsZXQuY3NzIi8+CiAgICA8bGluayByZWw9InN0eWxlc2hlZXQiIGhyZWY9Imh0dHBzOi8vbWF4Y2RuLmJvb3RzdHJhcGNkbi5jb20vYm9vdHN0cmFwLzMuMi4wL2Nzcy9ib290c3RyYXAubWluLmNzcyIvPgogICAgPGxpbmsgcmVsPSJzdHlsZXNoZWV0IiBocmVmPSJodHRwczovL21heGNkbi5ib290c3RyYXBjZG4uY29tL2Jvb3RzdHJhcC8zLjIuMC9jc3MvYm9vdHN0cmFwLXRoZW1lLm1pbi5jc3MiLz4KICAgIDxsaW5rIHJlbD0ic3R5bGVzaGVldCIgaHJlZj0iaHR0cHM6Ly9tYXhjZG4uYm9vdHN0cmFwY2RuLmNvbS9mb250LWF3ZXNvbWUvNC42LjMvY3NzL2ZvbnQtYXdlc29tZS5taW4uY3NzIi8+CiAgICA8bGluayByZWw9InN0eWxlc2hlZXQiIGhyZWY9Imh0dHBzOi8vY2RuanMuY2xvdWRmbGFyZS5jb20vYWpheC9saWJzL0xlYWZsZXQuYXdlc29tZS1tYXJrZXJzLzIuMC4yL2xlYWZsZXQuYXdlc29tZS1tYXJrZXJzLmNzcyIvPgogICAgPGxpbmsgcmVsPSJzdHlsZXNoZWV0IiBocmVmPSJodHRwczovL3Jhd2Nkbi5naXRoYWNrLmNvbS9weXRob24tdmlzdWFsaXphdGlvbi9mb2xpdW0vbWFzdGVyL2ZvbGl1bS90ZW1wbGF0ZXMvbGVhZmxldC5hd2Vzb21lLnJvdGF0ZS5jc3MiLz4KICAgIDxzdHlsZT5odG1sLCBib2R5IHt3aWR0aDogMTAwJTtoZWlnaHQ6IDEwMCU7bWFyZ2luOiAwO3BhZGRpbmc6IDA7fTwvc3R5bGU+CiAgICA8c3R5bGU+I21hcCB7cG9zaXRpb246YWJzb2x1dGU7dG9wOjA7Ym90dG9tOjA7cmlnaHQ6MDtsZWZ0OjA7fTwvc3R5bGU+CiAgICAKICAgICAgICAgICAgPG1ldGEgbmFtZT0idmlld3BvcnQiIGNvbnRlbnQ9IndpZHRoPWRldmljZS13aWR0aCwKICAgICAgICAgICAgICAgIGluaXRpYWwtc2NhbGU9MS4wLCBtYXhpbXVtLXNjYWxlPTEuMCwgdXNlci1zY2FsYWJsZT1ubyIgLz4KICAgICAgICAgICAgPHN0eWxlPgogICAgICAgICAgICAgICAgI21hcF8wZDEyMzYyNmZmYWY0Y2E1YTFkNzczZWZiNGVlOWM0YSB7CiAgICAgICAgICAgICAgICAgICAgcG9zaXRpb246IHJlbGF0aXZlOwogICAgICAgICAgICAgICAgICAgIHdpZHRoOiA5MDAuMHB4OwogICAgICAgICAgICAgICAgICAgIGhlaWdodDogMTIwMC4wcHg7CiAgICAgICAgICAgICAgICAgICAgbGVmdDogMC4wJTsKICAgICAgICAgICAgICAgICAgICB0b3A6IDAuMCU7CiAgICAgICAgICAgICAgICB9CiAgICAgICAgICAgIDwvc3R5bGU+CiAgICAgICAgCjwvaGVhZD4KPGJvZHk+ICAgIAogICAgCiAgICAgICAgICAgIDxkaXYgY2xhc3M9ImZvbGl1bS1tYXAiIGlkPSJtYXBfMGQxMjM2MjZmZmFmNGNhNWExZDc3M2VmYjRlZTljNGEiID48L2Rpdj4KICAgICAgICAKPC9ib2R5Pgo8c2NyaXB0PiAgICAKICAgIAogICAgICAgICAgICB2YXIgbWFwXzBkMTIzNjI2ZmZhZjRjYTVhMWQ3NzNlZmI0ZWU5YzRhID0gTC5tYXAoCiAgICAgICAgICAgICAgICAibWFwXzBkMTIzNjI2ZmZhZjRjYTVhMWQ3NzNlZmI0ZWU5YzRhIiwKICAgICAgICAgICAgICAgIHsKICAgICAgICAgICAgICAgICAgICBjZW50ZXI6IFstMjMuNTQ4OSwgLTQ2LjYzODhdLAogICAgICAgICAgICAgICAgICAgIGNyczogTC5DUlMuRVBTRzM4NTcsCiAgICAgICAgICAgICAgICAgICAgem9vbTogNSwKICAgICAgICAgICAgICAgICAgICB6b29tQ29udHJvbDogdHJ1ZSwKICAgICAgICAgICAgICAgICAgICBwcmVmZXJDYW52YXM6IGZhbHNlLAogICAgICAgICAgICAgICAgICAgIHRpdGxlOiAiUXVlaW1hZGFzIC0gTWluYXMgR2VyYWlzIiwKICAgICAgICAgICAgICAgIH0KICAgICAgICAgICAgKTsKCiAgICAgICAgICAgIAoKICAgICAgICAKICAgIAogICAgICAgICAgICB2YXIgdGlsZV9sYXllcl9jYzNhNjliNDQwYjg0YjY2OThhYWVhZDM4M2ExNTViZiA9IEwudGlsZUxheWVyKAogICAgICAgICAgICAgICAgImh0dHBzOi8ve3N9LnRpbGUub3BlbnN0cmVldG1hcC5vcmcve3p9L3t4fS97eX0ucG5nIiwKICAgICAgICAgICAgICAgIHsiYXR0cmlidXRpb24iOiAiRGF0YSBieSBcdTAwMjZjb3B5OyBcdTAwM2NhIGhyZWY9XCJodHRwOi8vb3BlbnN0cmVldG1hcC5vcmdcIlx1MDAzZU9wZW5TdHJlZXRNYXBcdTAwM2MvYVx1MDAzZSwgdW5kZXIgXHUwMDNjYSBocmVmPVwiaHR0cDovL3d3dy5vcGVuc3RyZWV0bWFwLm9yZy9jb3B5cmlnaHRcIlx1MDAzZU9EYkxcdTAwM2MvYVx1MDAzZS4iLCAiZGV0ZWN0UmV0aW5hIjogZmFsc2UsICJtYXhOYXRpdmVab29tIjogMTgsICJtYXhab29tIjogMTgsICJtaW5ab29tIjogMCwgIm5vV3JhcCI6IGZhbHNlLCAib3BhY2l0eSI6IDEsICJzdWJkb21haW5zIjogImFiYyIsICJ0bXMiOiBmYWxzZX0KICAgICAgICAgICAgKS5hZGRUbyhtYXBfMGQxMjM2MjZmZmFmNGNhNWExZDc3M2VmYjRlZTljNGEpOwogICAgICAgIAogICAgCiAgICAgICAgICAgIHZhciBmZWF0dXJlX2dyb3VwXzNlNjhmYmVlZDRlNTQ1NmZhYmIxNGNjOWIyOWRjMDg4ID0gTC5mZWF0dXJlR3JvdXAoCiAgICAgICAgICAgICAgICB7fQogICAgICAgICAgICApLmFkZFRvKG1hcF8wZDEyMzYyNmZmYWY0Y2E1YTFkNzczZWZiNGVlOWM0YSk7CiAgICAgICAgCiAgICAKICAgICAgICAgICAgdmFyIG1hcmtlcl9lNDc2ODE3ZGZlMDQ0ZTMzYThkMjhlMjgwOWVlNjQ4NSA9IEwubWFya2VyKAogICAgICAgICAgICAgICAgWy0xOC42MjQwMDAwMDAwMDAwMDIsIC00OS42MTYwMDAwMDAwMDAwMV0sCiAgICAgICAgICAgICAgICB7fQogICAgICAgICAgICApLmFkZFRvKGZlYXR1cmVfZ3JvdXBfM2U2OGZiZWVkNGU1NDU2ZmFiYjE0Y2M5YjI5ZGMwODgpOwogICAgICAgIAogICAgCiAgICAgICAgICAgIHZhciBpY29uXzQ1ZjQyMzQyYzkyYjQyMzlhZDU3MTdmNWY0NDU0ODU5ID0gTC5Bd2Vzb21lTWFya2Vycy5pY29uKAogICAgICAgICAgICAgICAgeyJleHRyYUNsYXNzZXMiOiAiZmEtcm90YXRlLTAiLCAiaWNvbiI6ICJmaXJlIiwgImljb25Db2xvciI6ICJ3aGl0ZSIsICJtYXJrZXJDb2xvciI6ICJyZWQiLCAicHJlZml4IjogImdseXBoaWNvbiJ9CiAgICAgICAgICAgICk7CiAgICAgICAgICAgIG1hcmtlcl9lNDc2ODE3ZGZlMDQ0ZTMzYThkMjhlMjgwOWVlNjQ4NS5zZXRJY29uKGljb25fNDVmNDIzNDJjOTJiNDIzOWFkNTcxN2Y1ZjQ0NTQ4NTkpOwogICAgICAgIAogICAgCiAgICAgICAgdmFyIHBvcHVwXzllNGI5MDFlMWIwYjQ1YTQ4ZTc2MGNmZjFhODZlNjMxID0gTC5wb3B1cCh7Im1heFdpZHRoIjogIjEwMCUifSk7CgogICAgICAgIAogICAgICAgICAgICB2YXIgaHRtbF8wZWE1YzBiZTkwODg0MWNmOWI3NTczMjFhYzE0YmFiMyA9ICQoYDxkaXYgaWQ9Imh0bWxfMGVhNWMwYmU5MDg4NDFjZjliNzU3MzIxYWMxNGJhYjMiIHN0eWxlPSJ3aWR0aDogMTAwLjAlOyBoZWlnaHQ6IDEwMC4wJTsiPlsnQ0FQSU5PUE9MSVMnLCAnTUlOQVMgR0VSQUlTJ108L2Rpdj5gKVswXTsKICAgICAgICAgICAgcG9wdXBfOWU0YjkwMWUxYjBiNDVhNDhlNzYwY2ZmMWE4NmU2MzEuc2V0Q29udGVudChodG1sXzBlYTVjMGJlOTA4ODQxY2Y5Yjc1NzMyMWFjMTRiYWIzKTsKICAgICAgICAKCiAgICAgICAgbWFya2VyX2U0NzY4MTdkZmUwNDRlMzNhOGQyOGUyODA5ZWU2NDg1LmJpbmRQb3B1cChwb3B1cF85ZTRiOTAxZTFiMGI0NWE0OGU3NjBjZmYxYTg2ZTYzMSkKICAgICAgICA7CgogICAgICAgIAogICAgCiAgICAKICAgICAgICAgICAgdmFyIG1hcmtlcl9hNmNiMDNmMDY1OGI0YTE4YTFmYzJmMjI4MzNmNWIyYiA9IEwubWFya2VyKAogICAgICAgICAgICAgICAgWy0xOC42MjEsIC00OS42MTE5OTk5OTk5OTk5OTVdLAogICAgICAgICAgICAgICAge30KICAgICAgICAgICAgKS5hZGRUbyhmZWF0dXJlX2dyb3VwXzNlNjhmYmVlZDRlNTQ1NmZhYmIxNGNjOWIyOWRjMDg4KTsKICAgICAgICAKICAgIAogICAgICAgICAgICB2YXIgaWNvbl8zMzBhOGM5MGI5NWM0ODIyOTQwOTRkZDZlMDkxMmVmOCA9IEwuQXdlc29tZU1hcmtlcnMuaWNvbigKICAgICAgICAgICAgICAgIHsiZXh0cmFDbGFzc2VzIjogImZhLXJvdGF0ZS0wIiwgImljb24iOiAiZmlyZSIsICJpY29uQ29sb3IiOiAid2hpdGUiLCAibWFya2VyQ29sb3IiOiAicmVkIiwgInByZWZpeCI6ICJnbHlwaGljb24ifQogICAgICAgICAgICApOwogICAgICAgICAgICBtYXJrZXJfYTZjYjAzZjA2NThiNGExOGExZmMyZjIyODMzZjViMmIuc2V0SWNvbihpY29uXzMzMGE4YzkwYjk1YzQ4MjI5NDA5NGRkNmUwOTEyZWY4KTsKICAgICAgICAKICAgIAogICAgICAgIHZhciBwb3B1cF85YTUxNjc2Y2RmNmI0ODgwODdkMWNmMGE3ZjE2NTg2NyA9IEwucG9wdXAoeyJtYXhXaWR0aCI6ICIxMDAlIn0pOwoKICAgICAgICAKICAgICAgICAgICAgdmFyIGh0bWxfZmI5OGVhZDI4NDZkNDdlMmJhYTk1NDNjOTI3ZGFiY2UgPSAkKGA8ZGl2IGlkPSJodG1sX2ZiOThlYWQyODQ2ZDQ3ZTJiYWE5NTQzYzkyN2RhYmNlIiBzdHlsZT0id2lkdGg6IDEwMC4wJTsgaGVpZ2h0OiAxMDAuMCU7Ij5bJ0NBUElOT1BPTElTJywgJ01JTkFTIEdFUkFJUyddPC9kaXY+YClbMF07CiAgICAgICAgICAgIHBvcHVwXzlhNTE2NzZjZGY2YjQ4ODA4N2QxY2YwYTdmMTY1ODY3LnNldENvbnRlbnQoaHRtbF9mYjk4ZWFkMjg0NmQ0N2UyYmFhOTU0M2M5MjdkYWJjZSk7CiAgICAgICAgCgogICAgICAgIG1hcmtlcl9hNmNiMDNmMDY1OGI0YTE4YTFmYzJmMjI4MzNmNWIyYi5iaW5kUG9wdXAocG9wdXBfOWE1MTY3NmNkZjZiNDg4MDg3ZDFjZjBhN2YxNjU4NjcpCiAgICAgICAgOwoKICAgICAgICAKICAgIAogICAgCiAgICAgICAgICAgIHZhciBtYXJrZXJfNWJmOGIzMzRiZDA3NDVkMjlkODE0MmViNjQwNmZjMTMgPSBMLm1hcmtlcigKICAgICAgICAgICAgICAgIFstMjAuMCwgLTQ2Ljg2MTAwMDAwMDAwMDAwNF0sCiAgICAgICAgICAgICAgICB7fQogICAgICAgICAgICApLmFkZFRvKGZlYXR1cmVfZ3JvdXBfM2U2OGZiZWVkNGU1NDU2ZmFiYjE0Y2M5YjI5ZGMwODgpOwogICAgICAgIAogICAgCiAgICAgICAgICAgIHZhciBpY29uXzIzNmExNTgyYWZiZjQ1YmU5YmFhMTQxYWQ2NjMyMGFmID0gTC5Bd2Vzb21lTWFya2Vycy5pY29uKAogICAgICAgICAgICAgICAgeyJleHRyYUNsYXNzZXMiOiAiZmEtcm90YXRlLTAiLCAiaWNvbiI6ICJmaXJlIiwgImljb25Db2xvciI6ICJ3aGl0ZSIsICJtYXJrZXJDb2xvciI6ICJyZWQiLCAicHJlZml4IjogImdseXBoaWNvbiJ9CiAgICAgICAgICAgICk7CiAgICAgICAgICAgIG1hcmtlcl81YmY4YjMzNGJkMDc0NWQyOWQ4MTQyZWI2NDA2ZmMxMy5zZXRJY29uKGljb25fMjM2YTE1ODJhZmJmNDViZTliYWExNDFhZDY2MzIwYWYpOwogICAgICAgIAogICAgCiAgICAgICAgdmFyIHBvcHVwXzYxYThlN2VkZmVjNzQzZGNhNDFlMmNiMmEzYTYzMmNmID0gTC5wb3B1cCh7Im1heFdpZHRoIjogIjEwMCUifSk7CgogICAgICAgIAogICAgICAgICAgICB2YXIgaHRtbF9jZTg4ZjY4OWI2Zjg0M2M4OTU4MTk1ZDc3YzNlMWQ0YiA9ICQoYDxkaXYgaWQ9Imh0bWxfY2U4OGY2ODliNmY4NDNjODk1ODE5NWQ3N2MzZTFkNGIiIHN0eWxlPSJ3aWR0aDogMTAwLjAlOyBoZWlnaHQ6IDEwMC4wJTsiPlsnVEFQSVJBJywgJ01JTkFTIEdFUkFJUyddPC9kaXY+YClbMF07CiAgICAgICAgICAgIHBvcHVwXzYxYThlN2VkZmVjNzQzZGNhNDFlMmNiMmEzYTYzMmNmLnNldENvbnRlbnQoaHRtbF9jZTg4ZjY4OWI2Zjg0M2M4OTU4MTk1ZDc3YzNlMWQ0Yik7CiAgICAgICAgCgogICAgICAgIG1hcmtlcl81YmY4YjMzNGJkMDc0NWQyOWQ4MTQyZWI2NDA2ZmMxMy5iaW5kUG9wdXAocG9wdXBfNjFhOGU3ZWRmZWM3NDNkY2E0MWUyY2IyYTNhNjMyY2YpCiAgICAgICAgOwoKICAgICAgICAKICAgIAogICAgCiAgICAgICAgICAgIHZhciBtYXJrZXJfNjQxOWFlMjI1N2RkNGRkZDkyNTBhYzQ5ZGRkOTA2ODAgPSBMLm1hcmtlcigKICAgICAgICAgICAgICAgIFstMTkuOTg5LCAtNDYuODYzXSwKICAgICAgICAgICAgICAgIHt9CiAgICAgICAgICAgICkuYWRkVG8oZmVhdHVyZV9ncm91cF8zZTY4ZmJlZWQ0ZTU0NTZmYWJiMTRjYzliMjlkYzA4OCk7CiAgICAgICAgCiAgICAKICAgICAgICAgICAgdmFyIGljb25fYjJmMmQ0ZmU4ZGZmNDAwMGFkNzYxZGVlYzNlMWE0MzcgPSBMLkF3ZXNvbWVNYXJrZXJzLmljb24oCiAgICAgICAgICAgICAgICB7ImV4dHJhQ2xhc3NlcyI6ICJmYS1yb3RhdGUtMCIsICJpY29uIjogImZpcmUiLCAiaWNvbkNvbG9yIjogIndoaXRlIiwgIm1hcmtlckNvbG9yIjogInJlZCIsICJwcmVmaXgiOiAiZ2x5cGhpY29uIn0KICAgICAgICAgICAgKTsKICAgICAgICAgICAgbWFya2VyXzY0MTlhZTIyNTdkZDRkZGQ5MjUwYWM0OWRkZDkwNjgwLnNldEljb24oaWNvbl9iMmYyZDRmZThkZmY0MDAwYWQ3NjFkZWVjM2UxYTQzNyk7CiAgICAgICAgCiAgICAKICAgICAgICB2YXIgcG9wdXBfOWY2MjI0ZDZiNTRiNDgxYjkzZWQxNmVkZDczNTNhMTEgPSBMLnBvcHVwKHsibWF4V2lkdGgiOiAiMTAwJSJ9KTsKCiAgICAgICAgCiAgICAgICAgICAgIHZhciBodG1sXzA5YzIwMDQ0ZGYwODQ0ZTU4MTQ5OGZmODQwN2E3YmQxID0gJChgPGRpdiBpZD0iaHRtbF8wOWMyMDA0NGRmMDg0NGU1ODE0OThmZjg0MDdhN2JkMSIgc3R5bGU9IndpZHRoOiAxMDAuMCU7IGhlaWdodDogMTAwLjAlOyI+WydUQVBJUkEnLCAnTUlOQVMgR0VSQUlTJ108L2Rpdj5gKVswXTsKICAgICAgICAgICAgcG9wdXBfOWY2MjI0ZDZiNTRiNDgxYjkzZWQxNmVkZDczNTNhMTEuc2V0Q29udGVudChodG1sXzA5YzIwMDQ0ZGYwODQ0ZTU4MTQ5OGZmODQwN2E3YmQxKTsKICAgICAgICAKCiAgICAgICAgbWFya2VyXzY0MTlhZTIyNTdkZDRkZGQ5MjUwYWM0OWRkZDkwNjgwLmJpbmRQb3B1cChwb3B1cF85ZjYyMjRkNmI1NGI0ODFiOTNlZDE2ZWRkNzM1M2ExMSkKICAgICAgICA7CgogICAgICAgIAogICAgCiAgICAKICAgICAgICAgICAgdmFyIG1hcmtlcl8xMDM3NTQ3NGRjMjQ0OGRjODAwZDA1MTI1NTU3OTM1ZiA9IEwubWFya2VyKAogICAgICAgICAgICAgICAgWy0xOS45OTcsIC00Ni44NDYwMDAwMDAwMDAwMDRdLAogICAgICAgICAgICAgICAge30KICAgICAgICAgICAgKS5hZGRUbyhmZWF0dXJlX2dyb3VwXzNlNjhmYmVlZDRlNTQ1NmZhYmIxNGNjOWIyOWRjMDg4KTsKICAgICAgICAKICAgIAogICAgICAgICAgICB2YXIgaWNvbl9mNDBkODBmODRjOWQ0NWEwYjBmNTc4OTM5NTkwMzNkMSA9IEwuQXdlc29tZU1hcmtlcnMuaWNvbigKICAgICAgICAgICAgICAgIHsiZXh0cmFDbGFzc2VzIjogImZhLXJvdGF0ZS0wIiwgImljb24iOiAiZmlyZSIsICJpY29uQ29sb3IiOiAid2hpdGUiLCAibWFya2VyQ29sb3IiOiAicmVkIiwgInByZWZpeCI6ICJnbHlwaGljb24ifQogICAgICAgICAgICApOwogICAgICAgICAgICBtYXJrZXJfMTAzNzU0NzRkYzI0NDhkYzgwMGQwNTEyNTU1NzkzNWYuc2V0SWNvbihpY29uX2Y0MGQ4MGY4NGM5ZDQ1YTBiMGY1Nzg5Mzk1OTAzM2QxKTsKICAgICAgICAKICAgIAogICAgICAgIHZhciBwb3B1cF84MDEyZDdjYzVkZWQ0MzhlOWE4Y2I3OWZmOWVmN2U2YSA9IEwucG9wdXAoeyJtYXhXaWR0aCI6ICIxMDAlIn0pOwoKICAgICAgICAKICAgICAgICAgICAgdmFyIGh0bWxfNjMxOWJiNGUxODE0NGVlOThlNDA2ODliMjQyNzk0NjggPSAkKGA8ZGl2IGlkPSJodG1sXzYzMTliYjRlMTgxNDRlZTk4ZTQwNjg5YjI0Mjc5NDY4IiBzdHlsZT0id2lkdGg6IDEwMC4wJTsgaGVpZ2h0OiAxMDAuMCU7Ij5bJ1RBUElSQScsICdNSU5BUyBHRVJBSVMnXTwvZGl2PmApWzBdOwogICAgICAgICAgICBwb3B1cF84MDEyZDdjYzVkZWQ0MzhlOWE4Y2I3OWZmOWVmN2U2YS5zZXRDb250ZW50KGh0bWxfNjMxOWJiNGUxODE0NGVlOThlNDA2ODliMjQyNzk0NjgpOwogICAgICAgIAoKICAgICAgICBtYXJrZXJfMTAzNzU0NzRkYzI0NDhkYzgwMGQwNTEyNTU1NzkzNWYuYmluZFBvcHVwKHBvcHVwXzgwMTJkN2NjNWRlZDQzOGU5YThjYjc5ZmY5ZWY3ZTZhKQogICAgICAgIDsKCiAgICAgICAgCiAgICAKICAgIAogICAgICAgICAgICB2YXIgbWFya2VyX2NjYzFiZDAxNTc3MDQ2MDJhZTdkM2M3NmU0ODQ2NWZlID0gTC5tYXJrZXIoCiAgICAgICAgICAgICAgICBbLTE5LjksIC00Ni44MjVdLAogICAgICAgICAgICAgICAge30KICAgICAgICAgICAgKS5hZGRUbyhmZWF0dXJlX2dyb3VwXzNlNjhmYmVlZDRlNTQ1NmZhYmIxNGNjOWIyOWRjMDg4KTsKICAgICAgICAKICAgIAogICAgICAgICAgICB2YXIgaWNvbl9jYjYzNGM2OTFiOGE0NTgzYjhjMDFjMWVlODk3MGNkMCA9IEwuQXdlc29tZU1hcmtlcnMuaWNvbigKICAgICAgICAgICAgICAgIHsiZXh0cmFDbGFzc2VzIjogImZhLXJvdGF0ZS0wIiwgImljb24iOiAiZmlyZSIsICJpY29uQ29sb3IiOiAid2hpdGUiLCAibWFya2VyQ29sb3IiOiAicmVkIiwgInByZWZpeCI6ICJnbHlwaGljb24ifQogICAgICAgICAgICApOwogICAgICAgICAgICBtYXJrZXJfY2NjMWJkMDE1NzcwNDYwMmFlN2QzYzc2ZTQ4NDY1ZmUuc2V0SWNvbihpY29uX2NiNjM0YzY5MWI4YTQ1ODNiOGMwMWMxZWU4OTcwY2QwKTsKICAgICAgICAKICAgIAogICAgICAgIHZhciBwb3B1cF8wMjE1NzE4YTM3NWQ0Zjk3YjMxYTc4OWVjMTUzNjY4YSA9IEwucG9wdXAoeyJtYXhXaWR0aCI6ICIxMDAlIn0pOwoKICAgICAgICAKICAgICAgICAgICAgdmFyIGh0bWxfMzliOTdhMDk5Y2IyNGRlYzkxOTJlOTVjYmNiMzZlNjQgPSAkKGA8ZGl2IGlkPSJodG1sXzM5Yjk3YTA5OWNiMjRkZWM5MTkyZTk1Y2JjYjM2ZTY0IiBzdHlsZT0id2lkdGg6IDEwMC4wJTsgaGVpZ2h0OiAxMDAuMCU7Ij5bJ1RBUElSQScsICdNSU5BUyBHRVJBSVMnXTwvZGl2PmApWzBdOwogICAgICAgICAgICBwb3B1cF8wMjE1NzE4YTM3NWQ0Zjk3YjMxYTc4OWVjMTUzNjY4YS5zZXRDb250ZW50KGh0bWxfMzliOTdhMDk5Y2IyNGRlYzkxOTJlOTVjYmNiMzZlNjQpOwogICAgICAgIAoKICAgICAgICBtYXJrZXJfY2NjMWJkMDE1NzcwNDYwMmFlN2QzYzc2ZTQ4NDY1ZmUuYmluZFBvcHVwKHBvcHVwXzAyMTU3MThhMzc1ZDRmOTdiMzFhNzg5ZWMxNTM2NjhhKQogICAgICAgIDsKCiAgICAgICAgCiAgICAKICAgIAogICAgICAgICAgICB2YXIgbWFya2VyXzFiODVlOWYyYmQyYTQxYzA5YWI0MTIzN2YyZWJlNTU5ID0gTC5tYXJrZXIoCiAgICAgICAgICAgICAgICBbLTE5Ljg4MywgLTQ0LjkyMl0sCiAgICAgICAgICAgICAgICB7fQogICAgICAgICAgICApLmFkZFRvKGZlYXR1cmVfZ3JvdXBfM2U2OGZiZWVkNGU1NDU2ZmFiYjE0Y2M5YjI5ZGMwODgpOwogICAgICAgIAogICAgCiAgICAgICAgICAgIHZhciBpY29uXzNlMzdjNTRlMTA1YjQ0YTdiYzRhNjFjYTUzOWJmMzc0ID0gTC5Bd2Vzb21lTWFya2Vycy5pY29uKAogICAgICAgICAgICAgICAgeyJleHRyYUNsYXNzZXMiOiAiZmEtcm90YXRlLTAiLCAiaWNvbiI6ICJmaXJlIiwgImljb25Db2xvciI6ICJ3aGl0ZSIsICJtYXJrZXJDb2xvciI6ICJyZWQiLCAicHJlZml4IjogImdseXBoaWNvbiJ9CiAgICAgICAgICAgICk7CiAgICAgICAgICAgIG1hcmtlcl8xYjg1ZTlmMmJkMmE0MWMwOWFiNDEyMzdmMmViZTU1OS5zZXRJY29uKGljb25fM2UzN2M1NGUxMDViNDRhN2JjNGE2MWNhNTM5YmYzNzQpOwogICAgICAgIAogICAgCiAgICAgICAgdmFyIHBvcHVwX2E0ODdjOTgyZTI5ZjRjMGQ5YzAyYzAyNzJmYTM3YjA3ID0gTC5wb3B1cCh7Im1heFdpZHRoIjogIjEwMCUifSk7CgogICAgICAgIAogICAgICAgICAgICB2YXIgaHRtbF82YmQwNTYxNTkxYWU0NzZmOGYwODc0NjkwZjJiNjBhZSA9ICQoYDxkaXYgaWQ9Imh0bWxfNmJkMDU2MTU5MWFlNDc2ZjhmMDg3NDY5MGYyYjYwYWUiIHN0eWxlPSJ3aWR0aDogMTAwLjAlOyBoZWlnaHQ6IDEwMC4wJTsiPlsnTk9WQSBTRVJSQU5BJywgJ01JTkFTIEdFUkFJUyddPC9kaXY+YClbMF07CiAgICAgICAgICAgIHBvcHVwX2E0ODdjOTgyZTI5ZjRjMGQ5YzAyYzAyNzJmYTM3YjA3LnNldENvbnRlbnQoaHRtbF82YmQwNTYxNTkxYWU0NzZmOGYwODc0NjkwZjJiNjBhZSk7CiAgICAgICAgCgogICAgICAgIG1hcmtlcl8xYjg1ZTlmMmJkMmE0MWMwOWFiNDEyMzdmMmViZTU1OS5iaW5kUG9wdXAocG9wdXBfYTQ4N2M5ODJlMjlmNGMwZDljMDJjMDI3MmZhMzdiMDcpCiAgICAgICAgOwoKICAgICAgICAKICAgIAogICAgCiAgICAgICAgICAgIHZhciBtYXJrZXJfZTk1MTdmYzU4OTYzNDJmZDgzMzYyZjBmMzA5MTI1OWQgPSBMLm1hcmtlcigKICAgICAgICAgICAgICAgIFstMTkuNjMsIC00Ny4zMTg5OTk5OTk5OTk5OTZdLAogICAgICAgICAgICAgICAge30KICAgICAgICAgICAgKS5hZGRUbyhmZWF0dXJlX2dyb3VwXzNlNjhmYmVlZDRlNTQ1NmZhYmIxNGNjOWIyOWRjMDg4KTsKICAgICAgICAKICAgIAogICAgICAgICAgICB2YXIgaWNvbl84MmRmOGQyNWY1YTY0ZjEyYWYyNmMwZDhiZjM1ODlhZSA9IEwuQXdlc29tZU1hcmtlcnMuaWNvbigKICAgICAgICAgICAgICAgIHsiZXh0cmFDbGFzc2VzIjogImZhLXJvdGF0ZS0wIiwgImljb24iOiAiZmlyZSIsICJpY29uQ29sb3IiOiAid2hpdGUiLCAibWFya2VyQ29sb3IiOiAicmVkIiwgInByZWZpeCI6ICJnbHlwaGljb24ifQogICAgICAgICAgICApOwogICAgICAgICAgICBtYXJrZXJfZTk1MTdmYzU4OTYzNDJmZDgzMzYyZjBmMzA5MTI1OWQuc2V0SWNvbihpY29uXzgyZGY4ZDI1ZjVhNjRmMTJhZjI2YzBkOGJmMzU4OWFlKTsKICAgICAgICAKICAgIAogICAgICAgIHZhciBwb3B1cF84M2E2MDM3M2QxMmU0YTE5OWY4YzllNTY5YzI0MGJjMSA9IEwucG9wdXAoeyJtYXhXaWR0aCI6ICIxMDAlIn0pOwoKICAgICAgICAKICAgICAgICAgICAgdmFyIGh0bWxfOTRmNjY2NzU4ODFkNDI4MTkzOGRjOWViNzI1MzgwZTUgPSAkKGA8ZGl2IGlkPSJodG1sXzk0ZjY2Njc1ODgxZDQyODE5MzhkYzllYjcyNTM4MGU1IiBzdHlsZT0id2lkdGg6IDEwMC4wJTsgaGVpZ2h0OiAxMDAuMCU7Ij5bJ1BFUkRJWkVTJywgJ01JTkFTIEdFUkFJUyddPC9kaXY+YClbMF07CiAgICAgICAgICAgIHBvcHVwXzgzYTYwMzczZDEyZTRhMTk5ZjhjOWU1NjljMjQwYmMxLnNldENvbnRlbnQoaHRtbF85NGY2NjY3NTg4MWQ0MjgxOTM4ZGM5ZWI3MjUzODBlNSk7CiAgICAgICAgCgogICAgICAgIG1hcmtlcl9lOTUxN2ZjNTg5NjM0MmZkODMzNjJmMGYzMDkxMjU5ZC5iaW5kUG9wdXAocG9wdXBfODNhNjAzNzNkMTJlNGExOTlmOGM5ZTU2OWMyNDBiYzEpCiAgICAgICAgOwoKICAgICAgICAKICAgIAogICAgCiAgICAgICAgICAgIHZhciBtYXJrZXJfYjNiZjM2NjZhMzhjNDgwMzg4YjRjN2YyYjI3YWYxZmUgPSBMLm1hcmtlcigKICAgICAgICAgICAgICAgIFstMTkuNjEzLCAtNDUuOTAyXSwKICAgICAgICAgICAgICAgIHt9CiAgICAgICAgICAgICkuYWRkVG8oZmVhdHVyZV9ncm91cF8zZTY4ZmJlZWQ0ZTU0NTZmYWJiMTRjYzliMjlkYzA4OCk7CiAgICAgICAgCiAgICAKICAgICAgICAgICAgdmFyIGljb25fMTUxMWRjMTVhMzIyNDdhZmFiMTZhZDNhZTQxMzUxNzUgPSBMLkF3ZXNvbWVNYXJrZXJzLmljb24oCiAgICAgICAgICAgICAgICB7ImV4dHJhQ2xhc3NlcyI6ICJmYS1yb3RhdGUtMCIsICJpY29uIjogImZpcmUiLCAiaWNvbkNvbG9yIjogIndoaXRlIiwgIm1hcmtlckNvbG9yIjogInJlZCIsICJwcmVmaXgiOiAiZ2x5cGhpY29uIn0KICAgICAgICAgICAgKTsKICAgICAgICAgICAgbWFya2VyX2IzYmYzNjY2YTM4YzQ4MDM4OGI0YzdmMmIyN2FmMWZlLnNldEljb24oaWNvbl8xNTExZGMxNWEzMjI0N2FmYWIxNmFkM2FlNDEzNTE3NSk7CiAgICAgICAgCiAgICAKICAgICAgICB2YXIgcG9wdXBfODkxNTAxMTliZjljNDI4ZDhiOTYwMTc5MmVmMjcxYjUgPSBMLnBvcHVwKHsibWF4V2lkdGgiOiAiMTAwJSJ9KTsKCiAgICAgICAgCiAgICAgICAgICAgIHZhciBodG1sXzliZjI4NDM2ODRkYzQzNjY4ZWIxYTcxODZiYjEzYzljID0gJChgPGRpdiBpZD0iaHRtbF85YmYyODQzNjg0ZGM0MzY2OGViMWE3MTg2YmIxM2M5YyIgc3R5bGU9IndpZHRoOiAxMDAuMCU7IGhlaWdodDogMTAwLjAlOyI+WydFU1RSRUxBIERPIElOREFJQScsICdNSU5BUyBHRVJBSVMnXTwvZGl2PmApWzBdOwogICAgICAgICAgICBwb3B1cF84OTE1MDExOWJmOWM0MjhkOGI5NjAxNzkyZWYyNzFiNS5zZXRDb250ZW50KGh0bWxfOWJmMjg0MzY4NGRjNDM2NjhlYjFhNzE4NmJiMTNjOWMpOwogICAgICAgIAoKICAgICAgICBtYXJrZXJfYjNiZjM2NjZhMzhjNDgwMzg4YjRjN2YyYjI3YWYxZmUuYmluZFBvcHVwKHBvcHVwXzg5MTUwMTE5YmY5YzQyOGQ4Yjk2MDE3OTJlZjI3MWI1KQogICAgICAgIDsKCiAgICAgICAgCiAgICAKICAgIAogICAgICAgICAgICB2YXIgbWFya2VyXzdlODE2ZjZkOTYyYzRhYTJhYmUwZjZjZWZkY2YyZDI4ID0gTC5tYXJrZXIoCiAgICAgICAgICAgICAgICBbLTE5LjMyMiwgLTQ3LjQxNjAwMDAwMDAwMDAwNF0sCiAgICAgICAgICAgICAgICB7fQogICAgICAgICAgICApLmFkZFRvKGZlYXR1cmVfZ3JvdXBfM2U2OGZiZWVkNGU1NDU2ZmFiYjE0Y2M5YjI5ZGMwODgpOwogICAgICAgIAogICAgCiAgICAgICAgICAgIHZhciBpY29uX2NlMzU5MWU4YWQ0MzRjYTQ5Zjk3ZmE5YzJhOWJhMjUxID0gTC5Bd2Vzb21lTWFya2Vycy5pY29uKAogICAgICAgICAgICAgICAgeyJleHRyYUNsYXNzZXMiOiAiZmEtcm90YXRlLTAiLCAiaWNvbiI6ICJmaXJlIiwgImljb25Db2xvciI6ICJ3aGl0ZSIsICJtYXJrZXJDb2xvciI6ICJyZWQiLCAicHJlZml4IjogImdseXBoaWNvbiJ9CiAgICAgICAgICAgICk7CiAgICAgICAgICAgIG1hcmtlcl83ZTgxNmY2ZDk2MmM0YWEyYWJlMGY2Y2VmZGNmMmQyOC5zZXRJY29uKGljb25fY2UzNTkxZThhZDQzNGNhNDlmOTdmYTljMmE5YmEyNTEpOwogICAgICAgIAogICAgCiAgICAgICAgdmFyIHBvcHVwX2QwZWJiMjJiMmRmYzRlMTBiYzdjNjM3MGM2NDBiYWE1ID0gTC5wb3B1cCh7Im1heFdpZHRoIjogIjEwMCUifSk7CgogICAgICAgIAogICAgICAgICAgICB2YXIgaHRtbF9hMTE2MzA1ZDNkZTY0MWQxOGQ5ZGJmNmMxZjVjOTAzYiA9ICQoYDxkaXYgaWQ9Imh0bWxfYTExNjMwNWQzZGU2NDFkMThkOWRiZjZjMWY1YzkwM2IiIHN0eWxlPSJ3aWR0aDogMTAwLjAlOyBoZWlnaHQ6IDEwMC4wJTsiPlsnU0FOVEEgSlVMSUFOQScsICdNSU5BUyBHRVJBSVMnXTwvZGl2PmApWzBdOwogICAgICAgICAgICBwb3B1cF9kMGViYjIyYjJkZmM0ZTEwYmM3YzYzNzBjNjQwYmFhNS5zZXRDb250ZW50KGh0bWxfYTExNjMwNWQzZGU2NDFkMThkOWRiZjZjMWY1YzkwM2IpOwogICAgICAgIAoKICAgICAgICBtYXJrZXJfN2U4MTZmNmQ5NjJjNGFhMmFiZTBmNmNlZmRjZjJkMjguYmluZFBvcHVwKHBvcHVwX2QwZWJiMjJiMmRmYzRlMTBiYzdjNjM3MGM2NDBiYWE1KQogICAgICAgIDsKCiAgICAgICAgCiAgICAKICAgIAogICAgICAgICAgICB2YXIgbWFya2VyXzA2YWE1MDRkODhmNjQzZjhhMDBmODA4NWI1MGY1MzZlID0gTC5tYXJrZXIoCiAgICAgICAgICAgICAgICBbLTE4LjQ4NCwgLTQ3LjI0M10sCiAgICAgICAgICAgICAgICB7fQogICAgICAgICAgICApLmFkZFRvKGZlYXR1cmVfZ3JvdXBfM2U2OGZiZWVkNGU1NDU2ZmFiYjE0Y2M5YjI5ZGMwODgpOwogICAgICAgIAogICAgCiAgICAgICAgICAgIHZhciBpY29uXzcyN2Q1YjJlMmEzNTRmNzk4NmNhYjczMGNmZmJkYTAyID0gTC5Bd2Vzb21lTWFya2Vycy5pY29uKAogICAgICAgICAgICAgICAgeyJleHRyYUNsYXNzZXMiOiAiZmEtcm90YXRlLTAiLCAiaWNvbiI6ICJmaXJlIiwgImljb25Db2xvciI6ICJ3aGl0ZSIsICJtYXJrZXJDb2xvciI6ICJyZWQiLCAicHJlZml4IjogImdseXBoaWNvbiJ9CiAgICAgICAgICAgICk7CiAgICAgICAgICAgIG1hcmtlcl8wNmFhNTA0ZDg4ZjY0M2Y4YTAwZjgwODViNTBmNTM2ZS5zZXRJY29uKGljb25fNzI3ZDViMmUyYTM1NGY3OTg2Y2FiNzMwY2ZmYmRhMDIpOwogICAgICAgIAogICAgCiAgICAgICAgdmFyIHBvcHVwX2M5M2U2MWQ0ZWJmZjQyOGVhM2M2N2IzNWQyZDAxMjg2ID0gTC5wb3B1cCh7Im1heFdpZHRoIjogIjEwMCUifSk7CgogICAgICAgIAogICAgICAgICAgICB2YXIgaHRtbF8zZDNjZjQwZmYyYTM0ZGM1OGZkZDE2ZDI2OGMxMjMzOSA9ICQoYDxkaXYgaWQ9Imh0bWxfM2QzY2Y0MGZmMmEzNGRjNThmZGQxNmQyNjhjMTIzMzkiIHN0eWxlPSJ3aWR0aDogMTAwLjAlOyBoZWlnaHQ6IDEwMC4wJTsiPlsnQ09ST01BTkRFTCcsICdNSU5BUyBHRVJBSVMnXTwvZGl2PmApWzBdOwogICAgICAgICAgICBwb3B1cF9jOTNlNjFkNGViZmY0MjhlYTNjNjdiMzVkMmQwMTI4Ni5zZXRDb250ZW50KGh0bWxfM2QzY2Y0MGZmMmEzNGRjNThmZGQxNmQyNjhjMTIzMzkpOwogICAgICAgIAoKICAgICAgICBtYXJrZXJfMDZhYTUwNGQ4OGY2NDNmOGEwMGY4MDg1YjUwZjUzNmUuYmluZFBvcHVwKHBvcHVwX2M5M2U2MWQ0ZWJmZjQyOGVhM2M2N2IzNWQyZDAxMjg2KQogICAgICAgIDsKCiAgICAgICAgCiAgICAKICAgIAogICAgICAgICAgICB2YXIgbWFya2VyXzRmMTM1NzY4MDUzNjQzYThhN2FkNWNjNTk5YTA0N2Q2ID0gTC5tYXJrZXIoCiAgICAgICAgICAgICAgICBbLTE4LjQ4MDk5OTk5OTk5OTk5OCwgLTQ3LjIyOF0sCiAgICAgICAgICAgICAgICB7fQogICAgICAgICAgICApLmFkZFRvKGZlYXR1cmVfZ3JvdXBfM2U2OGZiZWVkNGU1NDU2ZmFiYjE0Y2M5YjI5ZGMwODgpOwogICAgICAgIAogICAgCiAgICAgICAgICAgIHZhciBpY29uXzJhMjIwODE1MzMxOTQ0MzlhMmM4ZmU5NjNmMTdjZTI3ID0gTC5Bd2Vzb21lTWFya2Vycy5pY29uKAogICAgICAgICAgICAgICAgeyJleHRyYUNsYXNzZXMiOiAiZmEtcm90YXRlLTAiLCAiaWNvbiI6ICJmaXJlIiwgImljb25Db2xvciI6ICJ3aGl0ZSIsICJtYXJrZXJDb2xvciI6ICJyZWQiLCAicHJlZml4IjogImdseXBoaWNvbiJ9CiAgICAgICAgICAgICk7CiAgICAgICAgICAgIG1hcmtlcl80ZjEzNTc2ODA1MzY0M2E4YTdhZDVjYzU5OWEwNDdkNi5zZXRJY29uKGljb25fMmEyMjA4MTUzMzE5NDQzOWEyYzhmZTk2M2YxN2NlMjcpOwogICAgICAgIAogICAgCiAgICAgICAgdmFyIHBvcHVwX2RhNjNkMGQ2OWZkZTQ1YTI4MzVmYjRlZTFkNGIyZGYzID0gTC5wb3B1cCh7Im1heFdpZHRoIjogIjEwMCUifSk7CgogICAgICAgIAogICAgICAgICAgICB2YXIgaHRtbF8xZmY2YzEwZWQwNTM0NTRhYTc2OWVjYjc3ZDhjY2I2YyA9ICQoYDxkaXYgaWQ9Imh0bWxfMWZmNmMxMGVkMDUzNDU0YWE3NjllY2I3N2Q4Y2NiNmMiIHN0eWxlPSJ3aWR0aDogMTAwLjAlOyBoZWlnaHQ6IDEwMC4wJTsiPlsnQ09ST01BTkRFTCcsICdNSU5BUyBHRVJBSVMnXTwvZGl2PmApWzBdOwogICAgICAgICAgICBwb3B1cF9kYTYzZDBkNjlmZGU0NWEyODM1ZmI0ZWUxZDRiMmRmMy5zZXRDb250ZW50KGh0bWxfMWZmNmMxMGVkMDUzNDU0YWE3NjllY2I3N2Q4Y2NiNmMpOwogICAgICAgIAoKICAgICAgICBtYXJrZXJfNGYxMzU3NjgwNTM2NDNhOGE3YWQ1Y2M1OTlhMDQ3ZDYuYmluZFBvcHVwKHBvcHVwX2RhNjNkMGQ2OWZkZTQ1YTI4MzVmYjRlZTFkNGIyZGYzKQogICAgICAgIDsKCiAgICAgICAgCiAgICAKICAgIAogICAgICAgICAgICB2YXIgbWFya2VyXzlmNDhiOTY4M2U3YTRlZjNiOGY1MGFhOGM5MDI2ZTg0ID0gTC5tYXJrZXIoCiAgICAgICAgICAgICAgICBbLTE5LjEzLCAtNDcuMjQyXSwKICAgICAgICAgICAgICAgIHt9CiAgICAgICAgICAgICkuYWRkVG8oZmVhdHVyZV9ncm91cF8zZTY4ZmJlZWQ0ZTU0NTZmYWJiMTRjYzliMjlkYzA4OCk7CiAgICAgICAgCiAgICAKICAgICAgICAgICAgdmFyIGljb25fNDU3OTNjM2Y3YmZhNDY1OWJhNTc1Nzc3Y2Q1M2I5ZDQgPSBMLkF3ZXNvbWVNYXJrZXJzLmljb24oCiAgICAgICAgICAgICAgICB7ImV4dHJhQ2xhc3NlcyI6ICJmYS1yb3RhdGUtMCIsICJpY29uIjogImZpcmUiLCAiaWNvbkNvbG9yIjogIndoaXRlIiwgIm1hcmtlckNvbG9yIjogInJlZCIsICJwcmVmaXgiOiAiZ2x5cGhpY29uIn0KICAgICAgICAgICAgKTsKICAgICAgICAgICAgbWFya2VyXzlmNDhiOTY4M2U3YTRlZjNiOGY1MGFhOGM5MDI2ZTg0LnNldEljb24oaWNvbl80NTc5M2MzZjdiZmE0NjU5YmE1NzU3NzdjZDUzYjlkNCk7CiAgICAgICAgCiAgICAKICAgICAgICB2YXIgcG9wdXBfZTJkZTU4MGE1Y2E4NGQ2YTgyYzJlMTcwMDMwODJlMmYgPSBMLnBvcHVwKHsibWF4V2lkdGgiOiAiMTAwJSJ9KTsKCiAgICAgICAgCiAgICAgICAgICAgIHZhciBodG1sX2I4NGQ0YWY1ZjQxNjQ2Y2U4NTVmODAyMjhlZTM0ZjUyID0gJChgPGRpdiBpZD0iaHRtbF9iODRkNGFmNWY0MTY0NmNlODU1ZjgwMjI4ZWUzNGY1MiIgc3R5bGU9IndpZHRoOiAxMDAuMCU7IGhlaWdodDogMTAwLjAlOyI+WydQQVRST0NOSU8nLCAnTUlOQVMgR0VSQUlTJ108L2Rpdj5gKVswXTsKICAgICAgICAgICAgcG9wdXBfZTJkZTU4MGE1Y2E4NGQ2YTgyYzJlMTcwMDMwODJlMmYuc2V0Q29udGVudChodG1sX2I4NGQ0YWY1ZjQxNjQ2Y2U4NTVmODAyMjhlZTM0ZjUyKTsKICAgICAgICAKCiAgICAgICAgbWFya2VyXzlmNDhiOTY4M2U3YTRlZjNiOGY1MGFhOGM5MDI2ZTg0LmJpbmRQb3B1cChwb3B1cF9lMmRlNTgwYTVjYTg0ZDZhODJjMmUxNzAwMzA4MmUyZikKICAgICAgICA7CgogICAgICAgIAogICAgCiAgICAKICAgICAgICAgICAgdmFyIG1hcmtlcl8yNjQzMDllODIxN2Y0MTM0OTNlYjBkMTJiYzJmZGFkZCA9IEwubWFya2VyKAogICAgICAgICAgICAgICAgWy0xOC4zNzksIC00Ni42OThdLAogICAgICAgICAgICAgICAge30KICAgICAgICAgICAgKS5hZGRUbyhmZWF0dXJlX2dyb3VwXzNlNjhmYmVlZDRlNTQ1NmZhYmIxNGNjOWIyOWRjMDg4KTsKICAgICAgICAKICAgIAogICAgICAgICAgICB2YXIgaWNvbl8wNWY3ZGI1ZTkwMWY0ZGM3YmI3MTQwMGEzNWZhYTUwOSA9IEwuQXdlc29tZU1hcmtlcnMuaWNvbigKICAgICAgICAgICAgICAgIHsiZXh0cmFDbGFzc2VzIjogImZhLXJvdGF0ZS0wIiwgImljb24iOiAiZmlyZSIsICJpY29uQ29sb3IiOiAid2hpdGUiLCAibWFya2VyQ29sb3IiOiAicmVkIiwgInByZWZpeCI6ICJnbHlwaGljb24ifQogICAgICAgICAgICApOwogICAgICAgICAgICBtYXJrZXJfMjY0MzA5ZTgyMTdmNDEzNDkzZWIwZDEyYmMyZmRhZGQuc2V0SWNvbihpY29uXzA1ZjdkYjVlOTAxZjRkYzdiYjcxNDAwYTM1ZmFhNTA5KTsKICAgICAgICAKICAgIAogICAgICAgIHZhciBwb3B1cF85MDM1ZTQ3OGUwMmU0Yjg1YjAyMmFhY2U3NTM3YTNjMSA9IEwucG9wdXAoeyJtYXhXaWR0aCI6ICIxMDAlIn0pOwoKICAgICAgICAKICAgICAgICAgICAgdmFyIGh0bWxfYzk4YmFmZGJlM2EzNDQzNWE5MDdlNDYwNTBhYjE0M2YgPSAkKGA8ZGl2IGlkPSJodG1sX2M5OGJhZmRiZTNhMzQ0MzVhOTA3ZTQ2MDUwYWIxNDNmIiBzdHlsZT0id2lkdGg6IDEwMC4wJTsgaGVpZ2h0OiAxMDAuMCU7Ij5bJ1BBVE9TIERFIE1JTkFTJywgJ01JTkFTIEdFUkFJUyddPC9kaXY+YClbMF07CiAgICAgICAgICAgIHBvcHVwXzkwMzVlNDc4ZTAyZTRiODViMDIyYWFjZTc1MzdhM2MxLnNldENvbnRlbnQoaHRtbF9jOThiYWZkYmUzYTM0NDM1YTkwN2U0NjA1MGFiMTQzZik7CiAgICAgICAgCgogICAgICAgIG1hcmtlcl8yNjQzMDllODIxN2Y0MTM0OTNlYjBkMTJiYzJmZGFkZC5iaW5kUG9wdXAocG9wdXBfOTAzNWU0NzhlMDJlNGI4NWIwMjJhYWNlNzUzN2EzYzEpCiAgICAgICAgOwoKICAgICAgICAKICAgIAogICAgCiAgICAgICAgICAgIHZhciBtYXJrZXJfYTM0MWJiNmNmNjUxNDRhZmI0YzgyZDM2YjIyZDE5OWEgPSBMLm1hcmtlcigKICAgICAgICAgICAgICAgIFstMTcuMDQ3LCAtNDcuMTI4XSwKICAgICAgICAgICAgICAgIHt9CiAgICAgICAgICAgICkuYWRkVG8oZmVhdHVyZV9ncm91cF8zZTY4ZmJlZWQ0ZTU0NTZmYWJiMTRjYzliMjlkYzA4OCk7CiAgICAgICAgCiAgICAKICAgICAgICAgICAgdmFyIGljb25fMWY5OTcyMTFhZDVmNGQyZmJmNTgzMWZkNzQzYzZjNTUgPSBMLkF3ZXNvbWVNYXJrZXJzLmljb24oCiAgICAgICAgICAgICAgICB7ImV4dHJhQ2xhc3NlcyI6ICJmYS1yb3RhdGUtMCIsICJpY29uIjogImZpcmUiLCAiaWNvbkNvbG9yIjogIndoaXRlIiwgIm1hcmtlckNvbG9yIjogInJlZCIsICJwcmVmaXgiOiAiZ2x5cGhpY29uIn0KICAgICAgICAgICAgKTsKICAgICAgICAgICAgbWFya2VyX2EzNDFiYjZjZjY1MTQ0YWZiNGM4MmQzNmIyMmQxOTlhLnNldEljb24oaWNvbl8xZjk5NzIxMWFkNWY0ZDJmYmY1ODMxZmQ3NDNjNmM1NSk7CiAgICAgICAgCiAgICAKICAgICAgICB2YXIgcG9wdXBfNmRkODg0MGI2NWE1NDNmMzk3YjdhMzU4OTAyYTkyNWMgPSBMLnBvcHVwKHsibWF4V2lkdGgiOiAiMTAwJSJ9KTsKCiAgICAgICAgCiAgICAgICAgICAgIHZhciBodG1sXzBmZWU3NGUwNzk5ODQ4MjM5YjIzYjRmYjA3MGMyZjQ5ID0gJChgPGRpdiBpZD0iaHRtbF8wZmVlNzRlMDc5OTg0ODIzOWIyM2I0ZmIwNzBjMmY0OSIgc3R5bGU9IndpZHRoOiAxMDAuMCU7IGhlaWdodDogMTAwLjAlOyI+WydQQVJBQ0FUVScsICdNSU5BUyBHRVJBSVMnXTwvZGl2PmApWzBdOwogICAgICAgICAgICBwb3B1cF82ZGQ4ODQwYjY1YTU0M2YzOTdiN2EzNTg5MDJhOTI1Yy5zZXRDb250ZW50KGh0bWxfMGZlZTc0ZTA3OTk4NDgyMzliMjNiNGZiMDcwYzJmNDkpOwogICAgICAgIAoKICAgICAgICBtYXJrZXJfYTM0MWJiNmNmNjUxNDRhZmI0YzgyZDM2YjIyZDE5OWEuYmluZFBvcHVwKHBvcHVwXzZkZDg4NDBiNjVhNTQzZjM5N2I3YTM1ODkwMmE5MjVjKQogICAgICAgIDsKCiAgICAgICAgCiAgICAKICAgIAogICAgICAgICAgICB2YXIgbWFya2VyXzQ3NDNjYzlmNTg5YjRiYTU5OWM3NzczMDNiM2U2MmE3ID0gTC5tYXJrZXIoCiAgICAgICAgICAgICAgICBbLTE2LjUzMiwgLTQzLjY5NjAwMDAwMDAwMDAwNV0sCiAgICAgICAgICAgICAgICB7fQogICAgICAgICAgICApLmFkZFRvKGZlYXR1cmVfZ3JvdXBfM2U2OGZiZWVkNGU1NDU2ZmFiYjE0Y2M5YjI5ZGMwODgpOwogICAgICAgIAogICAgCiAgICAgICAgICAgIHZhciBpY29uXzRkOTMwODVmY2MyMTQ4NjQ5MGJkNzdiNWUzMTU0NjA4ID0gTC5Bd2Vzb21lTWFya2Vycy5pY29uKAogICAgICAgICAgICAgICAgeyJleHRyYUNsYXNzZXMiOiAiZmEtcm90YXRlLTAiLCAiaWNvbiI6ICJmaXJlIiwgImljb25Db2xvciI6ICJ3aGl0ZSIsICJtYXJrZXJDb2xvciI6ICJyZWQiLCAicHJlZml4IjogImdseXBoaWNvbiJ9CiAgICAgICAgICAgICk7CiAgICAgICAgICAgIG1hcmtlcl80NzQzY2M5ZjU4OWI0YmE1OTljNzc3MzAzYjNlNjJhNy5zZXRJY29uKGljb25fNGQ5MzA4NWZjYzIxNDg2NDkwYmQ3N2I1ZTMxNTQ2MDgpOwogICAgICAgIAogICAgCiAgICAgICAgdmFyIHBvcHVwX2RkYjExMjg5MmE0MzRhOWM5MWUyYTg2YjFhNjgzOGViID0gTC5wb3B1cCh7Im1heFdpZHRoIjogIjEwMCUifSk7CgogICAgICAgIAogICAgICAgICAgICB2YXIgaHRtbF81ZmFhOTkwODg0ZWE0N2YzOGY3OTRhYjdlYTM4NTFlNCA9ICQoYDxkaXYgaWQ9Imh0bWxfNWZhYTk5MDg4NGVhNDdmMzhmNzk0YWI3ZWEzODUxZTQiIHN0eWxlPSJ3aWR0aDogMTAwLjAlOyBoZWlnaHQ6IDEwMC4wJTsiPlsnRlJBTkNJU0NPIFNBJywgJ01JTkFTIEdFUkFJUyddPC9kaXY+YClbMF07CiAgICAgICAgICAgIHBvcHVwX2RkYjExMjg5MmE0MzRhOWM5MWUyYTg2YjFhNjgzOGViLnNldENvbnRlbnQoaHRtbF81ZmFhOTkwODg0ZWE0N2YzOGY3OTRhYjdlYTM4NTFlNCk7CiAgICAgICAgCgogICAgICAgIG1hcmtlcl80NzQzY2M5ZjU4OWI0YmE1OTljNzc3MzAzYjNlNjJhNy5iaW5kUG9wdXAocG9wdXBfZGRiMTEyODkyYTQzNGE5YzkxZTJhODZiMWE2ODM4ZWIpCiAgICAgICAgOwoKICAgICAgICAKICAgIAogICAgCiAgICAgICAgICAgIHZhciBtYXJrZXJfMTFkMjNlNjM2ZTc1NDQ2MzhhOWRmM2RlOTY3ZTYyMTQgPSBMLm1hcmtlcigKICAgICAgICAgICAgICAgIFstMjEuMjUsIC00NC4wMzddLAogICAgICAgICAgICAgICAge30KICAgICAgICAgICAgKS5hZGRUbyhmZWF0dXJlX2dyb3VwXzNlNjhmYmVlZDRlNTQ1NmZhYmIxNGNjOWIyOWRjMDg4KTsKICAgICAgICAKICAgIAogICAgICAgICAgICB2YXIgaWNvbl9jYjViMjdiMmZiZmM0ZWFjOWM5YjNmNzg1ZWY5ZDhiMSA9IEwuQXdlc29tZU1hcmtlcnMuaWNvbigKICAgICAgICAgICAgICAgIHsiZXh0cmFDbGFzc2VzIjogImZhLXJvdGF0ZS0wIiwgImljb24iOiAiZmlyZSIsICJpY29uQ29sb3IiOiAid2hpdGUiLCAibWFya2VyQ29sb3IiOiAicmVkIiwgInByZWZpeCI6ICJnbHlwaGljb24ifQogICAgICAgICAgICApOwogICAgICAgICAgICBtYXJrZXJfMTFkMjNlNjM2ZTc1NDQ2MzhhOWRmM2RlOTY3ZTYyMTQuc2V0SWNvbihpY29uX2NiNWIyN2IyZmJmYzRlYWM5YzliM2Y3ODVlZjlkOGIxKTsKICAgICAgICAKICAgIAogICAgICAgIHZhciBwb3B1cF9jMGI2YmRlMzJmZmE0YjgyOTg1N2FiYmYwZjYwZjZhMiA9IEwucG9wdXAoeyJtYXhXaWR0aCI6ICIxMDAlIn0pOwoKICAgICAgICAKICAgICAgICAgICAgdmFyIGh0bWxfYTg2NWZkNDhmZDBiNDU3NTgyNjc0NjcwZTcwMGM1ODUgPSAkKGA8ZGl2IGlkPSJodG1sX2E4NjVmZDQ4ZmQwYjQ1NzU4MjY3NDY3MGU3MDBjNTg1IiBzdHlsZT0id2lkdGg6IDEwMC4wJTsgaGVpZ2h0OiAxMDAuMCU7Ij5bJ1NBTyBKT0FPIERFTCBSRUknLCAnTUlOQVMgR0VSQUlTJ108L2Rpdj5gKVswXTsKICAgICAgICAgICAgcG9wdXBfYzBiNmJkZTMyZmZhNGI4Mjk4NTdhYmJmMGY2MGY2YTIuc2V0Q29udGVudChodG1sX2E4NjVmZDQ4ZmQwYjQ1NzU4MjY3NDY3MGU3MDBjNTg1KTsKICAgICAgICAKCiAgICAgICAgbWFya2VyXzExZDIzZTYzNmU3NTQ0NjM4YTlkZjNkZTk2N2U2MjE0LmJpbmRQb3B1cChwb3B1cF9jMGI2YmRlMzJmZmE0YjgyOTg1N2FiYmYwZjYwZjZhMikKICAgICAgICA7CgogICAgICAgIAogICAgCiAgICAKICAgICAgICAgICAgdmFyIG1hcmtlcl9mZTA4NzQ4MzVkODc0N2QzOTJhNTVhODczMjBkYWVhYSA9IEwubWFya2VyKAogICAgICAgICAgICAgICAgWy0yMC43OTQsIC00Ni43ODVdLAogICAgICAgICAgICAgICAge30KICAgICAgICAgICAgKS5hZGRUbyhmZWF0dXJlX2dyb3VwXzNlNjhmYmVlZDRlNTQ1NmZhYmIxNGNjOWIyOWRjMDg4KTsKICAgICAgICAKICAgIAogICAgICAgICAgICB2YXIgaWNvbl9hOTM0YTg2MTVkOTc0YjlmODc4ZWRkN2U1ZDZkMTkzYSA9IEwuQXdlc29tZU1hcmtlcnMuaWNvbigKICAgICAgICAgICAgICAgIHsiZXh0cmFDbGFzc2VzIjogImZhLXJvdGF0ZS0wIiwgImljb24iOiAiZmlyZSIsICJpY29uQ29sb3IiOiAid2hpdGUiLCAibWFya2VyQ29sb3IiOiAicmVkIiwgInByZWZpeCI6ICJnbHlwaGljb24ifQogICAgICAgICAgICApOwogICAgICAgICAgICBtYXJrZXJfZmUwODc0ODM1ZDg3NDdkMzkyYTU1YTg3MzIwZGFlYWEuc2V0SWNvbihpY29uX2E5MzRhODYxNWQ5NzRiOWY4NzhlZGQ3ZTVkNmQxOTNhKTsKICAgICAgICAKICAgIAogICAgICAgIHZhciBwb3B1cF9kODQ5YThhODI5ZWI0NDE0OGNiMTBmYjRmZjg0MTkwZiA9IEwucG9wdXAoeyJtYXhXaWR0aCI6ICIxMDAlIn0pOwoKICAgICAgICAKICAgICAgICAgICAgdmFyIGh0bWxfNjY1NTYwMjBiZjhlNDVjODgzOTVmOThmODdhZWVmZTggPSAkKGA8ZGl2IGlkPSJodG1sXzY2NTU2MDIwYmY4ZTQ1Yzg4Mzk1Zjk4Zjg3YWVlZmU4IiBzdHlsZT0id2lkdGg6IDEwMC4wJTsgaGVpZ2h0OiAxMDAuMCU7Ij5bJ0lUQVUgREUgTUlOQVMnLCAnTUlOQVMgR0VSQUlTJ108L2Rpdj5gKVswXTsKICAgICAgICAgICAgcG9wdXBfZDg0OWE4YTgyOWViNDQxNDhjYjEwZmI0ZmY4NDE5MGYuc2V0Q29udGVudChodG1sXzY2NTU2MDIwYmY4ZTQ1Yzg4Mzk1Zjk4Zjg3YWVlZmU4KTsKICAgICAgICAKCiAgICAgICAgbWFya2VyX2ZlMDg3NDgzNWQ4NzQ3ZDM5MmE1NWE4NzMyMGRhZWFhLmJpbmRQb3B1cChwb3B1cF9kODQ5YThhODI5ZWI0NDE0OGNiMTBmYjRmZjg0MTkwZikKICAgICAgICA7CgogICAgICAgIAogICAgCiAgICAKICAgICAgICAgICAgdmFyIG1hcmtlcl8yNWQ5NWIxZWJjM2Q0YTk1YWQxYjkwYWFhNmRmZDUwYSA9IEwubWFya2VyKAogICAgICAgICAgICAgICAgWy0yMC4wMjgsIC00My44MV0sCiAgICAgICAgICAgICAgICB7fQogICAgICAgICAgICApLmFkZFRvKGZlYXR1cmVfZ3JvdXBfM2U2OGZiZWVkNGU1NDU2ZmFiYjE0Y2M5YjI5ZGMwODgpOwogICAgICAgIAogICAgCiAgICAgICAgICAgIHZhciBpY29uXzc5ZjdlZjVjNDFjZjQ2OWJhZGViOGQyYjE3NDQwN2JiID0gTC5Bd2Vzb21lTWFya2Vycy5pY29uKAogICAgICAgICAgICAgICAgeyJleHRyYUNsYXNzZXMiOiAiZmEtcm90YXRlLTAiLCAiaWNvbiI6ICJmaXJlIiwgImljb25Db2xvciI6ICJ3aGl0ZSIsICJtYXJrZXJDb2xvciI6ICJyZWQiLCAicHJlZml4IjogImdseXBoaWNvbiJ9CiAgICAgICAgICAgICk7CiAgICAgICAgICAgIG1hcmtlcl8yNWQ5NWIxZWJjM2Q0YTk1YWQxYjkwYWFhNmRmZDUwYS5zZXRJY29uKGljb25fNzlmN2VmNWM0MWNmNDY5YmFkZWI4ZDJiMTc0NDA3YmIpOwogICAgICAgIAogICAgCiAgICAgICAgdmFyIHBvcHVwXzVkZjRjZTQyMDFiMDRiZjBiY2E0ZjkxODE3OWMwMmY2ID0gTC5wb3B1cCh7Im1heFdpZHRoIjogIjEwMCUifSk7CgogICAgICAgIAogICAgICAgICAgICB2YXIgaHRtbF80OWYyMjgwZGY5YzU0ZWQ2YmM2NWYzMjZjNWQ3MGZkNiA9ICQoYDxkaXYgaWQ9Imh0bWxfNDlmMjI4MGRmOWM1NGVkNmJjNjVmMzI2YzVkNzBmZDYiIHN0eWxlPSJ3aWR0aDogMTAwLjAlOyBoZWlnaHQ6IDEwMC4wJTsiPlsnTk9WQSBMSU1BJywgJ01JTkFTIEdFUkFJUyddPC9kaXY+YClbMF07CiAgICAgICAgICAgIHBvcHVwXzVkZjRjZTQyMDFiMDRiZjBiY2E0ZjkxODE3OWMwMmY2LnNldENvbnRlbnQoaHRtbF80OWYyMjgwZGY5YzU0ZWQ2YmM2NWYzMjZjNWQ3MGZkNik7CiAgICAgICAgCgogICAgICAgIG1hcmtlcl8yNWQ5NWIxZWJjM2Q0YTk1YWQxYjkwYWFhNmRmZDUwYS5iaW5kUG9wdXAocG9wdXBfNWRmNGNlNDIwMWIwNGJmMGJjYTRmOTE4MTc5YzAyZjYpCiAgICAgICAgOwoKICAgICAgICAKICAgIAogICAgCiAgICAgICAgICAgIHZhciBtYXJrZXJfMGVhNWY4YjU0MWIzNDAxNjliMDg5NDQyODIzNTQ2ZGEgPSBMLm1hcmtlcigKICAgICAgICAgICAgICAgIFstMTguNDQsIC00OS4wNDRdLAogICAgICAgICAgICAgICAge30KICAgICAgICAgICAgKS5hZGRUbyhmZWF0dXJlX2dyb3VwXzNlNjhmYmVlZDRlNTQ1NmZhYmIxNGNjOWIyOWRjMDg4KTsKICAgICAgICAKICAgIAogICAgICAgICAgICB2YXIgaWNvbl83NWI3NGY2YWE5MWQ0MzVlOWVkYTUyZWQ5NTg0MWU1ZiA9IEwuQXdlc29tZU1hcmtlcnMuaWNvbigKICAgICAgICAgICAgICAgIHsiZXh0cmFDbGFzc2VzIjogImZhLXJvdGF0ZS0wIiwgImljb24iOiAiZmlyZSIsICJpY29uQ29sb3IiOiAid2hpdGUiLCAibWFya2VyQ29sb3IiOiAicmVkIiwgInByZWZpeCI6ICJnbHlwaGljb24ifQogICAgICAgICAgICApOwogICAgICAgICAgICBtYXJrZXJfMGVhNWY4YjU0MWIzNDAxNjliMDg5NDQyODIzNTQ2ZGEuc2V0SWNvbihpY29uXzc1Yjc0ZjZhYTkxZDQzNWU5ZWRhNTJlZDk1ODQxZTVmKTsKICAgICAgICAKICAgIAogICAgICAgIHZhciBwb3B1cF84ZDY3ODQ3MzdhZWQ0MGEwOGE0MDE3MDFkMDdiMzM1MCA9IEwucG9wdXAoeyJtYXhXaWR0aCI6ICIxMDAlIn0pOwoKICAgICAgICAKICAgICAgICAgICAgdmFyIGh0bWxfOTM4ZDg1OGRjNDk1NGU4ZDlhYjUwYzQ2MzdjMDllMmMgPSAkKGA8ZGl2IGlkPSJodG1sXzkzOGQ4NThkYzQ5NTRlOGQ5YWI1MGM0NjM3YzA5ZTJjIiBzdHlsZT0id2lkdGg6IDEwMC4wJTsgaGVpZ2h0OiAxMDAuMCU7Ij5bJ0FSQVBPUkEnLCAnTUlOQVMgR0VSQUlTJ108L2Rpdj5gKVswXTsKICAgICAgICAgICAgcG9wdXBfOGQ2Nzg0NzM3YWVkNDBhMDhhNDAxNzAxZDA3YjMzNTAuc2V0Q29udGVudChodG1sXzkzOGQ4NThkYzQ5NTRlOGQ5YWI1MGM0NjM3YzA5ZTJjKTsKICAgICAgICAKCiAgICAgICAgbWFya2VyXzBlYTVmOGI1NDFiMzQwMTY5YjA4OTQ0MjgyMzU0NmRhLmJpbmRQb3B1cChwb3B1cF84ZDY3ODQ3MzdhZWQ0MGEwOGE0MDE3MDFkMDdiMzM1MCkKICAgICAgICA7CgogICAgICAgIAogICAgCiAgICAKICAgICAgICAgICAgdmFyIG1hcmtlcl8yN2IwYmZkOWFkZjg0ZjdjODZhZjg0Y2YwMmU2NGRiMSA9IEwubWFya2VyKAogICAgICAgICAgICAgICAgWy0yMC42MjcsIC00Ni4yODRdLAogICAgICAgICAgICAgICAge30KICAgICAgICAgICAgKS5hZGRUbyhmZWF0dXJlX2dyb3VwXzNlNjhmYmVlZDRlNTQ1NmZhYmIxNGNjOWIyOWRjMDg4KTsKICAgICAgICAKICAgIAogICAgICAgICAgICB2YXIgaWNvbl8yZmZiYWVmOTgyZWY0YmEyOGNkZjU5NGU3Y2FiNzQzNyA9IEwuQXdlc29tZU1hcmtlcnMuaWNvbigKICAgICAgICAgICAgICAgIHsiZXh0cmFDbGFzc2VzIjogImZhLXJvdGF0ZS0wIiwgImljb24iOiAiZmlyZSIsICJpY29uQ29sb3IiOiAid2hpdGUiLCAibWFya2VyQ29sb3IiOiAicmVkIiwgInByZWZpeCI6ICJnbHlwaGljb24ifQogICAgICAgICAgICApOwogICAgICAgICAgICBtYXJrZXJfMjdiMGJmZDlhZGY4NGY3Yzg2YWY4NGNmMDJlNjRkYjEuc2V0SWNvbihpY29uXzJmZmJhZWY5ODJlZjRiYTI4Y2RmNTk0ZTdjYWI3NDM3KTsKICAgICAgICAKICAgIAogICAgICAgIHZhciBwb3B1cF85ODFlN2IyMjQ5ZmM0NzlhOTk0MTE4ODc2NTMyZjIzMSA9IEwucG9wdXAoeyJtYXhXaWR0aCI6ICIxMDAlIn0pOwoKICAgICAgICAKICAgICAgICAgICAgdmFyIGh0bWxfMGM3OTVhZGY4YWVlNGI0NTlmZjk0ZjcyYTdkNDkwYmMgPSAkKGA8ZGl2IGlkPSJodG1sXzBjNzk1YWRmOGFlZTRiNDU5ZmY5NGY3MmE3ZDQ5MGJjIiBzdHlsZT0id2lkdGg6IDEwMC4wJTsgaGVpZ2h0OiAxMDAuMCU7Ij5bJ0NBUElUT0xJTycsICdNSU5BUyBHRVJBSVMnXTwvZGl2PmApWzBdOwogICAgICAgICAgICBwb3B1cF85ODFlN2IyMjQ5ZmM0NzlhOTk0MTE4ODc2NTMyZjIzMS5zZXRDb250ZW50KGh0bWxfMGM3OTVhZGY4YWVlNGI0NTlmZjk0ZjcyYTdkNDkwYmMpOwogICAgICAgIAoKICAgICAgICBtYXJrZXJfMjdiMGJmZDlhZGY4NGY3Yzg2YWY4NGNmMDJlNjRkYjEuYmluZFBvcHVwKHBvcHVwXzk4MWU3YjIyNDlmYzQ3OWE5OTQxMTg4NzY1MzJmMjMxKQogICAgICAgIDsKCiAgICAgICAgCiAgICAKPC9zY3JpcHQ+ onload=\"this.contentDocument.open();this.contentDocument.write(atob(this.getAttribute('data-html')));this.contentDocument.close();\" allowfullscreen webkitallowfullscreen mozallowfullscreen></iframe></div></div>"
      ],
      "text/plain": [
       "<folium.folium.Map at 0x24e0d44f688>"
      ]
     },
     "execution_count": 15,
     "metadata": {},
     "output_type": "execute_result"
    }
   ],
   "source": [
    "titulo = 'Queimadas - '+ lista[0][idx][0] \n",
    "\n",
    "map = fo.Map(location=[-23.5489, -46.6388], \n",
    "             title= titulo,\n",
    "             zoom_start=5,\n",
    "             width=900, \n",
    "             height=1200)\n",
    "po = fo.FeatureGroup(name='Queimadas')\n",
    "\n",
    "for row in range(len(df)):\n",
    "    po.add_child(fo.Marker(location=[ df['latitude'][row], df['longitude'][row]],\n",
    "                           popup=[re.sub(u'[^a-zA-Z0-9: ]', replace, df['municipio'][row]),\n",
    "                                  re.sub(u'[^a-zA-Z0-9: ]', replace, df['estado'][row])],                           \n",
    "                           icon=fo.Icon(color='red', icon='fire')\n",
    "                          ))  \n",
    "    \n",
    "map.add_child(po)    "
   ]
  }
 ],
 "metadata": {
  "kernelspec": {
   "display_name": "Python 3",
   "language": "python",
   "name": "python3"
  },
  "language_info": {
   "codemirror_mode": {
    "name": "ipython",
    "version": 3
   },
   "file_extension": ".py",
   "mimetype": "text/x-python",
   "name": "python",
   "nbconvert_exporter": "python",
   "pygments_lexer": "ipython3",
   "version": "3.7.6"
  }
 },
 "nbformat": 4,
 "nbformat_minor": 4
}
