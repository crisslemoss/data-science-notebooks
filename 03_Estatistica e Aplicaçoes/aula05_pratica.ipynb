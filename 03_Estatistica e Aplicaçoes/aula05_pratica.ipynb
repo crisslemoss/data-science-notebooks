{
 "cells": [
  {
   "cell_type": "markdown",
   "metadata": {},
   "source": [
    "1) Em uma sala de aula com 40 alunos, como voce faria uma amostragem aleatoria de 5 pessoas?"
   ]
  },
  {
   "cell_type": "markdown",
   "metadata": {},
   "source": [
    "**Resposta:** Numeraria os alunos de 1 a 40, colocaria os numeros em uma caixa e sortearia os 5 numeros"
   ]
  },
  {
   "cell_type": "markdown",
   "metadata": {},
   "source": [
    "2) Supondo que voce precise fazer uma amostragem sistematica da sala de aula acima. Como voce faria?"
   ]
  },
  {
   "cell_type": "markdown",
   "metadata": {},
   "source": [
    "**Resposta:** Separação por numeros pares e impares, ou pular de 3 em 3 por exemplo"
   ]
  },
  {
   "cell_type": "markdown",
   "metadata": {},
   "source": [
    "3) Em uma fabrica de chocolates queremos saber quantos funcionarios ja tiveram um acidente de trabalho. Qual a populacao do estudo?"
   ]
  },
  {
   "cell_type": "markdown",
   "metadata": {},
   "source": [
    "**Resposta:** População seria todos os funcionários da fábrica\n",
    "obs.: se a fábrica for muito grande e todos os funcionários se tornar inviável, pode-se considerar uma amostragem"
   ]
  },
  {
   "cell_type": "markdown",
   "metadata": {},
   "source": [
    "4) Um entrevistador quer sabem quantas pessoas, em media, vivem em uma residencia. Para isso, selecionou para amostragem 200 casas pela cidade, aleatoriamente. No entanto, em 40 casas nao atenderam. Assim, ele resolveu continuar sua pesquisa ate completar 200 entrevistas. Depois de analisar os dados ele obteve uma media de 3.6 pessoas por residencia. O que voce acha da metodologia adotada pelo pesquisador? Comente."
   ]
  },
  {
   "cell_type": "markdown",
   "metadata": {},
   "source": [
    "**Resposta:** A metodologia apresenta falhas, porque o numero foi superestimado pois somente as casas com grande numerode moradores teria mais chances de ter alguem para atender. Residencias com menos moradors teria chances menores"
   ]
  },
  {
   "cell_type": "markdown",
   "metadata": {},
   "source": [
    "5) Suponha que voce esteja trabalhando no setor de levantamento de dados de uma fabrica de motocicletas e seu superior pediu para que voce pesquise se os clientes preferem motos esportivas ou custom ('estradeiras'). Como voce definiria seu estudo e sua populacao?"
   ]
  },
  {
   "cell_type": "markdown",
   "metadata": {},
   "source": [
    "**Resposta:** População seria todo mundo que compra uma moto"
   ]
  },
  {
   "cell_type": "markdown",
   "metadata": {},
   "source": [
    "6) Uma loja quer saber se seus clientes gostaram de seus produtos. Qual a populacao e que tipo de dado deve ser levantado?"
   ]
  },
  {
   "cell_type": "markdown",
   "metadata": {},
   "source": [
    "**Resposta:** Populaçao: todos os clientes da loja. As respostas poderiam ser em forma de nota 0 a 10 ou classificação entre otima, boa, ruim"
   ]
  },
  {
   "cell_type": "markdown",
   "metadata": {},
   "source": [
    "7) Cite alguns motivos de se estudar uma amostra."
   ]
  },
  {
   "cell_type": "markdown",
   "metadata": {},
   "source": [
    "**Resposta:** menor custo de tempo e recursos financeiros e testar cada item para um determinado produto pode ser ilogico"
   ]
  },
  {
   "cell_type": "markdown",
   "metadata": {},
   "source": [
    "8) Um jovem profissional quer saber quanto pode ganhar de salario, assim, resolve fazer um levantamento. Que estatisticas ele pode usar? E qual seu parametro de interesse?"
   ]
  },
  {
   "cell_type": "markdown",
   "metadata": {},
   "source": [
    "**Resposta:** Poderia usar a media, a moda, maximo, e minimo.. seria ideal ter em mente a media e não se ater aos extremos"
   ]
  },
  {
   "cell_type": "markdown",
   "metadata": {},
   "source": [
    "9) Como voce organizaria uma pesquisa estratifica para eleicoes do Estado de Minas Gerais? Qual a populacao de interesse?"
   ]
  },
  {
   "cell_type": "markdown",
   "metadata": {},
   "source": [
    "**Resposta:** Populaçao: Eleitores de minas gerais. A divisão poderia ser por sexo, faixa etária, nível de renda, idade, escolaridade ou genero"
   ]
  },
  {
   "cell_type": "markdown",
   "metadata": {},
   "source": [
    "10) Qual a diferenca entre censo, amostra e populacao?"
   ]
  },
  {
   "cell_type": "markdown",
   "metadata": {},
   "source": [
    "**Resposta:** \n",
    "- censo: Levantamento de todos os elementos de um conjunto estudado.\n",
    "- amostra: todo subconjunto da populaçao.\n",
    "- população: todos os reprentantes possíveis dentro de um conjunto."
   ]
  },
  {
   "cell_type": "markdown",
   "metadata": {},
   "source": [
    "11) Um politico quer saber a opiniao dos eleitores de uma cidade sobre o tema principal de sua campanha. Para isso, ele distribui um questionario durante seu 'showmicio'. O que voce acha dessa metodologia? Teria uma outra metodologia para sugerir?"
   ]
  },
  {
   "cell_type": "markdown",
   "metadata": {},
   "source": [
    "**Resposta:** distribuir questionário durante um 'showmicio' pode não ser eficiente, uma vez que o puplico ali presente não reflete uma amostra que contemple a diversidade da população, além disso as pessoas estarão mais interessadas no show do que em responder um questionário.\n",
    "Entrevistas online ou telefônicas, poderia ser uma metodologia mais eficiente."
   ]
  },
  {
   "cell_type": "markdown",
   "metadata": {},
   "source": [
    "12) Um entrevistador quer saber o que as criancas e adolescentes andam assistindo no tempo livre. Para isso esse entrevistador escolheu percorrer residencias entre as 9:00 e as 16:00. O que voce acha dessa metodologia? Teria uma outra metodologia para sugerir?"
   ]
  },
  {
   "cell_type": "markdown",
   "metadata": {},
   "source": [
    "**Resposta:** este horário pode nao coincidir com tempo ocioso das crianças"
   ]
  },
  {
   "cell_type": "markdown",
   "metadata": {},
   "source": [
    "13) Um pesquisador pretende avaliar as condicoes de saude de cobaias em 5 laboratorios de universidades. Para isso ele ira analisar os dados de uma amostra estratificada PROPORCIONAL de 20 cobaias. A tabela a seguir mostra o numero de cobaias por laboratorio.\n",
    "\n",
    "<h4 align=\"center\"> Tabela 1: Numero de cobaias de 5 laboratorios </h4>\n",
    "\n",
    "| laboratorio | numero de cobaias | \n",
    "| :---: | :---: | \n",
    "| A | 20 |\n",
    "| B | 60 |\n",
    "| C | 20 |\n",
    "| D | 40 |\n",
    "| E | 60 |\n",
    "\n",
    "Quantas cobaias de cada laboratorio deverao compor a amostra?\n"
   ]
  },
  {
   "cell_type": "markdown",
   "metadata": {},
   "source": [
    "**Resposta:** A amostra deverá conter 4 cobaias de cada laboratorio\n",
    "    "
   ]
  },
  {
   "cell_type": "markdown",
   "metadata": {},
   "source": [
    "14) Uma revista deseja saber sobre a sexualidade de seus leitores, e para isso elaborou um questionario para pessoas aleatorias responderem ao entrevistador. Voce concorda com a metodologia? Por que? "
   ]
  },
  {
   "cell_type": "markdown",
   "metadata": {},
   "source": [
    "**Resposta:** fazendo seleção aleatoriamente corremos o risco de selecionar apenas homens, ou mulheres por exemplo; para população heterogênea seria mais indicado a amostra estrtificada."
   ]
  },
  {
   "cell_type": "markdown",
   "metadata": {},
   "source": [
    "15) Se voce quisesse saber o nivel escolar de todos os habitantes de uma cidade do interior de Minas, como voce procederia? Usaria o censo, amostragem aleatoria, amostragem estratificada? E para saber a renda familiar de 300 domicilios? "
   ]
  },
  {
   "cell_type": "markdown",
   "metadata": {},
   "source": [
    "**Resposta:**\n",
    "usaria o censo pra saber o nivel escolar de todos os habitantes de uma cidade do interior de Minas. E usaria amostragem estratificada para saber a renda familiar de 300 domicilios."
   ]
  }
 ],
 "metadata": {
  "kernelspec": {
   "display_name": "Python 3",
   "language": "python",
   "name": "python3"
  },
  "language_info": {
   "codemirror_mode": {
    "name": "ipython",
    "version": 3
   },
   "file_extension": ".py",
   "mimetype": "text/x-python",
   "name": "python",
   "nbconvert_exporter": "python",
   "pygments_lexer": "ipython3",
   "version": "3.7.6"
  }
 },
 "nbformat": 4,
 "nbformat_minor": 4
}
