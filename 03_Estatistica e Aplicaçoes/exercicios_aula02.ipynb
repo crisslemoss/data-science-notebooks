{
 "cells": [
  {
   "cell_type": "code",
   "execution_count": 1,
   "metadata": {},
   "outputs": [],
   "source": [
    "from statistics import *"
   ]
  },
  {
   "cell_type": "markdown",
   "metadata": {},
   "source": [
    "1) Numa confeitaria, um unico confeiteiro leva, em minutos, os seguintes tempos para preparar um bolo:\n",
    "\n",
    "<h4 align=\"center\"> Tabela 01: Tempo, em minutos, para o confeiteiro preparar um bolo</h4>\n",
    "\n",
    "| | | Tempos | |\n",
    "| :---: | :---: | :---: | :---: | \n",
    "| 78 | 72 | 68 | 76 | \n",
    "| 76 | 76 | 69 | 81 | \n",
    "| 76 | 83 | 69 | 79 | \n",
    "| 72 | 85 | 72 | 76 | \n",
    "\n",
    "\n",
    "Calcule a media e a mediana dos dados acima."
   ]
  },
  {
   "cell_type": "code",
   "execution_count": 2,
   "metadata": {},
   "outputs": [
    {
     "name": "stdout",
     "output_type": "stream",
     "text": [
      "75.5\n",
      "76.0\n"
     ]
    }
   ],
   "source": [
    "import numpy as np\n",
    "# Deixe sua resposta aqui\n",
    "dados = [ 78 , 72 , 68 , 76, 76 , 76 , 69 , 81, 76 , 83 , 69 , 79, 72 , 85 , 72 , 76] \n",
    "\n",
    "media = sum(dados)/len(dados)\n",
    "print(media)\n",
    "\n",
    "mediana = np.median(dados)\n",
    "print(mediana)"
   ]
  },
  {
   "cell_type": "markdown",
   "metadata": {},
   "source": [
    "2) Calcule a media, a mediana e a moda dos dados abaixo: <br><br>\n",
    "a) [6, 8, 0, 3, 8];<br>\n",
    "b) [2, 8, 8, 6, 16];<br>\n",
    "c) [10, 20, 6, 10, 16, 4];<br>\n",
    "d) [5, 0, -2, -1, 3];<br>\n",
    "e) [1, 9, 1, 2, 0, -1, 2];<br>\n",
    "f) [12, 6, 4, 7, 10, 4, 9, 8, 5, 5]."
   ]
  },
  {
   "cell_type": "code",
   "execution_count": 3,
   "metadata": {},
   "outputs": [
    {
     "name": "stdout",
     "output_type": "stream",
     "text": [
      "5.0\n",
      "6.0\n",
      "moda: [8]\n",
      "______________________________\n",
      "7.0\n",
      "6.5\n",
      "moda: [4 5]\n"
     ]
    }
   ],
   "source": [
    "# Deixe sua resposta aqui\n",
    "\n",
    "from scipy import stats\n",
    "\n",
    "#a) [6, 8, 0, 3, 8];\n",
    "dados = [6, 8, 0, 3, 8]\n",
    "\n",
    "media = sum(dados)/len(dados)\n",
    "print(media)\n",
    "\n",
    "mediana = np.median(dados)\n",
    "print(mediana)\n",
    "\n",
    "(values,counts) = np.unique(dados,return_counts = True)\n",
    "ind=np.argmax(counts)\n",
    "print(\"moda:\",values[counts == counts.max() ])\n",
    "\n",
    "\n",
    "print('_'*30)\n",
    "#f) [12, 6, 4, 7, 10, 4, 9, 8, 5, 5].\n",
    "dados = [12, 6, 4, 7, 10, 4, 9, 8, 5, 5]\n",
    "\n",
    "media = sum(dados)/len(dados)\n",
    "print(media)\n",
    "\n",
    "mediana = np.median(dados)\n",
    "print(mediana)\n",
    "\n",
    "(values,counts) = np.unique(dados,return_counts = True)\n",
    "ind=np.argmax(counts)\n",
    "print(\"moda:\",values[counts == counts.max() ])"
   ]
  },
  {
   "cell_type": "markdown",
   "metadata": {},
   "source": [
    "3) Na faculdade, um aluno de estatistica obteve as seguintes notas:\n",
    "    \n",
    " <h4 align=\"center\">Tabela 02: Notas do aluno no semestre</h4>\n",
    "\n",
    "| Atividade | Nota | \n",
    "| :---: | :---: | \n",
    "| 1 | 90 | \n",
    "| 2 | 70 |  \n",
    "| 3 | 65 | \n",
    "| 4 | 90 | \n",
    "| 5 | 90 | \n",
    "| 6 | 30 | \n",
    "\n",
    "Use os dados para calcular a media, a media a e moda. Se voce fosse o aluno, qual medida de tendencia central gostaria que representasse sua nota final?"
   ]
  },
  {
   "cell_type": "code",
   "execution_count": 4,
   "metadata": {},
   "outputs": [
    {
     "name": "stdout",
     "output_type": "stream",
     "text": [
      "Media:72.5\n",
      "Media:80.0\n",
      "moda: [90]\n"
     ]
    }
   ],
   "source": [
    "# Deixe sua resposta aqui\n",
    "import numpy as np\n",
    "notas=[90,70,65,90,90,30]\n",
    "\n",
    "media = sum(notas)/len(notas)\n",
    "print(f'Media:{media}')\n",
    "\n",
    "mediana=np.median(notas)\n",
    "print(f'Media:{mediana}')\n",
    "\n",
    "(values,counts) = np.unique(notas,return_counts = True)\n",
    "ind=np.argmax(counts)\n",
    "print(\"moda:\",values[counts == counts.max() ])\n"
   ]
  },
  {
   "cell_type": "markdown",
   "metadata": {},
   "source": [
    "4) Calcule a media da venda de 300 itens do supermercado: (Fazer em sala)\n",
    "    \n",
    "<h4 align=\"center\">Tabela 03: Margens de lucro, em reais</h4>\n",
    "\n",
    "| Categoria (em reais) | Frequencia | \n",
    "| :---: | :---: | \n",
    "| 15 a 25 | 30 | \n",
    "| 25 a 35 | 45 |  \n",
    "| 35 a 45 | 150 | \n",
    "| 45 a 55 | 45 | \n",
    "| 55 a 65 | 30 | \n"
   ]
  },
  {
   "cell_type": "code",
   "execution_count": 5,
   "metadata": {},
   "outputs": [
    {
     "name": "stdout",
     "output_type": "stream",
     "text": [
      "Media: 60\n"
     ]
    }
   ],
   "source": [
    "# Deixe sua resposta aqui\n",
    "frequencia=[30,45,150,45,30]\n",
    "\n",
    "print(f'Media: {mean(frequencia)}')"
   ]
  },
  {
   "cell_type": "markdown",
   "metadata": {},
   "source": [
    "5) Calcule a mediana do numero de roubos em um bairro de Sao Paulo:\n",
    "    \n",
    "<h4 align=\"center\">Tabela 04: Numero de roubos em um bairro de Sao Paulo, segundo o ano</h4>\n",
    "\n",
    "| Ano | Frequencia | \n",
    "| :---: | :---: | \n",
    "| 2010 | 18 | \n",
    "| 2011 | 16 |  \n",
    "| 2012 | 16 | \n",
    "| 2013 | 32 | \n",
    "| 2014 | 28 | \n",
    "| 2015 | 17 |  \n",
    "| 2016 | 27 | \n",
    "| 2017 | 18 | \n",
    "| 2018 | 14 |"
   ]
  },
  {
   "cell_type": "code",
   "execution_count": 6,
   "metadata": {},
   "outputs": [
    {
     "name": "stdout",
     "output_type": "stream",
     "text": [
      "Mediana:18\n"
     ]
    }
   ],
   "source": [
    "# Deixe sua resposta aqui\n",
    "roubos=[18,16,16,32,28,17,27,18,14]\n",
    "\n",
    "print(f'Mediana:{median(roubos)}')"
   ]
  },
  {
   "cell_type": "raw",
   "metadata": {},
   "source": [
    "5) Um vendedor de salgados vendeu o mesmo tipo de salgado por precos diferentes durante o dia, conforme a procura.\n",
    "Na parte da manha vendeu 12 salgados a 2 reais cada, na hora do almoco vendeu 10 unidades a 3 reais, e na hora\n",
    "do cafe da tarde vendeu 8 unidades a 6 reais. Construa uma tabela e calcule o preco medio do item vendido."
   ]
  },
  {
   "cell_type": "markdown",
   "metadata": {},
   "source": [
    "| Período | Quantidade | Valor |\n",
    "| :--- | :---: |  :---: | \n",
    "| Manhã | 12 | 2|\n",
    "| Almoço | 10 | 3| \n",
    "| Café | 8 |6| \n"
   ]
  },
  {
   "cell_type": "code",
   "execution_count": 7,
   "metadata": {},
   "outputs": [
    {
     "name": "stdout",
     "output_type": "stream",
     "text": [
      "Preço médio do salgado: 3.4\n"
     ]
    }
   ],
   "source": [
    "# Deixe sua resposta aqui\n",
    "qtd_total_vendas=30\n",
    "vendas=[12*2, 10*3, 8*6]\n",
    "\n",
    "#Somar todas os items da lista\n",
    "from functools import reduce\n",
    "def soma(x,y):\n",
    "    return x+y\n",
    "soma = reduce(soma,vendas)\n",
    "\n",
    "print(f'Preço médio do salgado: {soma/qtd_total_vendas}')"
   ]
  },
  {
   "cell_type": "markdown",
   "metadata": {},
   "source": [
    "6) Calcule a media do numero de garcons com carteira assinada em estabelecimentos familiares do centro de Pocos de Caldas, e indique a porcentagem dos que tem mais garcons que a media.\n",
    "\n",
    "Dados: [2, 1, 4, 3, 2, 3, 1, 2, 3, 5, 1, 3, 2, 2, 1, 1, 1, 1, 2, 3]. "
   ]
  },
  {
   "cell_type": "code",
   "execution_count": 8,
   "metadata": {},
   "outputs": [
    {
     "name": "stdout",
     "output_type": "stream",
     "text": [
      "Média de garçons por estabelecimento: 2.15\n",
      "35.0% dos estabelecimentos tem quantidade de garçons acima da média\n"
     ]
    }
   ],
   "source": [
    "# Deixe sua resposta aqui\n",
    "numero_garcons = [2, 1, 4, 3, 2, 3, 1, 2, 3, 5, 1, 3, 2, 2, 1, 1, 1, 1, 2, 3]\n",
    "numero_estabelecimentos = len(numero_garcons)\n",
    "media_garcons_estabelecimento = mean(numero_garcons)\n",
    "\n",
    "print(f'Média de garçons por estabelecimento: {media_garcons_estabelecimento}')    \n",
    "\n",
    "acima_da_media=[i for i in numero_garcons if i>media_garcons_estabelecimento] \n",
    "\n",
    "porcentagem_acima_da_media = (len(acima_da_media) / numero_estabelecimentos* 100)\n",
    "print(f'{porcentagem_acima_da_media}% dos estabelecimentos tem quantidade de garçons acima da média')"
   ]
  },
  {
   "cell_type": "markdown",
   "metadata": {},
   "source": [
    "7) Os dados abaixo indicam salarios de profissionais do Judiciario brasileiro, em Salarios Minimos (SM). \n",
    "Calcule a media e a mediana.\n",
    "\n",
    "<h4 align=\"center\">Tabela 05: Distribuicao de salarios de profissionais do judiciario <br> brasileiro, em Salarios Minimos (SM)</h4>\n",
    "\n",
    "| SM | Frequencia | Percentual |\n",
    "| :---: | :---: | :---: |\n",
    "| 0 a 1 | 8638 | 52,9 |\n",
    "| 1 a 2 | 4987 | 30,5 |\n",
    "| 2 a 5 | 1289 | 7,9 |\n",
    "| 5 a 10 | 436 | 2,7 |\n",
    "| 10 a 20 | 293 | 1,8 |\n",
    "| mais de 20 | 701 | 4,2 |\n",
    "| Total | 16344 | 100 |"
   ]
  },
  {
   "cell_type": "code",
   "execution_count": 9,
   "metadata": {},
   "outputs": [
    {
     "name": "stdout",
     "output_type": "stream",
     "text": [
      "Media: 9.67\n",
      "Mediana: 5.50\n",
      "Media frequenica: 2890.67\n",
      "Mediana frequenica: 995.00\n"
     ]
    }
   ],
   "source": [
    "# Deixe sua resposta aqui\n",
    "\n",
    "# Como estamos trabalhando com classes de valores continuos, precisamos calcular o ponto dentral\n",
    "ponto_central = [0.5,1.5,3.5,7.5,15,30]\n",
    "print(f'Media: {mean(ponto_central):0.02f}')\n",
    "print(f'Mediana: {median(ponto_central):0.02f}')\n",
    "\n",
    "frequencia=[9638,4987,1289,436,293,701]\n",
    "print(f'Media frequenica: {mean(frequencia):0.02f}')\n",
    "print(f'Mediana frequenica: {median(frequencia):0.02f}')"
   ]
  },
  {
   "cell_type": "markdown",
   "metadata": {},
   "source": [
    "<h4 align=\"center\">Tabela 01: Distribuicao de salarios de profissionais do judiciario <br> brasileiro, em Salarios Minimos (SM)</h4>\n",
    "\n",
    "| SM | Ponto Central | Frequencia | PC* Freq |\n",
    "| :---: | :---: | :---: | :---: |\n",
    "| 0 a 1 | 0,5 | 8638 | - |\n",
    "| 1 a 2 | 1,5 | 4987 | - |\n",
    "| 2 a 5 | 3,75 | 1289 | - |\n",
    "| 5 a 10 | 7,5 | 436 | - |\n",
    "| 10 a 20 | 15 | 293 | - |\n",
    "| mais de 20 | 30 | 701 | - |\n",
    "| Total |  | -| - | "
   ]
  },
  {
   "cell_type": "markdown",
   "metadata": {},
   "source": [
    "8) Responda:\n",
    "    \n",
    "a) Se um conjunto tiver um numero par de dados, a mediana sera a _ _ _ _ _ _ _ _ _ _ _ _ quando os dados ja estao ordenados. <br>\n",
    "b) Qual a medida de tendencia central que indica que um valor ocorre com mais frequencia? <br>\n",
    "c) Pode ocorrer mais que uma moda por conjunto de dados? <br>\n",
    "d) A media divide um conjunto de dados, de forma que metade dos dados sempre é maior do que ela. "
   ]
  },
  {
   "cell_type": "code",
   "execution_count": 10,
   "metadata": {},
   "outputs": [],
   "source": [
    "# Deixe sua resposta aqui\n",
    "#a) média arimética dos dois elementos centrais\n",
    "#b) Moda\n",
    "#c) Sim\n",
    "#d) Não, isso é a mediana"
   ]
  },
  {
   "cell_type": "markdown",
   "metadata": {},
   "source": [
    "9) Sempre encontramos um aviso nos elevadores indicando o peso maximo que eles sao capazes de aguentar. \n",
    "Em uma situacao com 3 muheres com peso medio de 65 kg e 2 homens com peso medio de 82kg, \n",
    "em um elevador com peso maximo de 500 kg, havera sobrecarga? Se fosse usada a mediana para indicar essa situacao\n",
    "voce poderia responder a questao anterior? Por que?"
   ]
  },
  {
   "cell_type": "code",
   "execution_count": 11,
   "metadata": {},
   "outputs": [
    {
     "name": "stdout",
     "output_type": "stream",
     "text": [
      "Peso total:359\n",
      "Média: 71.8\n",
      "Mediana: 65\n",
      "Não houve sobrecarca\n"
     ]
    }
   ],
   "source": [
    "# Deixe sua resposta aqui\n",
    "maximo=500\n",
    "pesos=[65,65,65,82,82]\n",
    "\n",
    "print(f'Peso total:{sum(pesos)}')\n",
    "print(f'Média: {mean(pesos)}')\n",
    "print(f'Mediana: {median(pesos)}')\n",
    "\n",
    "print (\"houve sobrecarca\" if sum(pesos) > maximo else \"Não houve sobrecarca\")\n",
    "#Com a mediana não poderia constatar a sobrecarca pois os valores reais poderiam ser muito extrapolados"
   ]
  },
  {
   "cell_type": "markdown",
   "metadata": {},
   "source": [
    "10) Um estudo para verificar o tempo que um semaforo de pedestres deve ficar aberto para que idosos possam\n",
    "atravessar com seguranca obteve os seguintes dados (em segundos):\n",
    "    \n",
    "Dados: [21,4; 15,1; 13,6; 16,0; 15,0; 19,1; 21,0; 14,2; 15,6; 20,1; 21,1; 22,2].\n",
    "    \n",
    "Ache a media e verifique a porcentagem de idosos que nao atravessariam a tempo se o ajuste do semaforo\n",
    "for de 20 segundos."
   ]
  },
  {
   "cell_type": "code",
   "execution_count": 12,
   "metadata": {},
   "outputs": [
    {
     "name": "stdout",
     "output_type": "stream",
     "text": [
      "Média do tempo de travessia dos idosos: 17.87\n",
      "41.67 % dos idosos não atravessaria a tempo\n"
     ]
    }
   ],
   "source": [
    "# Deixe sua resposta aqui\n",
    "tempo_travessia=[21.4, 15.1, 13.6, 16.0, 15.0, 19.1, 21.0, 14.2, 15.6, 20.1, 21.1, 22.2]\n",
    "tempo_semaforo=20\n",
    "\n",
    "media_tempo_travessia=mean(tempo_travessia)\n",
    "print(f'Média do tempo de travessia dos idosos: {media_tempo_travessia:0.2f}')\n",
    "\n",
    "abaixo_da_media = [i for i in tempo_travessia if i > tempo_semaforo]\n",
    "\n",
    "total_idosos = len(tempo_travessia)\n",
    "total_idosos_nao_atravessa = len(abaixo_da_media)\n",
    "\n",
    "print(f'{(total_idosos_nao_atravessa/total_idosos*100):0.02f} % dos idosos não atravessaria a tempo')\n"
   ]
  },
  {
   "cell_type": "markdown",
   "metadata": {},
   "source": [
    "11) Uma montadora de veiculos resolve fazer um teste de duracao de uma determinada peca de 2 marcas de fabricantes: fornecedor A e fornecedor B. Calcule a media, a moda e a mediana de cada um, e indique qual seria mais vantajoso.\n",
    "\n",
    "Dados do fornecedor A: [486,490,491,491,494,494,496,498,498,498,502,504,505,506,507,508,510,514,515,527]; <br>\n",
    "Dados do fornecedor B: [489,489,492,492,491,492,492,493,493,494,495,496,497,497,497,498,499,502,503,505];"
   ]
  },
  {
   "cell_type": "code",
   "execution_count": 13,
   "metadata": {},
   "outputs": [
    {
     "name": "stdout",
     "output_type": "stream",
     "text": [
      "Média fornecedor A: 501.7\n",
      "Mediana fornecedor A: 500.0\n",
      "Moda fornecedor A: 498\n",
      "\n",
      "Média fornecedor B: 495.3\n",
      "Mediana fornecedor B: 494.5\n",
      "Moda fornecedor B: 492\n",
      "\n",
      "O fornecedorA é o mais vantajoso pois suas peças são mais duráveis\n"
     ]
    }
   ],
   "source": [
    "# Deixe sua resposta aqui\n",
    "fornecedorA = [486,490,491,491,494,494,496,498,498,498,502,504,505,506,507,508,510,514,515,527]\n",
    "fornecedorB = [489,489,492,492,491,492,492,493,493,494,495,496,497,497,497,498,499,502,503,505]\n",
    "\n",
    "print(f'Média fornecedor A: {mean(fornecedorA)}')\n",
    "print(f'Mediana fornecedor A: {median(fornecedorA)}')\n",
    "print(f'Moda fornecedor A: {mode(fornecedorA)}')\n",
    "\n",
    "print(f'\\nMédia fornecedor B: {mean(fornecedorB)}')\n",
    "print(f'Mediana fornecedor B: {median(fornecedorB)}')\n",
    "print(f'Moda fornecedor B: {mode(fornecedorB)}')\n",
    "\n",
    "print('\\nO fornecedorA é o mais vantajoso pois suas peças são mais duráveis')"
   ]
  },
  {
   "cell_type": "code",
   "execution_count": 14,
   "metadata": {},
   "outputs": [
    {
     "data": {
      "image/png": "[encoded data removed]",
      "text/plain": [
       "<Figure size 432x288 with 1 Axes>"
      ]
     },
     "metadata": {
      "needs_background": "light"
     },
     "output_type": "display_data"
    }
   ],
   "source": [
    "# 12) Em um concurso publico para professor, o candidato obteve as seguintes notas, de acordo com os 5 avaliadores:\n",
    "\n",
    "import matplotlib\n",
    "import matplotlib.pyplot as plt\n",
    "import numpy as np\n",
    "\n",
    "\n",
    "labels = ['Aval 1', 'Aval 2', 'Aval 3', 'Aval 4', 'Aval 5']\n",
    "con_espec_means = [18, 17, 14, 19, 16]\n",
    "con_pedag_means = [16, 13, 1, 14, 12]\n",
    "\n",
    "x = np.arange(len(labels))  \n",
    "width = 0.35  \n",
    "\n",
    "fig, ax = plt.subplots()\n",
    "rects1 = ax.bar(x - width/2, con_espec_means, width, label='Conhecimento \\n especifico')\n",
    "rects2 = ax.bar(x + width/2, con_pedag_means, width, label='Conhecimento \\n pedagogico')\n",
    "\n",
    "\n",
    "ax.set_ylabel('Notas')\n",
    "ax.set_title('Grafico 01: Notas do candidato A')\n",
    "ax.set_xticks(x)\n",
    "plt.yticks(np.arange(0, 21, 2))\n",
    "ax.set_xticklabels(labels)\n",
    "ax.legend(bbox_to_anchor=(1.05, 1), loc='upper left', borderaxespad=0.)\n",
    "\n",
    "\n",
    "def autolabel(rects):\n",
    "    \n",
    "    for rect in rects:\n",
    "        height = rect.get_height()\n",
    "        ax.annotate('{}'.format(height),\n",
    "                    xy=(rect.get_x() + rect.get_width() / 2, height),\n",
    "                    xytext=(0, 3),  # 3 points vertical offset\n",
    "                    textcoords=\"offset points\",\n",
    "                    ha='center', va='bottom')\n",
    "\n",
    "\n",
    "autolabel(rects1)\n",
    "autolabel(rects2)\n",
    "\n",
    "fig.tight_layout()\n",
    "#plt.savefig('grafico01_aula02_pratica.jpg', bbox_inches = 'tight')\n",
    "\n",
    "plt.show()"
   ]
  },
  {
   "cell_type": "markdown",
   "metadata": {},
   "source": [
    "Calcule a media dos dados e em seguida verifique:\n",
    "\n",
    "Se a banca descartar a maior nota e a menor nota, em relacao a nota anterior, qual seria a nota final? A nota seria quantos pontos maior ou quantos pontos menor em relacao a media anterior?"
   ]
  },
  {
   "cell_type": "code",
   "execution_count": 15,
   "metadata": {},
   "outputs": [
    {
     "name": "stdout",
     "output_type": "stream",
     "text": [
      "Média Conhecimento específico: 16.8\n",
      "Média Conhecimento pedagógico: 11.2\n",
      "______________________________\n",
      "Nova Média Conhecimento específico sem o min e max: 17\n",
      "Nova Média Conhecimento pedagógico sem o min e max: 13\n",
      "______________________________\n",
      "Diferença entre as médias conhecimento específico: -0.20\n",
      "Diferença entre as médias conhecimento pedagógico: -1.80\n"
     ]
    }
   ],
   "source": [
    "# Deixe sua resposta aqui\n",
    "\n",
    "labels = ['Aval 1', 'Aval 2', 'Aval 3', 'Aval 4', 'Aval 5']\n",
    "con_espec_means = [18, 17, 14, 19, 16]\n",
    "con_pedag_means = [16, 13, 1, 14, 12]\n",
    "\n",
    "#Media \n",
    "media_conhecimento_especifico=mean(con_espec_means)\n",
    "media_conhecimento_pedagogico=mean(con_pedag_means)\n",
    "\n",
    "print(f'Média Conhecimento específico: {media_conhecimento_especifico}')\n",
    "print(f'Média Conhecimento pedagógico: {media_conhecimento_pedagogico}')\n",
    "\n",
    "#Media sem o max e o min\n",
    "print('_'*30)\n",
    "con_espec_means.remove(max(con_espec_means))\n",
    "con_espec_means.remove(min(con_espec_means))\n",
    "nova_media_conhecimento_especifico = mean(con_espec_means)\n",
    "print(f'Nova Média Conhecimento específico sem o min e max: {mean(con_espec_means)}')\n",
    "\n",
    "con_pedag_means.remove(max(con_pedag_means))\n",
    "con_pedag_means.remove(min(con_pedag_means))\n",
    "nova_media_conhecimento_pedagogico = mean(con_pedag_means)\n",
    "print(f'Nova Média Conhecimento pedagógico sem o min e max: {mean(con_pedag_means)}')\n",
    "\n",
    "#diferenca entre as médias calculadas\n",
    "print('_'*30)\n",
    "print(f\"Diferença entre as médias conhecimento específico: {(media_conhecimento_especifico-nova_media_conhecimento_especifico):0.2f}\")\n",
    "print(f\"Diferença entre as médias conhecimento pedagógico: {(media_conhecimento_pedagogico-nova_media_conhecimento_pedagogico):0.2f}\")"
   ]
  },
  {
   "cell_type": "markdown",
   "metadata": {},
   "source": [
    "13) (Questao do ENEM 2012) Os dados da tabela abaixo indicam a evolucao da receita bruta dos 3 ultimos anos de 5 microempresas (ME) que\n",
    "estao a venda.\n",
    "\n",
    "<h4 align=\"center\">Tabela 06: Evolucao de receita bruta anual de 5 MEs</h4>\n",
    "\n",
    "| ME | 2009 | 2010 | 2011 |\n",
    "| :---: | :---: | :---: | :---: |\n",
    "| Alfinetes V | 200 | 220 | 240 |\n",
    "| Balas W | 200 | 230 | 200 |\n",
    "| Chocolates X | 250 | 210 | 215 |\n",
    "| Pizzaria Y | 230 | 230 | 230 |\n",
    "| Tecelagem Z | 160 | 210 | 245 |\n",
    "\n",
    "Um investidor deseja comprar as duas empresas com base na media da receita bruta anual dos ultimos 3 anos e escolhe as 2 empresas com maior media anual. Quais foram as 2 empresas escolhidas?"
   ]
  },
  {
   "cell_type": "code",
   "execution_count": 16,
   "metadata": {},
   "outputs": [
    {
     "name": "stdout",
     "output_type": "stream",
     "text": [
      "[660, 630, 675, 690, 615]\n",
      "[220.0, 210.0, 225.0, 230.0, 205.0]\n",
      "[('Alfinetes V', 220.0), ('Balas W', 210.0), ('Chocolates X', 225.0), (' Pizzaria Y', 230.0), ('Tecelagem Z', 205.0)]\n",
      "\n",
      "Empresas escolhidas: Pizzaria Y e Chocolates X \n"
     ]
    }
   ],
   "source": [
    "# Deixe sua resposta aqui\n",
    "empresas = ['Alfinetes V', 'Balas W', 'Chocolates X', ' Pizzaria Y', 'Tecelagem Z']\n",
    "receita_empresas = [[200,220,240],[200,230,200],[250,210,215],[230,230,230],[160,210,245]]\n",
    "\n",
    "total_receita_anual_empresas = [sum(i) for i in receita_empresas] \n",
    "print(total_receita_anual_empresas)\n",
    "\n",
    "media_receita_anula_empresas = [sum(i)/3 for i in receita_empresas] \n",
    "print(media_receita_anula_empresas)\n",
    "\n",
    "print(list(zip(empresas, media_receita_anula_empresas)))\n",
    "\n",
    "import heapq\n",
    "heapq.nlargest(2, media_receita_anula_empresas)\n",
    "\n",
    "print('\\nEmpresas escolhidas: Pizzaria Y e Chocolates X ')"
   ]
  }
 ],
 "metadata": {
  "kernelspec": {
   "display_name": "Python 3",
   "language": "python",
   "name": "python3"
  },
  "language_info": {
   "codemirror_mode": {
    "name": "ipython",
    "version": 3
   },
   "file_extension": ".py",
   "mimetype": "text/x-python",
   "name": "python",
   "nbconvert_exporter": "python",
   "pygments_lexer": "ipython3",
   "version": "3.7.6"
  }
 },
 "nbformat": 4,
 "nbformat_minor": 4
}
