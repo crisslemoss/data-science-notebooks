{
 "cells": [
  {
   "cell_type": "code",
   "execution_count": 1,
   "metadata": {},
   "outputs": [],
   "source": [
    "import matplotlib.pyplot as plt\n",
    "import numpy as np"
   ]
  },
  {
   "cell_type": "markdown",
   "metadata": {},
   "source": [
    "1) Calcule o maximo, o minimo e a amplitude do conjunto [2,4,6,8,10,12]"
   ]
  },
  {
   "cell_type": "code",
   "execution_count": 2,
   "metadata": {},
   "outputs": [
    {
     "name": "stdout",
     "output_type": "stream",
     "text": [
      "Minimo: 2\n",
      "Máximo 12\n",
      "Aplitude: 10\n"
     ]
    }
   ],
   "source": [
    "# Deixe sua resposta aqui\n",
    "dados = [2,4,6,8,10,12]\n",
    "\n",
    "min_dados = np.min(dados)\n",
    "print(\"Minimo:\", min_dados)\n",
    "\n",
    "max_dados = np.max(dados)\n",
    "print(\"Máximo\", max_dados)\n",
    "\n",
    "aplitude = max_dados- min_dados\n",
    "print(\"Aplitude:\", aplitude)"
   ]
  },
  {
   "cell_type": "markdown",
   "metadata": {},
   "source": [
    "2) Calcule os desvios dos dados do cojunto [1,3,5,7,9,11]\n"
   ]
  },
  {
   "cell_type": "code",
   "execution_count": 3,
   "metadata": {},
   "outputs": [
    {
     "name": "stdout",
     "output_type": "stream",
     "text": [
      "Media: 6.0\n",
      "Desvio: 3.7416573867739413\n"
     ]
    }
   ],
   "source": [
    "# Deixe sua resposta aqui\n",
    "dados = [1,3,5,7,9,11]\n",
    "\n",
    "grau_liberdade = 1\n",
    "\n",
    "print(\"Media:\", np.mean(dados))\n",
    "print(\"Desvio:\", np.std(dados,ddof=grau_liberdade))"
   ]
  },
  {
   "cell_type": "markdown",
   "metadata": {},
   "source": [
    "3) Calcule a media, mediana e desvio padrao dos dois conjuntos de dados e comente sobre o resultado encontrado.\n",
    "\n",
    "<h4 align=\"center\"> Tabela 1: Numero de aparicoes do vereador X fora do periodo de eleicoes, <br> e dentro do periodo de eleicoes </h4>\n",
    "  \n",
    "| | | | | | | |  \n",
    "| :---: | :---: | :---: | :---: | :---: | :---: | :---: | \n",
    "| fora | 5 | 4 | 7 | 4 | 6 | 22 | \n",
    "| dentro | 23 | 20 | 24 | 25 | 23 | 23 | \n"
   ]
  },
  {
   "cell_type": "code",
   "execution_count": 4,
   "metadata": {},
   "outputs": [
    {
     "name": "stdout",
     "output_type": "stream",
     "text": [
      "Média: 8.0\n",
      "Mediana: 5.5\n",
      "Desvio: 6.957010852370434\n"
     ]
    }
   ],
   "source": [
    "# Deixe sua resposta aqui\n",
    "fora = [5,4,7,4,6,22]\n",
    "grau_liberdade = 1\n",
    "\n",
    "print(\"Média:\", np.mean(fora))\n",
    "print(\"Mediana:\", np.median(fora))\n",
    "print(\"Desvio:\", np.std(fora,ddof=grau_liberdade))"
   ]
  },
  {
   "cell_type": "code",
   "execution_count": 5,
   "metadata": {},
   "outputs": [
    {
     "name": "stdout",
     "output_type": "stream",
     "text": [
      "Média: 23.0\n",
      "Mediana: 23.0\n",
      "Desvio: 1.6733200530681511\n"
     ]
    }
   ],
   "source": [
    "dentro = [23,20,24,25,23,23]\n",
    "grau_liberdade = 1\n",
    "\n",
    "print(\"Média:\", np.mean(dentro))\n",
    "print(\"Mediana:\", np.median(dentro))\n",
    "print(\"Desvio:\", np.std(dentro,ddof=grau_liberdade))"
   ]
  },
  {
   "cell_type": "code",
   "execution_count": 6,
   "metadata": {},
   "outputs": [],
   "source": [
    "# Na época das eleiçoes as visitas foram mais frequentes"
   ]
  },
  {
   "cell_type": "markdown",
   "metadata": {},
   "source": [
    "4) Duas funcionarias de uma fabrica estao sendo avaliadas de acordo com o tempo que levam para realizar duas\n",
    "tarefas consecutivas (tarefa 1, e tarefa 2), conforme a tabela abaixo.\n",
    "\n",
    "<h4 align=\"center\"> Tabela 2: Tempo, em minutos, para realizacao de 2 tarefas, para 2 funcionarias </h4>\n",
    "  \n",
    "| Func A | | func B | |\n",
    "| :---: | :---: | :---: | :---: | \n",
    "| tarefa 1 | tarefa 2 | tarefa 1 | tarefa 2 |\n",
    "| 30 | 2 | 31 | 7 | \n",
    "| 28 | 4 | 30 | 2 | \n",
    "| 31 | 3 | 32 | 6 | \n",
    "| 38 | 3 | 30 | 5 |\n",
    "| 25 | 2 | 29 | 4 | \n",
    "| 29 | 4 | 30 | 1 |\n",
    "| 30 | 3 | 31 | 4 | \n",
    "\n",
    "\n",
    "a) Calcule o tempo medio de cada uma das funcionarias para completar as 2 tarefas; <br>\n",
    "b) Calcule a amplitude de cada subtarefa para cada funcionaria; <br>\n",
    "c) Em qual subtarefa e pra qual funcionaria houve maior variabilidade?"
   ]
  },
  {
   "cell_type": "code",
   "execution_count": 7,
   "metadata": {},
   "outputs": [
    {
     "name": "stdout",
     "output_type": "stream",
     "text": [
      "a)\n",
      "Média das duas tarefas da func A: 34.57142857142857\n",
      "Média das duas tarefas da func B: 33.142857142857146\n",
      "\n",
      "b)\n",
      "Aplitude tarefa 1 funcA: 13\n",
      "Aplitude tarefa 2 funcA: 2\n",
      "Aplitude tarefa 1 funcB: 3\n",
      "Aplitude tarefa 2 funcB: 6\n",
      "\n",
      "c)\n",
      "Houve maior variação na execução da tarfa 1 para a funcionária A\n"
     ]
    }
   ],
   "source": [
    "# Deixe sua resposta aqui\n",
    "print(\"a)\")\n",
    "A_tempo_tarefa1 = [30,28,31,38,25,29,30]\n",
    "A_tempo_tarefa2 = [2,4,3,3,2,4,3]\n",
    "funcA_media = [elemA + elemB  for elemA, elemB in zip(A_tempo_tarefa1,A_tempo_tarefa2)]\n",
    "\n",
    "B_tempo_tarefa1 = [31,30,32,30,29,30,31]\n",
    "B_tempo_tarefa2 =[7,2,6,5,4,1,4]\n",
    "funcB_media = [elemA + elemB  for elemA, elemB in zip(B_tempo_tarefa1,B_tempo_tarefa2)]\n",
    "\n",
    "print(\"Média das duas tarefas da func A:\", np.mean(funcB_media))\n",
    "print(\"Média das duas tarefas da func B:\", np.mean(funcA_media))\n",
    "\n",
    "print(\"\\nb)\")\n",
    "\n",
    "print(\"Aplitude tarefa 1 funcA:\", ( np.max(A_tempo_tarefa1) - np.min(A_tempo_tarefa1)))\n",
    "print(\"Aplitude tarefa 2 funcA:\", ( np.max(A_tempo_tarefa2) - np.min(A_tempo_tarefa2)))\n",
    "print(\"Aplitude tarefa 1 funcB:\", ( np.max(B_tempo_tarefa1) - np.min(B_tempo_tarefa1)))\n",
    "print(\"Aplitude tarefa 2 funcB:\", ( np.max(B_tempo_tarefa2) - np.min(B_tempo_tarefa2)))\n",
    "#Funcionaria B pode fFoi ocar na tarefa 1 e a \n",
    "#Funcionaria A tem melhor desempenho na execução da tarefa 2\n",
    "\n",
    "print(\"\\nc)\")\n",
    "print(\"Houve maior variação na execução da tarfa 1 para a funcionária A\")"
   ]
  },
  {
   "cell_type": "markdown",
   "metadata": {},
   "source": [
    "5) Em um curso de Computacao com turmas no periodo diurno e noturno, foram obtidas as seguintes medias nas disciplinas:\n",
    "\n",
    "<h4 align=\"center\"> Tabela 3: Medias de notas de acordo com o periodo cursado. </h4>\n",
    "  \n",
    "| Disciplina | Diurno | Noturno | \n",
    "| :---: | :---: | :---: | \n",
    "| Algoritmos | 51,2 | 47,1 |  \n",
    "| Data Science |55,1 | 59,0 |  \n",
    "| Matematica aplicada | 43,3 | 35,7 |  \n",
    "| Linguagens | 46,0 | 46,6 | \n",
    "| Fundamentos de eletronica | 43 | 43 |  \n",
    "| Calculo | 46,6 | 46,5 | \n",
    "| SO | 49,5 | 42,6 | \n",
    "| Topicos Especiais | 63,3 | 58,2 | \n",
    "| Redes | 29,3 | 29,8 | \n",
    "\n",
    "a) Qual periodo obteve a media maior?;<br>\n",
    "b) Em qual periodo houve maior variabilidade de medias?"
   ]
  },
  {
   "cell_type": "code",
   "execution_count": 8,
   "metadata": {},
   "outputs": [
    {
     "name": "stdout",
     "output_type": "stream",
     "text": [
      "a)\n",
      "Media Diurno: 47.47777777777778\n",
      "Media Noturno: 45.38888888888889\n",
      "\n",
      "b)\n",
      "desvio diurno: 9.335922259982912\n",
      "desvio noturno: 9.390080463505683\n"
     ]
    }
   ],
   "source": [
    "# Deixe sua resposta aqui\n",
    "diurno = [51.2,55.1,43.3,46.0,43,46.6,49.5,63.3,29.3]\n",
    "noturno = [47.1,59.0,35.7,46.6,43,46.5,42.6,58.2,29.8]\n",
    "\n",
    "print(\"a)\")\n",
    "print(\"Media Diurno:\",np.mean(diurno))\n",
    "print(\"Media Noturno:\",np.mean(noturno))\n",
    "\n",
    "print(\"\\nb)\")\n",
    "print(\"desvio diurno:\", np.std(diurno, ddof=1))\n",
    "print(\"desvio noturno:\", np.std(noturno, ddof=1))\n"
   ]
  },
  {
   "cell_type": "code",
   "execution_count": 9,
   "metadata": {},
   "outputs": [],
   "source": [
    "#As notas do diurno foram melhores e o desvio foi maior no curso noturno"
   ]
  },
  {
   "cell_type": "markdown",
   "metadata": {},
   "source": [
    "6) Crie um box plot para os dados: [72,103,87,78,89,69,8,87,97,78,80,90,98,78,86,90,91,99]"
   ]
  },
  {
   "cell_type": "code",
   "execution_count": 10,
   "metadata": {
    "scrolled": false
   },
   "outputs": [
    {
     "name": "stdout",
     "output_type": "stream",
     "text": [
      "Mediana 87.0\n",
      "q1: 78.0\n",
      "q3: 90.75\n"
     ]
    }
   ],
   "source": [
    "# Deixe sua resposta aqui\n",
    "\n",
    "dados = [72,103,87,78,89,69,8,87,97,78,80,90,98,78,86,90,91,99]\n",
    "median, q1, q3 = np.percentile(dados,50), np.percentile(dados,25), np.percentile(dados,75)\n",
    "\n",
    "print(\"Mediana\",median)\n",
    "print(\"q1:\",q1)\n",
    "print(\"q3:\",q3)\n"
   ]
  },
  {
   "cell_type": "code",
   "execution_count": 11,
   "metadata": {},
   "outputs": [
    {
     "data": {
      "image/png": "[encoded data removed]",
      "text/plain": [
       "<Figure size 720x504 with 1 Axes>"
      ]
     },
     "metadata": {
      "needs_background": "light"
     },
     "output_type": "display_data"
    }
   ],
   "source": [
    "data = np.array(dados)\n",
    "fig = plt.figure(figsize=(10,7))\n",
    "plt.boxplot(data,whis='range')\n",
    "plt.xticks([])\n",
    "plt.ylabel('Valor y')\n",
    "plt.title('Grafico 01: Estatistica boxplot')\n",
    "plt.show()"
   ]
  },
  {
   "cell_type": "markdown",
   "metadata": {},
   "source": [
    "7) Calcule a mediana, a amplitude e os quartis para os dados: [4.74, 4.72, 4.72, 4.76, 4.76, 4.74, 4.72, 4.75, 4.73, 4.75]\n",
    "    "
   ]
  },
  {
   "cell_type": "code",
   "execution_count": 12,
   "metadata": {},
   "outputs": [
    {
     "name": "stdout",
     "output_type": "stream",
     "text": [
      "Mediana 4.74\n",
      "q1: 4.7225\n",
      "q3: 4.75\n",
      "Amplitude: 0.040000000000000036\n"
     ]
    }
   ],
   "source": [
    "# Deixe sua resposta aqui\n",
    "dados = [4.74, 4.72, 4.72, 4.76, 4.76, 4.74, 4.72, 4.75, 4.73, 4.75]\n",
    "median, q1, q3 = np.percentile(dados,50), np.percentile(dados,25), np.percentile(dados,75)\n",
    "print(\"Mediana\",median)\n",
    "print(\"q1:\",q1)\n",
    "print(\"q3:\",q3)\n",
    "print('Amplitude:', max(dados) - min(dados))"
   ]
  },
  {
   "cell_type": "markdown",
   "metadata": {},
   "source": [
    "8) Responda:\n",
    "\n",
    "a) A variancia pode ser negativa?<br>\n",
    "b) Uma mercadoria que possui um alto desvio padrao tem uma boa qualidade? Comente.<br>\n",
    "c) A mediana corresponde a qual percentil?<br>\n",
    "d) Um dado discrepante afeta a variancia?<br>"
   ]
  },
  {
   "cell_type": "code",
   "execution_count": 13,
   "metadata": {},
   "outputs": [],
   "source": [
    "# Deixe sua resposta aqui\n",
    "#a)Não, variancia é elevado ao quadrado tornando um valor negativo em positivo;\n",
    "#b)Não, alto desvio padrão indica que há muita variação de suas caracteristicas;\n",
    "#c)Segundo quartil ou percentil 50%;\n",
    "#d)Sim;"
   ]
  },
  {
   "cell_type": "markdown",
   "metadata": {},
   "source": [
    "9) Calcule o maximo, o minimo e a amplitude do conjunto [6, 10, 7, 7, 9, 7, 1, 9, 8, 11, 10, 3, 6, 9, 5]. Se os dados fossem para medidas de tempo de espera de uma ligacao, o que a mediana informaria?\n"
   ]
  },
  {
   "cell_type": "code",
   "execution_count": 14,
   "metadata": {
    "scrolled": true
   },
   "outputs": [
    {
     "name": "stdout",
     "output_type": "stream",
     "text": [
      "Máximo: 11\n",
      "Mínimo: 1\n",
      "Amplitude: 10\n",
      "Mediana: 7\n"
     ]
    }
   ],
   "source": [
    "# Deixe sua resposta aqui\n",
    "dados = [6, 10, 7, 7, 9, 7, 1, 9, 8, 11, 10, 3, 6, 9, 5]\n",
    "#... para nota daqui em diante\n",
    "\n",
    "from statistics import *\n",
    "\n",
    "maximo=max(dados);\n",
    "minimo=min(dados)\n",
    "print(f'Máximo: {maximo}')\n",
    "print(f'Mínimo: {minimo}')\n",
    "print(f'Amplitude: {maximo-minimo}')\n",
    "print(f'Mediana: {median(dados)}')"
   ]
  },
  {
   "cell_type": "code",
   "execution_count": 15,
   "metadata": {},
   "outputs": [],
   "source": [
    "# Mediana indica que a quantidade de tempo de espera menor que 7 é o mesmo da qantidade de tempo deespera maiores que 7"
   ]
  },
  {
   "cell_type": "markdown",
   "metadata": {},
   "source": [
    "10) Calcule o desvio padrao para o tempo de duracao que uma pessoa demora na fila de uma lanchonete fora do horario de pico.\n",
    "\n",
    "dados = [4, 4, 2, 2, 8, 5, 1, 12, 7]."
   ]
  },
  {
   "cell_type": "code",
   "execution_count": 16,
   "metadata": {
    "scrolled": true
   },
   "outputs": [
    {
     "name": "stdout",
     "output_type": "stream",
     "text": [
      "Desvio padrão:  3.5\n"
     ]
    }
   ],
   "source": [
    "# Deixe sua resposta aqui\n",
    "gl=1\n",
    "dados = [4, 4, 2, 2, 8, 5, 1, 12, 7]\n",
    "print('Desvio padrão: ', np.std(dados, ddof=gl))"
   ]
  },
  {
   "cell_type": "markdown",
   "metadata": {},
   "source": [
    "11) Uma montadora de veiculos resolve fazer um teste de duracao de uma determinada peca de 2 marcas de fabricantes: fornecedor A e fornecedor B. Calcule a media e o desvio padrao, e indique qual seria mais vantajoso.\n",
    "\n",
    "Dados do fornecedor A: [486,490,491,491,494,494,496,498,498,498,502,504,505,506,507,508,510,514,515,527]; <br>\n",
    "Dados do fornecedor B: [489,489,492,492,491,492,492,493,493,494,495,496,497,497,497,498,499,502,503,505];"
   ]
  },
  {
   "cell_type": "code",
   "execution_count": 17,
   "metadata": {},
   "outputs": [
    {
     "name": "stdout",
     "output_type": "stream",
     "text": [
      "Média fornecedor A: 501.7\n",
      "Desvio padrao fornecedor A: 10.115647077151005\n",
      "\n",
      "Média fornecedor B: 495.3\n",
      "Desvio padrao fornecedor B: 4.485062928620312\n",
      "\n",
      "O fornecedorB é o mais vantajoso pois suas pesas sao mais homogêneas\n"
     ]
    }
   ],
   "source": [
    "# Deixe sua resposta aqui\n",
    "gl = 1\n",
    "\n",
    "fornecedorA = [486,490,491,491,494,494,496,498,498,498,502,504,505,506,507,508,510,514,515,527]\n",
    "fornecedorB = [489,489,492,492,491,492,492,493,493,494,495,496,497,497,497,498,499,502,503,505]\n",
    "\n",
    "print('Média fornecedor A:', mean(fornecedorA))\n",
    "print('Desvio padrao fornecedor A:', np.std(fornecedorA, ddof=gl))\n",
    "\n",
    "\n",
    "print('\\nMédia fornecedor B:', mean(fornecedorB))\n",
    "print('Desvio padrao fornecedor B:' , np.std(fornecedorB, ddof=gl))\n",
    "\n",
    "print('\\nO fornecedorB é o mais vantajoso pois suas pesas sao mais homogêneas')"
   ]
  },
  {
   "cell_type": "code",
   "execution_count": 18,
   "metadata": {},
   "outputs": [],
   "source": [
    "#Enquanto o Fornecedor A apresenta peças mais duráveis o\n",
    "#Fornecedor B apresenta menor desvio padrao, o que significa uma amostra mais homogênea"
   ]
  },
  {
   "cell_type": "markdown",
   "metadata": {},
   "source": [
    "12) Relembrando o estudo para verificar o tempo que um semaforo de pedestres deve ficar aberto para que idosos possam atravessar com seguranca, verificamos que os seguintes dados para tempo (em segundos) foram computados:\n",
    "\n",
    "Dados: [21,4; 15,1; 13,6; 16,0; 15,0; 19,1; 21,0; 14,2; 15,6; 20,1; 21,1; 22,2].\n",
    "\n",
    "Ache os percentis e indique quantos idosos ficaram acima do terceiro percentil."
   ]
  },
  {
   "cell_type": "code",
   "execution_count": 19,
   "metadata": {
    "scrolled": true
   },
   "outputs": [
    {
     "name": "stdout",
     "output_type": "stream",
     "text": [
      "15.075 , 17.55 , 21.025\n",
      "3 idosos ficaram acima do terceiro percentil\n"
     ]
    }
   ],
   "source": [
    "import numpy as np\n",
    "\n",
    "dados=[21.4, 15.1, 13.6, 16.0, 15.0, 19.1, 21.0, 14.2, 15.6, 20.1, 21.1, 22.2]\n",
    "        \n",
    "median, q1, q3 = np.percentile(dados, 50), np.percentile(dados, 25), np.percentile(dados, 75)\n",
    "print(q1, ',',median, ',', q3)       \n",
    "\n",
    "idosos_terceiro_quartil = [i for i in dados if i>q3]\n",
    "print(f'{len(idosos_terceiro_quartil)} idosos ficaram acima do terceiro percentil')\n"
   ]
  }
 ],
 "metadata": {
  "kernelspec": {
   "display_name": "Python 3",
   "language": "python",
   "name": "python3"
  },
  "language_info": {
   "codemirror_mode": {
    "name": "ipython",
    "version": 3
   },
   "file_extension": ".py",
   "mimetype": "text/x-python",
   "name": "python",
   "nbconvert_exporter": "python",
   "pygments_lexer": "ipython3",
   "version": "3.7.6"
  }
 },
 "nbformat": 4,
 "nbformat_minor": 4
}
