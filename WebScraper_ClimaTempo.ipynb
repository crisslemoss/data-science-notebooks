{
 "cells": [
  {
   "cell_type": "code",
   "execution_count": 12,
   "metadata": {},
   "outputs": [],
   "source": [
    "#pip3 install beutifulsoup4\n",
    "import bs4 #https://www.crummy.com/software/BeautifulSoup/bs4/doc/\n",
    "import requests #\n",
    "import re"
   ]
  },
  {
   "cell_type": "code",
   "execution_count": 13,
   "metadata": {},
   "outputs": [
    {
     "name": "stdout",
     "output_type": "stream",
     "text": [
      "Temperatura mínima: <span class=\"_margin-r-20\" id=\"min-temp-1\">14°</span>\n",
      "Temperatura máxima: <span id=\"max-temp-1\">31°</span>\n"
     ]
    }
   ],
   "source": [
    "url = 'https://www.climatempo.com.br/previsao-do-tempo/cidade/182/pocosdecaldas-mg'\n",
    "page = requests.get(url)\n",
    "\n",
    "soup =bs4.BeautifulSoup(page.text, 'html.parser')\n",
    "\n",
    "temp_min = soup.find(id='min-temp-1')\n",
    "print(\"Temperatura mínima:\",temp_min)\n",
    "\n",
    "temp_max = soup.find(id='max-temp-1')\n",
    "print(\"Temperatura máxima:\",temp_max)"
   ]
  },
  {
   "cell_type": "code",
   "execution_count": 16,
   "metadata": {},
   "outputs": [
    {
     "name": "stdout",
     "output_type": "stream",
     "text": [
      "  Temperatura   14°  31°    Chuva     0mm - 0%    Vento   NE - 20km/h    Umidade   18%  46%    Sol  06:04h  17:59h   \n"
     ]
    }
   ],
   "source": [
    "text = soup.find(class_ = 'variables-list').get_text()\n",
    "text = re.sub(\"\\n\",\" \",text)\n",
    "print(text)"
   ]
  },
  {
   "cell_type": "code",
   "execution_count": 24,
   "metadata": {},
   "outputs": [
    {
     "name": "stdout",
     "output_type": "stream",
     "text": [
      "lista limpa:['Temperatura', '14°', '31°', 'Chuva', '0mm', '-', '0%', 'Vento', 'NE', '-', '20km/h', 'Umidade', '18%', '46%', 'Sol', '06:04h', '17:59h']\n"
     ]
    }
   ],
   "source": [
    "var = text.split(\" \")\n",
    "#print(\"Lista_suja:\" + str(var))\n",
    "\n",
    "new_list = []\n",
    "\n",
    "for item in var:\n",
    "    if item != \"\":\n",
    "        new_list.append(item)\n",
    "        \n",
    "print(\"lista limpa:\" + str(new_list))        \n"
   ]
  },
  {
   "cell_type": "code",
   "execution_count": 28,
   "metadata": {},
   "outputs": [
    {
     "name": "stdout",
     "output_type": "stream",
     "text": [
      "Temperatura - min: 14° max: 31°\n"
     ]
    }
   ],
   "source": [
    "primeiro_dado = str(new_list[0] + \" - min: \" + new_list[1] + \" max: \" + new_list[2] )\n",
    "print(primeiro_dado)"
   ]
  },
  {
   "cell_type": "code",
   "execution_count": null,
   "metadata": {},
   "outputs": [],
   "source": [
    "#==========================================================================================="
   ]
  },
  {
   "cell_type": "code",
   "execution_count": null,
   "metadata": {},
   "outputs": [],
   "source": [
    "import bs4 import BeautifulSoup\n",
    "import request\n",
    "\n"
   ]
  }
 ],
 "metadata": {
  "kernelspec": {
   "display_name": "Python 3",
   "language": "python",
   "name": "python3"
  },
  "language_info": {
   "codemirror_mode": {
    "name": "ipython",
    "version": 3
   },
   "file_extension": ".py",
   "mimetype": "text/x-python",
   "name": "python",
   "nbconvert_exporter": "python",
   "pygments_lexer": "ipython3",
   "version": "3.7.6"
  }
 },
 "nbformat": 4,
 "nbformat_minor": 4
}
