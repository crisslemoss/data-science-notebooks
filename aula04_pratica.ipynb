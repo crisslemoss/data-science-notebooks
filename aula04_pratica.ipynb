{
 "cells": [
  {
   "cell_type": "code",
   "execution_count": 1,
   "metadata": {},
   "outputs": [],
   "source": [
    "import matplotlib.pyplot as plt\n",
    "import numpy as np\n",
    "from scipy import stats\n",
    "import pandas as pd"
   ]
  },
  {
   "cell_type": "markdown",
   "metadata": {},
   "source": [
    "1) Faca um grafico de dispersao para os dados, e calcule o coeficiente de correlacao entre as variaveis:\n",
    "    \n",
    "<h4 align=\"center\"> Tabela 1: Dados para x e y </h4>\n",
    "  \n",
    "| x | y | \n",
    "| :--- | ---: | \n",
    "| -2 | 6 | \n",
    "| -1 | 2 | \n",
    "| 0 | 3 | \n",
    "| 1 | 0 | \n",
    "| 2 | 1 |  \n"
   ]
  },
  {
   "cell_type": "code",
   "execution_count": 2,
   "metadata": {},
   "outputs": [
    {
     "data": {
      "text/plain": [
       "Text(0, 0.5, 'valores de y')"
      ]
     },
     "execution_count": 2,
     "metadata": {},
     "output_type": "execute_result"
    },
    {
     "data": {
      "image/png": "[encoded data removed]",
      "text/plain": [
       "<Figure size 432x288 with 1 Axes>"
      ]
     },
     "metadata": {
      "needs_background": "light"
     },
     "output_type": "display_data"
    }
   ],
   "source": [
    "# Deixe sua resposta aqui\n",
    "x=[-2,-1,0,1,2]\n",
    "y=[6,2,3,0,1]\n",
    "\n",
    "fig = plt.figure()\n",
    "ax = fig.add_axes([0,0,1,1])\n",
    "\n",
    "ax.scatter(x,y,color='b')\n",
    "plt.yticks(np.arange(0,8,1))\n",
    "plt.xticks(np.arange(-3,3,1))\n",
    "\n",
    "ax.set_xlabel('valores de x')\n",
    "ax.set_ylabel('valores de y')\n"
   ]
  },
  {
   "cell_type": "code",
   "execution_count": 3,
   "metadata": {},
   "outputs": [
    {
     "name": "stdout",
     "output_type": "stream",
     "text": [
      "Coeficiente: -0.8241633836921343\n"
     ]
    }
   ],
   "source": [
    "slope, intercept, r_value, p_value, std_err = stats.linregress(x,y)\n",
    "\n",
    "print(\"Coeficiente:\", r_value)"
   ]
  },
  {
   "cell_type": "code",
   "execution_count": 4,
   "metadata": {},
   "outputs": [],
   "source": [
    "# slope = coeficiente angular\n",
    "# intercept = coeficiente linear\n",
    "# r_value = coeficiente de Pearson ou de correlacao\n",
    "# p_value = (Nao estudamos, mas eh coeficiente de testes de hiposteses)\n",
    "# std_err = erro padrao"
   ]
  },
  {
   "cell_type": "markdown",
   "metadata": {},
   "source": [
    "2) Faca um grafico de dispersao para os dados, e calcule o coeficiente de correlacao entre as variaveis:\n",
    "    \n",
    "<h4 align=\"center\"> Tabela 2: Dados para x e y </h4>\n",
    "  \n",
    "| x | y | \n",
    "| :---: | :---: | \n",
    "| -2 | -2 | \n",
    "| -1 | 1 | \n",
    "| 0 | 2 | \n",
    "| 1 | 5 | \n",
    "| 2 | 6 |  "
   ]
  },
  {
   "cell_type": "markdown",
   "metadata": {},
   "source": [
    "3) Uma empresa resolveu investir em treinamentos para os funcionarios. Verifique atraves do grafico \n",
    "mais adequado se o investimento valeu a pena:\n",
    "    \n",
    "<h4 align=\"center\"> Tabela 2: Investimento em treinamento de funcionarios (em milhares) e retorno financeiros <br>de uma empresa durante 4 meses </h4>\n",
    "  \n",
    "| Investimento | Retorno | \n",
    "| :---: | :---: | \n",
    "| 26.7 | 130 | \n",
    "| 43.8 | 170 | \n",
    "| 91.7 | 360 | \n",
    "| 143.8 | 855 |   "
   ]
  },
  {
   "cell_type": "code",
   "execution_count": 5,
   "metadata": {},
   "outputs": [
    {
     "data": {
      "image/png": "[encoded data removed]",
      "text/plain": [
       "<Figure size 432x288 with 1 Axes>"
      ]
     },
     "metadata": {
      "needs_background": "light"
     },
     "output_type": "display_data"
    }
   ],
   "source": [
    "# Deixe sua resposta aqui\n",
    "x=[26.7,43.8,91.7,143.8]\n",
    "y=[130,170,360,855]\n",
    "\n",
    "fig=plt.figure()\n",
    "ax = fig.add_axes([0,0,1,1])\n",
    "ax.scatter(x,y,color='b')\n",
    "\n",
    "plt.yticks(np.arange(min(y)-10,max(y)+10,100))\n",
    "plt.xticks(np.arange(min(x)-10,max(x)+10,10))\n",
    "\n",
    "\n",
    "\n",
    "ax.set_xlabel('investimentos em reais')\n",
    "ax.set_ylabel('valores de y')\n",
    "ax.set_title('grafico01: Relacao entre investimento e retorno financeiro')\n",
    "\n",
    "plt.show()"
   ]
  },
  {
   "cell_type": "code",
   "execution_count": 6,
   "metadata": {},
   "outputs": [],
   "source": [
    "# Valeu muito a pena!"
   ]
  },
  {
   "cell_type": "markdown",
   "metadata": {},
   "source": [
    "4) indique o tipo de correlacao que voce espera encontrar em:\n",
    "\n",
    "a) idade e velocidade de corrida; <br>\n",
    "b) numero de vendedores e volume de vendas; <br>\n",
    "c) idade e expectativa de vida; <br>\n",
    "d) altura e numero de fios de cabelo."
   ]
  },
  {
   "cell_type": "code",
   "execution_count": 7,
   "metadata": {},
   "outputs": [],
   "source": [
    "# Deixe sua resposta aqui\n",
    "# a) correlacao negativa\n",
    "# b) correlacao positiva\n",
    "# c) correlacao negativa\n",
    "# d) correlacao negativa (não ficou claro a pergunta)"
   ]
  },
  {
   "cell_type": "markdown",
   "metadata": {},
   "source": [
    "5) Verifique se o preco de passagens aereas de uma empresa esta relacionado com a distancia do trajeto:\n",
    "    \n",
    "<h4 align=\"center\"> Tabela 3: Distancia percorrida x precos </h4>\n",
    "  \n",
    "| Distancia | Preco | \n",
    "| :---: | :---: | \n",
    "| 2375 | 430 | \n",
    "| 1400 | 272 | \n",
    "| 1250 | 252 | \n",
    "| 2325 | 422 |\n",
    "| 985 | 207 |\n",
    "| 2025 | 373 |"
   ]
  },
  {
   "cell_type": "code",
   "execution_count": 8,
   "metadata": {},
   "outputs": [],
   "source": [
    "# Deixe sua resposta aqui\n",
    "x = [2375, 1400, 1250, 2325, 985, 2025]\n",
    "y = [430, 272, ]"
   ]
  },
  {
   "cell_type": "markdown",
   "metadata": {},
   "source": [
    "6) Uma segunda empresa resolveu investir em treinamentos para os funcionarios. Verifique atraves do grafico \n",
    "mais adequado, e comente, se o numero de dias que o funcionario treinou valeu a pena para a empresa:\n",
    "    \n",
    "<h4 align=\"center\"> Tabela 4: Investimento em treinamento de funcionarios (em dias) e rendimento individual </h4>\n",
    "  \n",
    "| dias | rendimento | \n",
    "| :---: | :---: | \n",
    "| 1.0 | 41 | \n",
    "| 1.5 | 60 | \n",
    "| 2.0 | 72 | \n",
    "| 2.5 | 91 |\n",
    "| 3.0 | 99 |"
   ]
  },
  {
   "cell_type": "code",
   "execution_count": 9,
   "metadata": {},
   "outputs": [],
   "source": [
    "# Deixe sua resposta aqui\n"
   ]
  },
  {
   "cell_type": "markdown",
   "metadata": {},
   "source": [
    "7) Se voce obtivesse os coeficientes de correlacao abaixo, que tipo de informacao voce teria sobre a relacao entre a variavel X e a variavel Y?\n",
    "\n",
    "a) r = 1 ;<br>\n",
    "b) r = -1 ;<br>\n",
    "c) r = 0 ;<br>\n",
    "d) r = 0,90 ;<br>\n",
    "e) r = -0,90."
   ]
  },
  {
   "cell_type": "code",
   "execution_count": 10,
   "metadata": {},
   "outputs": [],
   "source": [
    "# Deixe sua resposta aqui\n",
    "# a) perfeita positiva\n",
    "# b) perfeita negativa\n",
    "# c) sem correlacao\n",
    "# d) correlacao positiva forte\n",
    "# e) correlacao negativa forte"
   ]
  },
  {
   "cell_type": "markdown",
   "metadata": {},
   "source": [
    "8) Em uma fabrica de autopecas, 6 funcionarios trabalhando lado a lado foram avaliados em relacao ao numero de horas trabalhadas e pecas finalizadas. Construa um grafico mostrando a linha de regressao dos dados, e calcule o coeficiente de determinacao. Verifique quantas pecas seriam finalizadas se um funcionario trabalhasse 10 horas. \n",
    "\n",
    "<h4 align=\"center\"> Tabela 5: Horas trabalhadas de 6 funcionarios (em horas) e rendimento individual (pecas produzidas) </h4>\n",
    "  \n",
    "| horas | producao | \n",
    "| :---: | :---: | \n",
    "| 5 | 16 | \n",
    "| 1 | 15 | \n",
    "| 7 | 19 | \n",
    "| 9 | 23 |\n",
    "| 2 | 14 |\n",
    "| 12 | 21 |"
   ]
  },
  {
   "cell_type": "code",
   "execution_count": 11,
   "metadata": {},
   "outputs": [
    {
     "data": {
      "image/png": "[encoded data removed]",
      "text/plain": [
       "<Figure size 432x288 with 1 Axes>"
      ]
     },
     "metadata": {
      "needs_background": "light"
     },
     "output_type": "display_data"
    }
   ],
   "source": [
    "# Deixe sua resposta aqui\n",
    "\n",
    "#Grafico\n",
    "producao = [16, 15, 19, 23, 14, 21]\n",
    "horas = [5, 1, 7, 9, 2, 12]\n",
    "fig=plt.figure()\n",
    "ax=fig.add_axes([0,0,1,1])\n",
    "ax.scatter(horas,producao, color='b')\n",
    "ax.set_ylabel('Producao')\n",
    "ax.set_xlabel('Horas')\n",
    "ax.set_title('Grafico 01: Relacao de Horas e Produçao de 6 Funcionarios')\n",
    "plt.show()"
   ]
  },
  {
   "cell_type": "code",
   "execution_count": 12,
   "metadata": {},
   "outputs": [
    {
     "name": "stdout",
     "output_type": "stream",
     "text": [
      "Coeficiente: 0.8927779997391186\n",
      "21.045454545454547\n"
     ]
    }
   ],
   "source": [
    "#Coeficiente de determinacao.\n",
    "slope, intercept, r_value, p_value, std_err = stats.linregress(horas, producao)\n",
    "print(\"Coeficiente:\", r_value)\n",
    "\n",
    "#quantas pecas seriam finalizadas se um funcionario trabalhasse 10 horas\n",
    "valor_x = 10\n",
    "producao_trabalhando_10_horas = slope*valor_x + intercept\n",
    "print(str(producao_trabalhando_10_horas))"
   ]
  },
  {
   "cell_type": "markdown",
   "metadata": {},
   "source": [
    "9) No sistema de tratamento de agua de uma cidade um tecnico quer analisar se a quantidade de um produto esta relacionada com a quantidade de precipitacao de impurezas das amostras. Verifique se ha uma relacao entre as variaveis, de acordo com os dados obtidos e comente (use graficos e calculos que julgar necessario para justificar sua resposta).\n",
    "\n",
    "<h4 align=\"center\"> Tabela 6: Quantidade do produto (ml) x quantidade de precipitados (mg) </h4>\n",
    "  \n",
    "| produto | precipitado | \n",
    "| :---: | :---: | \n",
    "| 9.4 | 8.2 | \n",
    "| 6.5 | 5.8 | \n",
    "| 7.3 | 6.4 | \n",
    "| 7.9 | 5.9 |\n",
    "| 9.0 | 6.5 |\n",
    "| 9.3 | 7.1 |\n",
    "| 10.6 | 7.8 |\n",
    "| 11.4 | 8.1 |\n",
    "| 12.2 | 7.5 | \n",
    "| 13.3 | 7.9 | \n",
    "| 14.2 | 8.6 |\n",
    "| 13.8 | 9.0 |\n",
    "| 11.3 | 8.1 |\n",
    "| 8.1 | 5.7 |\n",
    "| 6.1 | 5.3 |"
   ]
  },
  {
   "cell_type": "code",
   "execution_count": 13,
   "metadata": {},
   "outputs": [
    {
     "data": {
      "image/png": "[encoded data removed]",
      "text/plain": [
       "<Figure size 432x288 with 1 Axes>"
      ]
     },
     "metadata": {
      "needs_background": "light"
     },
     "output_type": "display_data"
    }
   ],
   "source": [
    "# Deixe sua resposta aqui\n",
    "\n",
    "#Grafico\n",
    "precipitado = [8.2,5.8,6.4,5.9,6.5,7.1, 7.8, 8.1, 7.5, 7.9, 8.6,9.0,8.1,5.7,5.3]\n",
    "produto     = [9.4,6.5,7.3,7.9,9.0,9.3,10.6,11.4,12.2,13.3,14.2,13.8,11.3,8.1,6.1]\n",
    "fig=plt.figure()\n",
    "ax=fig.add_axes([0,0,1,1])\n",
    "ax.scatter(precipitado,produto, color='b')\n",
    "ax.set_xlabel('Precipitado')\n",
    "ax.set_ylabel('Produto')\n",
    "ax.set_title('Relacao de Precipitado e Produto')\n",
    "plt.show()\n"
   ]
  },
  {
   "cell_type": "code",
   "execution_count": 14,
   "metadata": {},
   "outputs": [],
   "source": [
    "#o gráfico confirma que um produto esta relacionada com a quantidade de precipitacao de impurezas das amostras"
   ]
  },
  {
   "cell_type": "markdown",
   "metadata": {},
   "source": [
    "10) Faca um grafico de linhas com os dados obtidos do censo do IBGE sobre a populacao brasileira e comente.\n",
    "\n",
    "<h4 align=\"center\"> Tabela 7: Populacao brasileira em censos de 1872 a 2010 </h4>\n",
    "  \n",
    "| censo | populacao | \n",
    "| :---: | :---: | \n",
    "| 1872 | 9930478 | \n",
    "| 1880 | 14333915 | \n",
    "| 1900 | 17438434 | \n",
    "| 1920 | 30635605 |\n",
    "| 1940 | 41236315 |\n",
    "| 1950 | 51944397 |\n",
    "| 1960 | 70992343 | \n",
    "| 1970 | 94508583 | \n",
    "| 1980 | 121150573 | \n",
    "| 1991 | 146917459 |\n",
    "| 2000 | 169590693 |\n",
    "| 2010 | 190755799 |\n"
   ]
  },
  {
   "cell_type": "code",
   "execution_count": 15,
   "metadata": {},
   "outputs": [
    {
     "data": {
      "image/png": "[encoded data removed]",
      "text/plain": [
       "<Figure size 432x288 with 1 Axes>"
      ]
     },
     "metadata": {
      "needs_background": "light"
     },
     "output_type": "display_data"
    }
   ],
   "source": [
    "# Deixe sua resposta aqui\n",
    "censo = [1872, 1880, 1900, 1920, 1940, 1950, 1960, 1970, 1980, 1991, 2000, 2010]\n",
    "populacao = [9930478, 14333915, 17438434, 30635605, 41236315, 51944397, 70992343, 94508583, 121150573, 146917459, 169590693, 190755799]\n",
    "\n",
    "df = pd.DataFrame({'populacao': populacao,}, index=censo)\n",
    "linha = df.plot.line(title='Grafico censo brasileiro de 1872 a 2010 ')\n"
   ]
  },
  {
   "cell_type": "code",
   "execution_count": 16,
   "metadata": {},
   "outputs": [],
   "source": [
    "#Populaçao aumentou no decorrer dos anos"
   ]
  },
  {
   "cell_type": "markdown",
   "metadata": {},
   "source": [
    "11) O setor de RH de uma empresa esta reformulando algumas politicas e precisa verificar se o salario de 6 funcionarios (reais/hora) esta relacionado ao tempo de servico. Os dados para calculos sao:\n",
    "\n",
    "<h4 align=\"center\"> Tabela 8: Tempo de servico de 6 funcionarios (anos), e respectivos salarios (reais/hora) </h4>\n",
    "  \n",
    "| x | y | \n",
    "| :---: | :---: | \n",
    "| 5 | 25 | \n",
    "| 3 | 20 | \n",
    "| 4 | 21 | \n",
    "| 10 | 35 |\n",
    "| 15 | 38 |\n",
    "| 37 | 139 |\n",
    "\n",
    "Crie um grafico, calcule o coeficiente de correlacao r e interprete os dados obtidos."
   ]
  },
  {
   "cell_type": "code",
   "execution_count": 17,
   "metadata": {},
   "outputs": [
    {
     "data": {
      "text/plain": [
       "[<matplotlib.lines.Line2D at 0x1a486833f88>]"
      ]
     },
     "execution_count": 17,
     "metadata": {},
     "output_type": "execute_result"
    },
    {
     "data": {
      "image/png": "[encoded data removed]",
      "text/plain": [
       "<Figure size 432x288 with 1 Axes>"
      ]
     },
     "metadata": {
      "needs_background": "light"
     },
     "output_type": "display_data"
    }
   ],
   "source": [
    "# Deixe sua resposta aqui\n",
    "ano = [5, 3, 4, 10, 15, 37]\n",
    "reais_hora =  [25, 20, 21, 35, 38, 139]\n",
    "plt.plot(ano, reais_hora)"
   ]
  },
  {
   "cell_type": "code",
   "execution_count": 18,
   "metadata": {},
   "outputs": [
    {
     "name": "stdout",
     "output_type": "stream",
     "text": [
      "Coeficiente: 0.9791794051597125\n"
     ]
    }
   ],
   "source": [
    "#Coeficiente de determinacao.\n",
    "slope, intercept, r_value, p_value, std_err = stats.linregress(ano, reais_hora)\n",
    "print(\"Coeficiente:\", r_value)"
   ]
  },
  {
   "cell_type": "code",
   "execution_count": 19,
   "metadata": {},
   "outputs": [],
   "source": [
    "#Sim, o salario dos 6 funcionarios esta fortemente relacionado ao tempo de servico"
   ]
  },
  {
   "cell_type": "markdown",
   "metadata": {},
   "source": [
    "12) O que o coeficiente de determinacao na regressao linear simples proporciona para interpretacao dos dados? "
   ]
  },
  {
   "cell_type": "code",
   "execution_count": 20,
   "metadata": {},
   "outputs": [],
   "source": [
    "# Deixe sua resposta aqui\n",
    "#O coeficiente de determinacao mostra a proporçao que uma variavel muda em relaçao a outra"
   ]
  }
 ],
 "metadata": {
  "kernelspec": {
   "display_name": "Python 3",
   "language": "python",
   "name": "python3"
  },
  "language_info": {
   "codemirror_mode": {
    "name": "ipython",
    "version": 3
   },
   "file_extension": ".py",
   "mimetype": "text/x-python",
   "name": "python",
   "nbconvert_exporter": "python",
   "pygments_lexer": "ipython3",
   "version": "3.7.6"
  }
 },
 "nbformat": 4,
 "nbformat_minor": 4
}
