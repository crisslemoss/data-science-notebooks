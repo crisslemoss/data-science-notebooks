{
 "cells": [
  {
   "cell_type": "markdown",
   "metadata": {},
   "source": [
    "1) Em um concurso de arte com 15 participantes, as notas das avaliacoes dos quadros de cada um deles foram:\n",
    "\n",
    "10, 6, 9, 8, 9, 8, 7, 7, 5, 10, 9, 8, 5, 3, 6.\n",
    "\n",
    "No entanto, para a divulgacao dos resultados pelo marketing da galeria, sera necessario transformar esses valores nos conceitos A, B, C e D. O conceito D sera para notas abaixo de 5, conceito C para notas de 5 a 7, conceito B para notas de 7 a 9, e conceito A para notas acima de 9.\n",
    "\n",
    "Calcule e construa uma tabela de distribuicao de frequencias para melhor visualizacao do desempenho dos concorrentes. "
   ]
  },
  {
   "cell_type": "code",
   "execution_count": 1,
   "metadata": {
    "scrolled": true
   },
   "outputs": [
    {
     "name": "stdout",
     "output_type": "stream",
     "text": [
      "Mínimo: 3\n",
      "Máximo: 10\n"
     ]
    }
   ],
   "source": [
    "# Deixe seus calculos aqui:\n",
    "lista_de_notas = [10, 6, 9, 8, 9, 8, 7, 7, 5, 10, 9, 8, 5, 3, 6]\n",
    "minimo = min(lista_de_notas)\n",
    "maximo = max(lista_de_notas)\n",
    "#print(minimo, maximo)\n",
    "print(\"Mínimo:\",minimo)\n",
    "print(\"Máximo:\",maximo)"
   ]
  },
  {
   "cell_type": "code",
   "execution_count": 2,
   "metadata": {},
   "outputs": [
    {
     "name": "stdout",
     "output_type": "stream",
     "text": [
      "7\n"
     ]
    }
   ],
   "source": [
    "#Calcular a amplitude\n",
    "amplitude = maximo - minimo\n",
    "print(amplitude)"
   ]
  },
  {
   "cell_type": "code",
   "execution_count": 3,
   "metadata": {},
   "outputs": [
    {
     "name": "stdout",
     "output_type": "stream",
     "text": [
      "1.75\n",
      "Frequencia d: 1\n",
      "Frequencia c: 4\n",
      "Frequencia b: 5\n",
      "Frequencia b: 5\n"
     ]
    }
   ],
   "source": [
    "# se precisassemos calcular o numero de classes\n",
    "# achar os intervalos = dividir o numero da amplitude pelo numero de classes\n",
    "intervalo = 7/4\n",
    "print(intervalo)\n",
    "\n",
    "#arredonadando o intervalo de 1,75 passa para 2\n",
    "intervalo = 2\n",
    "\n",
    "#frequencia = soma de elementos de mesmo valor\n",
    "frequencia_d = sum(1 for item in lista_de_notas if item < 5)\n",
    "frequencia_c = sum(1 for item in lista_de_notas if item >= 5 and item < 7)\n",
    "frequencia_b = sum(1 for item in lista_de_notas if item >= 7 and item < 9)\n",
    "frequencia_a = sum(1 for item in lista_de_notas if item >= 9)\n",
    "\n",
    "print(\"Frequencia d:\",frequencia_d)\n",
    "print(\"Frequencia c:\",frequencia_c)\n",
    "print(\"Frequencia b:\",frequencia_b)\n",
    "print(\"Frequencia b:\",frequencia_a)"
   ]
  },
  {
   "cell_type": "code",
   "execution_count": 4,
   "metadata": {},
   "outputs": [
    {
     "name": "stdout",
     "output_type": "stream",
     "text": [
      "6.67\n",
      "26.67\n",
      "33.33\n",
      "33.33\n",
      "1.0\n"
     ]
    }
   ],
   "source": [
    "#Calcula frequencia relativa\n",
    "frequencia_relativa_d = frequencia_d / len(lista_de_notas)\n",
    "frequencia_relativa_c = frequencia_c / len(lista_de_notas)\n",
    "frequencia_relativa_b = frequencia_b / len(lista_de_notas)\n",
    "frequencia_relativa_a = frequencia_a / len(lista_de_notas)\n",
    "print(f\"{(frequencia_relativa_d * 100):0.2f}\")\n",
    "print(f\"{(frequencia_relativa_c * 100):0.2f}\")\n",
    "print(f\"{(frequencia_relativa_b * 100):0.2f}\")\n",
    "print(f\"{(frequencia_relativa_a * 100):0.2f}\")\n",
    "\n",
    "total = frequencia_relativa_d + frequencia_relativa_c + frequencia_relativa_b + frequencia_relativa_a\n",
    "print(total)"
   ]
  },
  {
   "cell_type": "markdown",
   "metadata": {},
   "source": [
    "<h4 align=\"center\"> Tabela 1: Tabela completa</h4>\n",
    "    \n",
    "| Nota | Frequencia  | Frequencia relativa | \n",
    "| :---: | :---: | :---: | \n",
    "| 0 a 5 | 1 | 6.67 | \n",
    "| 5 a 7 | 4 | 26.67 | \n",
    "| 7 a 9 | 5 | 33.33 | \n",
    "| 9 a 10 | 5 | 33.33 | \n",
    "| Total| 15 | 1,0 |"
   ]
  },
  {
   "cell_type": "markdown",
   "metadata": {},
   "source": [
    "2) Especifique os tipos das variaveis:\n",
    "\n",
    "    a) peso de um lutador de sumo; \n",
    "    b) marcas de motos; \n",
    "    c) resistencia de materiais; \n",
    "    d) quantidade de chuvas em Pocos de Caldas;\n",
    "    e) nacionalidade;\n",
    "    f) numero de versos em um poema;\n",
    "    g) numero de acoes da Petrobras vendidas no dia;\n",
    "    h) comprimento de terrenos;\n",
    "    i) numero de mortes por ataques de tubarao no ano;\n",
    "    j) resistencia a tracao de metais em kgf/mm^2;\n",
    "    k) temperatura de ponto de ebulicao da agua, em graus Celsius;\n",
    "    l) numero de itens nao conformes de uma linha de producao;\n",
    "    m) tensao em Newtons de um fio de algodao esticado;\n",
    "    n) numero de livros vendidos no mes."
   ]
  },
  {
   "cell_type": "code",
   "execution_count": 5,
   "metadata": {},
   "outputs": [],
   "source": [
    "# Deixe seus calculos aqui:\n",
    "#a) Numérica contínua\n",
    "#b) Categorizada nominal\n",
    "#c) Numérica contínua\n",
    "#d) Numérica contínua\n",
    "#e) Categorizada nominal\n",
    "#f) numérica discreta\n",
    "#g) numérica discreta\n",
    "#h) numérica contícua\n",
    "#i) numérica discreta\n",
    "#j) numérica contínua\n",
    "#k) numérica discreta\n",
    "#l) numérica discreta\n",
    "#m) numérica discreta\n",
    "#n) numérica discreta"
   ]
  },
  {
   "cell_type": "markdown",
   "metadata": {},
   "source": [
    "3) Complete a tabela abaixo.\n",
    "\n",
    "<h4 align=\"center\"> Tabela 1: Tabela para completar</h4>\n",
    "    \n",
    "| Nota | Frequencia  | Frequencia relativa | \n",
    "| :---: | :---: | :---: | \n",
    "| 9 a 10 | - | 0,08 | \n",
    "| 8 a 8,9 | 36 | - | \n",
    "| 6,5 a 7,9 | 90 | - | \n",
    "| 5 a 6,4 | 30 | - | \n",
    "| abaixo de 5 | 28 | - | \n",
    "| Total| 200 | 1,0 |\n",
    "\n",
    "\n",
    "<h4 align=\"center\"> Tabela 2: Tabela completa</h4>\n",
    "    \n",
    "| Nota | Frequencia  | Frequencia relativa | \n",
    "| :---: | :---: | :---: | \n",
    "| 9 a 10 | 16 | 0,08 | \n",
    "| 8 a 8,9 | 36 | 0,18 | \n",
    "| 6,5 a 7,9 | 90 | 0,45 | \n",
    "| 5 a 6,4 | 30 | 0,15 | \n",
    "| abaixo de 5 | 28 | 0,14 | \n",
    "| Total| 200 | 1,0 |"
   ]
  },
  {
   "cell_type": "code",
   "execution_count": 6,
   "metadata": {},
   "outputs": [
    {
     "name": "stdout",
     "output_type": "stream",
     "text": [
      "16\n",
      "0.18\n",
      "0.45\n",
      "0.15\n",
      "0.14\n"
     ]
    }
   ],
   "source": [
    "# Deixe seus calculos aqui:\n",
    "#total mensos as frequencias\n",
    "total = 200 \n",
    "freq = total - 28 - 30 - 90 -36\n",
    "print(freq)\n",
    "\n",
    "frequencia_relativa_linha_2 = 36/total\n",
    "frequencia_relativa_linha_3 = 90/total\n",
    "frequencia_relativa_linha_4 = 30/total\n",
    "frequencia_relativa_linha_5 = 28/total\n",
    "\n",
    "print(f\"{(frequencia_relativa_linha_2):0.2f}\")\n",
    "print(f\"{(frequencia_relativa_linha_3):0.2f}\")\n",
    "print(f\"{(frequencia_relativa_linha_4):0.2f}\")\n",
    "print(f\"{(frequencia_relativa_linha_5):0.2f}\")"
   ]
  },
  {
   "cell_type": "markdown",
   "metadata": {},
   "source": [
    "4) Em uma votacao com 3 candidatos, os votos foram:\n",
    "\n",
    "Bruschi, Allan, Allan, Conte, Allan, Bruschi, Bruschi, Bruschi, Allan, Allan, Conte, Allan, Bruschi, Bruschi, Allan, Conte, Bruschi, Bruschi, Bruschi, Allan\n",
    "\n",
    "a) Determine o numero de votos de cada pessoa;<br>\n",
    "b) Calcule as porcentagens;<br>\n",
    "c) Verifique se algum dos candidatos teve maioria absoluta (50% + 1)."
   ]
  },
  {
   "cell_type": "code",
   "execution_count": 7,
   "metadata": {},
   "outputs": [
    {
     "name": "stdout",
     "output_type": "stream",
     "text": [
      "['Bruschi', 'Allan', 'Allan', 'Conte', 'Allan', 'Bruschi', 'Bruschi', 'Bruschi', 'Allan', 'Allan', 'Conte', 'Allan', 'Bruschi', 'Bruschi', 'Allan', 'Conte', 'Bruschi', 'Bruschi', 'Bruschi', 'Allan']\n",
      "\n",
      "Votos para Conte: 3\n",
      "Votos para Bruschi: 9\n",
      "Votos para Allan: 8\n",
      "\n",
      "Porcentagem Conte: 0.15\n",
      "Porcentagem Bruschi: 0.45\n",
      "Porcentagem Allan: 0.4\n"
     ]
    }
   ],
   "source": [
    "# Deixe seus calculos aqui:\n",
    "votos = ['Bruschi', 'Allan', 'Allan', 'Conte', 'Allan', 'Bruschi', 'Bruschi', \n",
    "         'Bruschi', 'Allan', 'Allan', 'Conte', 'Allan', 'Bruschi', 'Bruschi', \n",
    "         'Allan', 'Conte', 'Bruschi', 'Bruschi', 'Bruschi', 'Allan']\n",
    "print(votos)\n",
    "\n",
    "#a) Determine o numero de votos de cada pessoa;\n",
    "frequencia_conte   = sum(1 for item in votos if item == \"Conte\")\n",
    "frequencia_bruschi = sum(1 for item in votos if item == \"Bruschi\")\n",
    "frequencia_allan   = sum(1 for item in votos if item == \"Allan\")\n",
    "\n",
    "print(\"\\nVotos para Conte:\",frequencia_conte)\n",
    "print(\"Votos para Bruschi:\",frequencia_bruschi)\n",
    "print(\"Votos para Allan:\",frequencia_allan)\n",
    "\n",
    "#b) Calcule as porcentagens;\n",
    "total_votos = frequencia_conte + frequencia_bruschi + frequencia_allan;\n",
    "\n",
    "frequencia_relativa_conte   = frequencia_conte / total_votos\n",
    "frequencia_relativa_bruschi = frequencia_bruschi / total_votos\n",
    "frequencia_relativa_allan   = frequencia_allan / total_votos\n",
    "print(\"\\nPorcentagem Conte:\",frequencia_relativa_conte)\n",
    "print(\"Porcentagem Bruschi:\",frequencia_relativa_bruschi)\n",
    "print(\"Porcentagem Allan:\",frequencia_relativa_allan)\n",
    "\n",
    "#c) Verifique se algum dos candidatos teve maioria absoluta (50% + 1).\n"
   ]
  },
  {
   "cell_type": "code",
   "execution_count": 8,
   "metadata": {},
   "outputs": [
    {
     "name": "stdout",
     "output_type": "stream",
     "text": [
      "Numero de votos de cada pessoa\n",
      "Bruschi    9\n",
      "Allan      8\n",
      "Conte      3\n",
      "dtype: int64\n",
      "\n",
      "Total em  porcentagens\n"
     ]
    }
   ],
   "source": [
    "import pandas as pd\n",
    "\n",
    "#a) Determine o numero de votos de cada pessoa;\n",
    "print(\"Numero de votos de cada pessoa\")\n",
    "print(pd.Series(votos).value_counts());\n",
    "\n",
    "#b) Calcule as porcentagens;\n",
    "print(\"\\nTotal em  porcentagens\")\n",
    "#print(((pd.Series(votos) / len(votos))).to_string())\n",
    "\n",
    "#c) Verifique se algum dos candidatos teve maioria absoluta (50% + 1).\n"
   ]
  },
  {
   "cell_type": "markdown",
   "metadata": {},
   "source": [
    "5) 40 doadores de sangue doaram para o hospital uma bolsa cada, conforme a tabela de tipos sanguineos:\n",
    "\n",
    "B, A, O, A, A, A, B, O, B, A, A, AB, O, O, A, O, O, A, A, A, B, A, A, A, O, O, O, A, O, A, O, O, A, O, AB, O, O, A, AB, B, B.\n",
    "\n",
    "Coloque os dados em uma tabela de distribuicao de frequencias."
   ]
  },
  {
   "cell_type": "code",
   "execution_count": 9,
   "metadata": {},
   "outputs": [
    {
     "name": "stdout",
     "output_type": "stream",
     "text": [
      "Frequencia A: 17\n",
      "Frequencia B: 6\n",
      "Frequencia AB: 3\n",
      "Frequencia O: 15\n",
      "______________________________\n",
      "Frequencia Relativa A: 0.41\n",
      "Frequencia Relativa B: 0.15\n",
      "Frequencia Relativa AB: 0.07\n",
      "Frequencia Relativa O: 0.37\n",
      "______________________________\n",
      "0.9999999999999999\n"
     ]
    }
   ],
   "source": [
    "# Deixe seus calculos aqui:\n",
    "\n",
    "dados = ['B', 'A', 'O', 'A', 'A', 'A', 'B', 'O', 'B', 'A', 'A', 'AB', 'O', 'O', 'A', 'O', \n",
    "         'O', 'A', 'A', 'A', 'B', 'A', 'A', 'A', 'O', 'O', 'O', 'A', 'O', 'A', 'O', 'O', \n",
    "         'A', 'O', 'AB', 'O', 'O', 'A', 'AB', 'B', 'B']\n",
    "\n",
    "#frequencia = soma de elementos de mesmo valor\n",
    "frequencia_a  = sum(1 for item in dados if item == 'A')\n",
    "frequencia_b  = sum(1 for item in dados if item == 'B')\n",
    "frequencia_ab = sum(1 for item in dados if item == 'AB')\n",
    "frequencia_o  = sum(1 for item in dados if item == 'O')\n",
    "\n",
    "print(\"Frequencia A:\" ,frequencia_a)\n",
    "print(\"Frequencia B:\" ,frequencia_b)\n",
    "print(\"Frequencia AB:\",frequencia_ab)\n",
    "print(\"Frequencia O:\" ,frequencia_o)\n",
    "\n",
    "#Calcula frequencia relativa\n",
    "print(\"_\"*30)\n",
    "frequencia_relativa_a = frequencia_a / len(dados)\n",
    "frequencia_relativa_b = frequencia_b / len(dados)\n",
    "frequencia_relativa_ab = frequencia_ab / len(dados)\n",
    "frequencia_relativa_o = frequencia_o / len(dados)\n",
    "print(f\"Frequencia Relativa A: {(frequencia_relativa_a ):0.2f}\")\n",
    "print(f\"Frequencia Relativa B: {(frequencia_relativa_b ):0.2f}\")\n",
    "print(f\"Frequencia Relativa AB: {(frequencia_relativa_ab ):0.2f}\")\n",
    "print(f\"Frequencia Relativa O: {(frequencia_relativa_o ):0.2f}\")\n",
    "\n",
    "print(\"_\"*30)\n",
    "total = frequencia_relativa_a + frequencia_relativa_b + frequencia_relativa_ab + frequencia_relativa_o\n",
    "print(total)\n"
   ]
  },
  {
   "cell_type": "markdown",
   "metadata": {},
   "source": [
    "<h4 align=\"center\"> Tabela 2: Tabela completa</h4>\n",
    "    \n",
    "| TipoSanquineo | Frequencia  | Frequencia relativa | \n",
    "| :---: | :---: | :---: | \n",
    "| A | 17 | 0,41 | \n",
    "| B | 6 | 0,15 | \n",
    "| AB | 3 | 0,07 | \n",
    "| O | 15 | 0,37 | \n",
    "| Total| 41 | 1,0 |"
   ]
  },
  {
   "cell_type": "markdown",
   "metadata": {},
   "source": [
    "6) 80 alunos do curso de pos graducao tiveram o seguinte desempenho: 25% receberam nota A, 70% receberam nota B, e 5% tiveram nota C. Qual a frequencia dos alunos com nota A?"
   ]
  },
  {
   "cell_type": "code",
   "execution_count": 10,
   "metadata": {},
   "outputs": [
    {
     "name": "stdout",
     "output_type": "stream",
     "text": [
      "20.0\n",
      "56.0\n",
      "4.0\n"
     ]
    }
   ],
   "source": [
    "# Deixe seus calculos aqui:\n",
    "total = 80\n",
    "frequencia_relativa_a = 25/100\n",
    "frequencia_relativa_b = 70/100\n",
    "frequencia_relativa_c = 5/100\n",
    "\n",
    "frequencia_a =  total * frequencia_relativa_a\n",
    "frequencia_b =  total * frequencia_relativa_b\n",
    "frequencia_c =  total * frequencia_relativa_c\n",
    "\n",
    "print(frequencia_a)\n",
    "print(frequencia_b)\n",
    "print(frequencia_c)"
   ]
  },
  {
   "cell_type": "markdown",
   "metadata": {},
   "source": [
    "<h4 align=\"center\"> Tabela 2: Tabela completa</h4>\n",
    "    \n",
    "| Desempelho | Frequencia  | Frequencia relativa | \n",
    "| :---: | :---: | :---: | \n",
    "| A | 20 | 0,25 | \n",
    "| B | 56 | 0,70 | \n",
    "| C | 4 | 0,05 | \n",
    "| Total| 80 | 1,0 |"
   ]
  },
  {
   "cell_type": "markdown",
   "metadata": {},
   "source": [
    "7) Para que um determinado trecho em uma rota aeronautica seja lucrativo, um certo numero de assentos ocupados \n",
    "seria necessario. As classes de estudo para assentos desocupados foram: <br>\n",
    "    0 a 4; 5 a 9; 10 a 14, 15 a 19, 20 ou mais.<br> \n",
    "    Com base nessas informacoes, seria possivel obter a quantidade de voos em que:\n",
    "<br>\n",
    "a) havia menos que 10 assentos desocupados?<br>\n",
    "b) mais de 14 acentos desocupados?<br>\n",
    "c) pelo menos 5 assentos desocupados?<br>\n",
    "d) exatamente 9 assentos desocupados?"
   ]
  },
  {
   "cell_type": "code",
   "execution_count": 11,
   "metadata": {},
   "outputs": [],
   "source": [
    "# Deixe suas respostas aqui:\n",
    "\n",
    "#a)Sim, somar as frequencias das duas classes anteriores\n",
    "#b)Sim, somar as frequencias da 2 classes posteriores\n",
    "#c)Sim, com exceçao da primieria classe\n",
    "#d)Não, pois temos os valores em intervalos"
   ]
  },
  {
   "cell_type": "markdown",
   "metadata": {},
   "source": [
    "8) Em uma sala com fanaticos por motos, foram obtidos os seguintes dados para preferencias: 19 pessoas \n",
    "    gostariam de ter uma moto esportiva com carenagem, 13 desejam uma moto custom, \n",
    "    3 querem esportivas naked, 2 querem uma scooter, 2 preferem motos de trilhas, e 1 deseja um quadriciclo. \n",
    "    Monte uma tabela com distribuicao de frequencias."
   ]
  },
  {
   "cell_type": "code",
   "execution_count": 12,
   "metadata": {},
   "outputs": [
    {
     "name": "stdout",
     "output_type": "stream",
     "text": [
      "frequencia relativa esportiva: 0.47\n",
      "frequencia relativa esportiva: 0.33\n",
      "frequencia relativa esportiva: 0.07\n",
      "frequencia relativa esportiva: 0.05\n",
      "frequencia relativa esportiva: 0.05\n",
      "frequencia relativa esportiva: 40.00\n"
     ]
    }
   ],
   "source": [
    "total = 40\n",
    "frequencia_relativa_esportiva = (19/total)\n",
    "frequencia_relativa_custom = (13/total)\n",
    "frequencia_relativa_naked = (3/total)\n",
    "frequencia_relativa_scooter = (2/total)\n",
    "frequencia_relativa_trilha = (2/total)\n",
    "frequencia_relativa_quadricilho = (total)\n",
    "\n",
    "print(f'frequencia relativa esportiva: {(frequencia_relativa_esportiva):0.2f}')\n",
    "print(f'frequencia relativa esportiva: {(frequencia_relativa_custom):0.2f}')\n",
    "print(f'frequencia relativa esportiva: {(frequencia_relativa_naked):0.2f}')\n",
    "print(f'frequencia relativa esportiva: {(frequencia_relativa_scooter):0.2f}')\n",
    "print(f'frequencia relativa esportiva: {(frequencia_relativa_trilha):0.2f}')\n",
    "print(f'frequencia relativa esportiva: {(frequencia_relativa_quadricilho):0.2f}')"
   ]
  },
  {
   "cell_type": "markdown",
   "metadata": {},
   "source": [
    " Deixe seus calculos aqui:\n",
    "\n",
    "<h4 align=\"center\"> Tabela 2: Tabela completa</h4>\n",
    "    \n",
    "| Preferencia | Frequencia  | Frequencia relativa | \n",
    "| :---: | :---: | :---: | \n",
    "| Esportiva |19 | 0,02 | \n",
    "| Custom | 13 | 0,03 | \n",
    "| Naked | 3 | 0,13 | \n",
    "| Scooter | 2 | 0,20 | \n",
    "| Trilha | 2 | 0,20 | \n",
    "| Quadriciclo | 1 | 0,40 | \n",
    "| Total| 40 | 1,0 |\n",
    "\n"
   ]
  },
  {
   "cell_type": "markdown",
   "metadata": {},
   "source": [
    "9) Uma competicao com 100 atletas, ha 7 com 1 medalha, 12 com 2 medalhas, 23 com 3 medalhas, 43 com 4 medalhas,\n",
    "8 com 5 medalhas, 6 com 6 medalhas e 3 com 7 medalhas. Apresente os dados em uma tabela."
   ]
  },
  {
   "cell_type": "code",
   "execution_count": 13,
   "metadata": {},
   "outputs": [],
   "source": [
    "# Deixe seus calculos aqui:\n"
   ]
  },
  {
   "cell_type": "markdown",
   "metadata": {},
   "source": [
    "10) O setor de qualidade de uma fabrica de chocolates quer verificar se o peso de 65 gramas de um produto esta\n",
    "de acordo com o informado na embalagem. Em uma busca aleatoria, obteve-se os seguintes dados:\n",
    "    \n",
    "<h4 align=\"center\"> Tabela 3: Peso dos produtos, em gramas</h4>\n",
    "  \n",
    "| | | | |    \n",
    "| :---: | :---: | :---: | :---: |\n",
    "| 63,6 | 64,0 | 64,8 | 65,2 | \n",
    "| 63,7 | 64,0 | 64,8 | 65,3 |\n",
    "| 63,7 | 64,2 | 64,9 | 65,3 | \n",
    "| 63,7 | 64,6 | 65,1 | 65,4 | \n",
    "| 63,7 | 64,7 | 65,2 | 65,4 | \n",
    "\n",
    "\n",
    "Construa uma tabela de distribuicao de frequencias.\n",
    "    "
   ]
  },
  {
   "cell_type": "code",
   "execution_count": 14,
   "metadata": {},
   "outputs": [],
   "source": [
    "import pandas as pd"
   ]
  },
  {
   "cell_type": "code",
   "execution_count": 15,
   "metadata": {},
   "outputs": [
    {
     "name": "stdout",
     "output_type": "stream",
     "text": [
      "Frequencia: \n",
      "63.7    4\n",
      "65.3    2\n",
      "65.2    2\n",
      "65.4    2\n",
      "64.8    2\n",
      "64.0    2\n",
      "64.6    1\n",
      "64.7    1\n",
      "63.6    1\n",
      "65.1    1\n",
      "64.2    1\n",
      "64.9    1\n",
      "dtype: int64\n",
      "\n",
      "FrequenciaRelativa: \n",
      "[0.2, 0.1, 0.1, 0.1, 0.1, 0.1, 0.05, 0.05, 0.05, 0.05, 0.05, 0.05]\n",
      "\n",
      "Tabela: \n",
      "[['63.6', 4, 0.2], ['64.0', 2, 0.1], ['64.8', 2, 0.1], ['65.2', 2, 0.1], ['63.7', 2, 0.1], ['64.0', 2, 0.1], ['64.8', 1, 0.05], ['65.3', 1, 0.05], ['63.7', 1, 0.05], ['64.2', 1, 0.05], ['64.9', 1, 0.05], ['65.3', 1, 0.05]]\n"
     ]
    }
   ],
   "source": [
    "# Deixe seus calculos aqui:\n",
    "pesos = ['63.6','64.0','64.8','65.2',\n",
    "         '63.7','64.0','64.8','65.3',\n",
    "         '63.7','64.2','64.9','65.3',\n",
    "         '63.7','64.6','65.1','65.4',\n",
    "         '63.7','64.7','65.2','65.4']\n",
    "\n",
    "frequencia = pd.Series(pesos).value_counts()\n",
    "print(f'Frequencia: \\n{frequencia}')\n",
    "\n",
    "frequencia_relativa=[(float(p)/(len(pesos))) for p in frequencia]  \n",
    "print(f'\\nFrequenciaRelativa: \\n{frequencia_relativa}')\n",
    "\n",
    "tabela = []\n",
    "for p, f, fr in zip(pesos, frequencia, frequencia_relativa):\n",
    "    tabela.append([p, f, fr])\n",
    "print(f'\\nTabela: \\n{tabela}')"
   ]
  },
  {
   "cell_type": "markdown",
   "metadata": {},
   "source": [
    "| Peso | Frequencia  | Frequencia relativa | \n",
    "| :---: | :---: | :---: | \n",
    "| 63.6 | 4 | 0.2 | \n",
    "| 64.0 | 2 | 0.2 | \n",
    "| 64.8 | 2 | 0.1 | \n",
    "| 65.2 | 2 | 0.1 | \n",
    "| 63.7 | 2 | 0.1 | \n",
    "| 64.0 | 2 | 0.1 | \n",
    "| 64.8 | 1 | 0.05 | \n",
    "| 65.3 | 1 | 0.05 | \n",
    "| 63.7 | 1 | 0.05 | \n",
    "| 64.2 | 1 | 0.05 | \n",
    "| 64.9 | 1 | 0.05 | \n",
    "| 65.3 | 1 | 0.05 | \n",
    "| Total| 20| 1 |"
   ]
  },
  {
   "cell_type": "markdown",
   "metadata": {},
   "source": [
    "11) Determine o tipo da variavel:\n",
    "\n",
    "\n",
    "a) dados de contagem (discretos ou continuos);<br>\n",
    "b) numero de vezes que um evento acontece (frequencia, frequencia relativa, total)<br>\n",
    "c) cores de cabelos (ordinais, nominais, continuos, discretos)."
   ]
  },
  {
   "cell_type": "code",
   "execution_count": 16,
   "metadata": {},
   "outputs": [],
   "source": [
    "# Deixe suas respostas aqui:\n",
    "#a)Discreto\n",
    "#b)Frequenica\n",
    "#c)Nominal"
   ]
  },
  {
   "cell_type": "markdown",
   "metadata": {},
   "source": [
    "12) Verdadeiro ou falso?\n",
    "    \n",
    "    a) frequencia relativa e igual a frequencia dividida pelo total.\n",
    "    b) estatistica e a arte de apresentar graficos."
   ]
  },
  {
   "cell_type": "code",
   "execution_count": 17,
   "metadata": {},
   "outputs": [],
   "source": [
    "# Deixe suas respostas aqui:\n",
    "#a)Verdadeiro\n",
    "#b)Falso"
   ]
  },
  {
   "cell_type": "markdown",
   "metadata": {},
   "source": [
    "13) Para divulgacao de aprovados ou reprovados em uma disciplina, organize na forma de tabela de frequencias\n",
    "as notas dos 15 alunos do curso da seguinte maneira: D para notas de 0 a 5 (reprovado); C para notas de 5 a 7;\n",
    "B para notas de 7 a 9; e A para notas acima de 9.\n",
    "\n",
    "dados: 7, 8, 6, 5, 6, 4, 7, 10, 7, 8, 8, 3, 8, 9, 10"
   ]
  },
  {
   "cell_type": "code",
   "execution_count": 18,
   "metadata": {},
   "outputs": [
    {
     "name": "stdout",
     "output_type": "stream",
     "text": [
      "Frequencia D:2\n",
      "Frequencia B:7\n",
      "Frequencia C:3\n",
      "Frequencia A:3\n",
      "Frequencia Relativa D:0.13333333333333333\n",
      "Frequencia Relativa B:0.4666666666666667\n",
      "Frequencia Relativa C:0.2\n",
      "Frequencia Relativa A:0.2\n"
     ]
    }
   ],
   "source": [
    "# Deixe seus calculos aqui:\n",
    "notas = [7, 8, 6, 5, 6, 4, 7, 10, 7, 8, 8, 3, 8, 9, 10]\n",
    "\n",
    "total = 15\n",
    "D=[i for i in notas if (i>=0 and i<5)] \n",
    "C=[i for i in notas if (i>=5 and i<7)] \n",
    "B=[i for i in notas if (i>=7 and i<9)]\n",
    "A=[i for i in notas if (i>=9)]\n",
    "\n",
    "frequenciaD = len(D)\n",
    "frequenciaB = len(C)\n",
    "frequenciaC = len(B)\n",
    "frequenciaA = len(A)\n",
    "\n",
    "print(f'Frequencia D:{frequenciaD}')\n",
    "print(f'Frequencia B:{frequenciaC}')\n",
    "print(f'Frequencia C:{frequenciaB}')\n",
    "print(f'Frequencia A:{frequenciaA}')\n",
    "\n",
    "frequencia_relativa_D = frequenciaD/total\n",
    "frequencia_relativa_C = frequenciaC/total\n",
    "frequencia_relativa_B = frequenciaB/total\n",
    "frequencia_relativa_A = frequenciaA/total\n",
    "\n",
    "print(f'Frequencia Relativa D:{frequencia_relativa_D}')\n",
    "print(f'Frequencia Relativa B:{frequencia_relativa_C}')\n",
    "print(f'Frequencia Relativa C:{frequencia_relativa_B}')\n",
    "print(f'Frequencia Relativa A:{frequencia_relativa_A}')\n",
    "\n",
    "frequencia_D =  total * frequencia_relativa_D\n",
    "frequencia_C =  total * frequencia_relativa_C\n",
    "frequencia_B =  total * frequencia_relativa_B\n",
    "frequencia_A =  total * frequencia_relativa_A\n",
    "\n"
   ]
  },
  {
   "cell_type": "markdown",
   "metadata": {},
   "source": [
    "| Intervalo | Frequencia  | Frequencia relativa | \n",
    "| :---: | :---: | :---: | \n",
    "| D | 2 | 0,13 | \n",
    "| B | 7 | 0,46 | \n",
    "| C | 3 | 0,02 | \n",
    "| A | 3 | 0,02 | \n",
    "| Total| 15 | 1,0 |"
   ]
  },
  {
   "cell_type": "markdown",
   "metadata": {},
   "source": [
    "14) O setor de qualidade de uma fabrica obteve a seguinte tabela com dados de embalagens com defeitos.\n",
    "\n",
    "<h4 align=\"center\"> Tabela 4: Estado de embalagens</h4>\n",
    "  \n",
    "| | | | | | \n",
    "| :---: | :---: | :---: | :---: | :---: |\n",
    "| amassada | sem defeito  | sem defeito | amassada | sem defeito  |\n",
    "| sem defeito  | cortada | amassada | sem defeito | sem defeito  |\n",
    "| nao fechada | sem defeito  | sem defeito  | sem defeito  | sem defeito  |\n",
    "| sem defeito | sem defeito | sem defeito | sem defeito  | sem defeito | \n",
    "| sem defeito  | sem defeito | sem defeito  | amassada | sem defeito | \n",
    "\n",
    "a) Construa uma tabela de distribuicao de frequencias;<br>\n",
    "b) Explique se ha necessidade de melhorias no processo de embalagem.\n"
   ]
  },
  {
   "cell_type": "code",
   "execution_count": 19,
   "metadata": {},
   "outputs": [
    {
     "name": "stdout",
     "output_type": "stream",
     "text": [
      "Frequencia amassada\t:4\n",
      "Frequencia sem defeito\t:19\n",
      "Frequencia cortada\t:1\n",
      "Frequencia nao fechada\t:1\n",
      "25\n",
      "______________________________\n",
      "Frequencia relativa amassada\t:0.16\n",
      "Frequencia relativa sem defeito\t:0.76\n",
      "Frequencia relativa cortada\t:0.04\n",
      "Frequencia relativa nao fechada\t:0.04\n",
      "______________________________\n",
      "1.0\n"
     ]
    }
   ],
   "source": [
    "# Deixe seus calculos aqui:\n",
    "esdado_das_embalagens = ['amassada','sem defeito','sem defeito','amassada','sem defeito',\n",
    "                         'sem defeito','cortada','amassada','sem defeito','sem defeito',\n",
    "                         'nao fechada','sem defeito','sem defeito','sem defeito','sem defeito',\n",
    "                         'sem defeito','sem defeito','sem defeito','sem defeito','sem defeito',\n",
    "                         'sem defeito','sem defeito','sem defeito','amassada','sem defeito']\n",
    "total=len(esdado_das_embalagens)\n",
    "frequencia_amassada    = sum(1 for item in esdado_das_embalagens if item == 'amassada')\n",
    "frequencia_sem_defeito = sum(1 for item in esdado_das_embalagens if item == 'sem defeito')\n",
    "frequencia_cortada     = sum(1 for item in esdado_das_embalagens if item == 'cortada')\n",
    "frequencia_nao_fechada = sum(1 for item in esdado_das_embalagens if item == 'nao fechada')\n",
    "\n",
    "print(f'Frequencia amassada\\t:{frequencia_amassada}')\n",
    "print(f'Frequencia sem defeito\\t:{frequencia_sem_defeito}')\n",
    "print(f'Frequencia cortada\\t:{frequencia_cortada}')\n",
    "print(f'Frequencia nao fechada\\t:{frequencia_nao_fechada}')\n",
    "print(total)\n",
    "\n",
    "frequenciaR_amassada    = frequencia_amassada/total\n",
    "frequenciaR_sem_defeito = frequencia_sem_defeito/total\n",
    "frequenciaR_cortada     = frequencia_cortada/total\n",
    "frequenciaR_nao_fechada = frequencia_nao_fechada/total\n",
    "\n",
    "print(\"_\"*30)\n",
    "print(f'Frequencia relativa amassada\\t:{frequenciaR_amassada}')\n",
    "print(f'Frequencia relativa sem defeito\\t:{frequenciaR_sem_defeito}')\n",
    "print(f'Frequencia relativa cortada\\t:{frequenciaR_cortada}')\n",
    "print(f'Frequencia relativa nao fechada\\t:{frequenciaR_nao_fechada}')\n",
    "\n",
    "print(\"_\"*30)\n",
    "total = frequenciaR_amassada + frequenciaR_sem_defeito + frequenciaR_cortada + frequenciaR_nao_fechada\n",
    "print(total)\n",
    "\n",
    "frequencia_D =  total * frequencia_relativa_D\n",
    "frequencia_C =  total * frequencia_relativa_C\n",
    "frequencia_B =  total * frequencia_relativa_B\n",
    "frequencia_A =  total * frequencia_relativa_A\n",
    "\n"
   ]
  },
  {
   "cell_type": "markdown",
   "metadata": {},
   "source": [
    "| Peso | Frequencia  | Frequencia relativa | \n",
    "| :---: | :---: | :---: | \n",
    "| amassada | 4 | 0,16 | \n",
    "| sem defeito | 19 | 0,76 | \n",
    "| cortada | 1 | 0,04 | \n",
    "| nao fechada | 1 | 0,04 | \n",
    "| Total| 25 | 1,0 |"
   ]
  },
  {
   "cell_type": "markdown",
   "metadata": {},
   "source": [
    "15) O setor de qualidade da fabrica anterior resolveu verificar a eficiencia de duas turmas de trabalho.\n",
    "A turma A teve uma producao de 563 itens conformes, e 151 itens nao conformes. A turma B produziu 307 itens conformes e 85 nao conformes. Organize os dados em uma tabela, mostrando a porcentagem de conformes e nao conformes."
   ]
  },
  {
   "cell_type": "code",
   "execution_count": 20,
   "metadata": {},
   "outputs": [
    {
     "name": "stdout",
     "output_type": "stream",
     "text": [
      "714\n",
      "392\n",
      "Turma A % conforme: 78.85\n",
      "Turma A % não conforme: 21.15\n",
      "Turma B % conforme: 78.32\n",
      "Turma B % não conforme: 21.68\n"
     ]
    }
   ],
   "source": [
    "# Deixe seus calculos aqui:\n",
    "turma_a_conforme = 563\n",
    "turma_a_nao_conforme = 151\n",
    "turma_b_conforme = 307\n",
    "turma_b_nao_conforme = 85\n",
    "\n",
    "turma_a_total = turma_a_conforme + turma_a_nao_conforme\n",
    "turma_b_total = turma_b_conforme + turma_b_nao_conforme \n",
    "print(turma_a_total)\n",
    "print(turma_b_total)\n",
    "\n",
    "turma_a_porcentagem_conforme     = turma_a_conforme/turma_a_total*100\n",
    "turma_a_porcentagem_nao_conforme = turma_a_nao_conforme/turma_a_total*100\n",
    "\n",
    "turma_b_porcentagem_conforme     = turma_b_conforme/turma_b_total*100\n",
    "turma_b_porcentagem_nao_conforme = turma_b_nao_conforme/turma_b_total*100 \n",
    "\n",
    "\n",
    "print(f'Turma A % conforme: {turma_a_porcentagem_conforme:0.2f}')\n",
    "print(f'Turma A % não conforme: {turma_a_porcentagem_nao_conforme:0.2f}')\n",
    "      \n",
    "print(f'Turma B % conforme: {turma_b_porcentagem_conforme:0.2f}')\n",
    "print(f'Turma B % não conforme: {turma_b_porcentagem_nao_conforme:0.2f}')\n",
    "\n"
   ]
  },
  {
   "cell_type": "markdown",
   "metadata": {},
   "source": [
    "| Produçao | TurmaA  | TurmaB | \n",
    "| :---: | :---: | :---: | \n",
    "| Conforme | 563 | 307 | \n",
    "| Nao Conforme | 151 |85|\n",
    "| Total| 714 | 392 | "
   ]
  },
  {
   "cell_type": "markdown",
   "metadata": {},
   "source": [
    "| Produçao | TurmaA  | TurmaB | \n",
    "| :---: | :---: | :---: | \n",
    "| Conforme |  78.85% | 78.32%| \n",
    "| Nao Conforme | 21.15% |21.68% |"
   ]
  },
  {
   "cell_type": "markdown",
   "metadata": {},
   "source": [
    "16) Analisando os dados de acidentes de trabalho no periodo de 3 anos da fabrica citada anteriormente, \n",
    "obteve-se a seguinte tabela:\n",
    "\n",
    "<h4 align=\"center\"> Tabela 5: Acidentes por departamento e dias da semana</h4>\n",
    "  \n",
    "| DEPARTAMENTO | segunda-feira | terca-feira | quarta-feira | quinta-feira | sexta-feira | \n",
    "| :---: | :---: | :---: | :---: | :---: | :---: |\n",
    "| A | 12 | 21 | 23 | 29  | 35 |\n",
    "| B  | 14 | 10 | 11 | 10 | 15 |\n",
    "| C | 12  | 12  | 13 | 11 | 11 |\n",
    "| D | 24 | 22 | 23 | 21 | 22 |\n",
    "\n",
    "a) Em que dia da semana ocorreu mais acidentes?<br>\n",
    "b) Em que departamento?"
   ]
  },
  {
   "cell_type": "code",
   "execution_count": 74,
   "metadata": {},
   "outputs": [],
   "source": [
    "import operator"
   ]
  },
  {
   "cell_type": "code",
   "execution_count": 76,
   "metadata": {},
   "outputs": [
    {
     "name": "stdout",
     "output_type": "stream",
     "text": [
      "[{'departamento': 'a', 'acidentes': 120}, {'departamento': 'b', 'acidentes': 60}, {'departamento': 'c', 'acidentes': 59}, {'departamento': 'd', 'acidentes': 112}]\n",
      "59\n",
      "120\n",
      "59\n",
      "120\n"
     ]
    },
    {
     "ename": "AttributeError",
     "evalue": "'list' object has no attribute 'items'",
     "output_type": "error",
     "traceback": [
      "\u001b[1;31m---------------------------------------------------------------------------\u001b[0m",
      "\u001b[1;31mAttributeError\u001b[0m                            Traceback (most recent call last)",
      "\u001b[1;32m<ipython-input-76-95208c6f8302>\u001b[0m in \u001b[0;36m<module>\u001b[1;34m\u001b[0m\n\u001b[0;32m     21\u001b[0m \u001b[0mprint\u001b[0m\u001b[1;33m(\u001b[0m\u001b[0mmax_price\u001b[0m\u001b[1;33m)\u001b[0m\u001b[1;33m\u001b[0m\u001b[1;33m\u001b[0m\u001b[0m\n\u001b[0;32m     22\u001b[0m \u001b[1;33m\u001b[0m\u001b[0m\n\u001b[1;32m---> 23\u001b[1;33m \u001b[0mprint\u001b[0m\u001b[1;33m(\u001b[0m\u001b[0mmax\u001b[0m\u001b[1;33m(\u001b[0m\u001b[0mdepartamentos_acidentes\u001b[0m\u001b[1;33m.\u001b[0m\u001b[0mitems\u001b[0m\u001b[1;33m(\u001b[0m\u001b[1;33m)\u001b[0m\u001b[1;33m,\u001b[0m \u001b[0mkey\u001b[0m\u001b[1;33m=\u001b[0m\u001b[0moperator\u001b[0m\u001b[1;33m.\u001b[0m\u001b[0mitemgetter\u001b[0m\u001b[1;33m(\u001b[0m\u001b[1;36m1\u001b[0m\u001b[1;33m)\u001b[0m\u001b[1;33m)\u001b[0m\u001b[1;33m[\u001b[0m\u001b[1;36m0\u001b[0m\u001b[1;33m]\u001b[0m\u001b[1;33m)\u001b[0m\u001b[1;33m\u001b[0m\u001b[1;33m\u001b[0m\u001b[0m\n\u001b[0m",
      "\u001b[1;31mAttributeError\u001b[0m: 'list' object has no attribute 'items'"
     ]
    }
   ],
   "source": [
    "# Deixe seus calculos aqui:[\n",
    "acidentes = [[12,21,23,29,35],\n",
    "             [14,10,11,10,15],\n",
    "             [12,12,13,11,11],\n",
    "             [24,22,23,21,22]]\n",
    "\n",
    "departamentos_acidentes = [{'departamento':'a','acidentes':sum(acidentes[0])},\n",
    "                           {'departamento':'b','acidentes':sum(acidentes[1])},\n",
    "                           {'departamento':'c','acidentes':sum(acidentes[2])},\n",
    "                           {'departamento':'d','acidentes':sum(acidentes[3])}]\n",
    "print(departamentos_acidentes)\n",
    "\n",
    "seq = [x['acidentes'] for x in departamentos_acidentes]\n",
    "print(min(seq))\n",
    "print(max(seq))\n",
    "\n",
    "min_price = min(item['acidentes'] for item in departamentos_acidentes)\n",
    "print(min_price)\n",
    "\n",
    "max_price = max(item['acidentes'] for item in departamentos_acidentes)\n",
    "print(max_price)\n",
    "\n",
    "print(max(departamentos_acidentes.items(), key=operator.itemgetter(1))[0])\n"
   ]
  },
  {
   "cell_type": "code",
   "execution_count": null,
   "metadata": {},
   "outputs": [],
   "source": [
    "X = []\n",
    "for A, B, C, D in zip(acidentes[0], acidentes[1], acidentes[2], acidentes[3]):\n",
    "    X.append(A + B + C + D) \n",
    "    \n",
    "print(X)\n",
    "a=zip(*acidentes)\n",
    "b=map(max, zip(acidentes[0], acidentes[1], acidentes[2], acidentes[3]))\n",
    "c=map(min, zip(acidentes[0], acidentes[1], acidentes[2], acidentes[3]))\n",
    "\n",
    "print(list(a))\n",
    "print(list(b))\n",
    "print(list(c))\n",
    "\n",
    "\n",
    "#Somar todas os items da lista\n",
    "def soma(x,y):\n",
    "    return x+y\n",
    "soma = reduce(soma,acidentes_por_dias_semana)\n",
    "print(soma)\n",
    "\n",
    "\n",
    "#Somar todas os items da lista\n",
    "def soma(x,y):\n",
    "    return x+y\n",
    "soma = reduce(soma,acidentes_por_dias_semana)\n",
    "print(soma)\n",
    "\n",
    "\n",
    "a=zip(*acidentes)\n",
    "b=map(max, zip(*acidentes))\n",
    "c=map(min, zip(*acidentes))\n",
    "\n",
    "print(list(a))\n",
    "print(list(b))\n",
    "print(list(c))\n",
    "\n",
    "\n",
    "\n",
    "print('bla')\n",
    "print(max(dVals['items'], key=lambda x: x['acidentes']) for dVals in departamentos_acidentes)\n",
    "\n",
    "\n",
    "\n",
    "acidentes_por_dias_semana = list(zip(acidentes[0],acidentes[1],acidentes[2],acidentes[3]))\n",
    "print(acidentes_por_dias_semana)\n",
    "\n"
   ]
  },
  {
   "cell_type": "markdown",
   "metadata": {},
   "source": [
    "17) A distribuicao dos salarios de 200 funcionarios, em multiplos de RS 1000,00, segue conforme a tabela abaixo:\n",
    "\n",
    "<h4 align=\"center\"> Tabela 6: Distribuicao de salarios de 200 funcionarios</h4>\n",
    "  \n",
    "| Classe | Porcentagem | \n",
    "| :---: | :---: | \n",
    "| 2 a 4 | 20 | \n",
    "| 4 a 5 | 25 | \n",
    "| 5 a 8 | 45  | \n",
    "| 9 a 10 | 10 | \n",
    "| Total | 100 | \n",
    "\n",
    "O numero de funcionarios que possuem salarios maiores ou iguais a RS 4000,00 e inferiores a RS 8000,00 e:\n",
    "\n",
    "a) 60<br>\n",
    "b) 80<br>\n",
    "c) 90<br>\n",
    "d) 140<br>\n",
    "e) 160"
   ]
  },
  {
   "cell_type": "code",
   "execution_count": null,
   "metadata": {},
   "outputs": [],
   "source": [
    "# Deixe seus calculos aqui:\n",
    "total_funcionarios = 200\n",
    "porcentagem_no_intervalo = 70 / 100 #(25 + 45) Classe 4 a 5 e Classe 4 a 8  \n",
    "qtd_funcionarios_no_intervalo = total_funcionarios*porcentagem_no_intervalo\n",
    "\n",
    "print(f'Numero de funcionario com salario entre 4 e 8 mil: {qtd_funcionarios_no_intervalo}')\n",
    "\n"
   ]
  },
  {
   "cell_type": "markdown",
   "metadata": {},
   "source": [
    "18) Uma cidade de 10 mil habitantes gera aproximadamente 0,76 kg de lixo por pessoa em um dia, mas somente 82% e atendido\n",
    "pelo aterro sanitario da cidade. A quantidade de lixo que realmente acaba indo para o aterro, em kg/dia, e: <br>\n",
    "\n",
    "a) 1368; <br> \n",
    "b) 1558; <br>\n",
    "c) 6232; <br>\n",
    "d) 7600; <br>\n",
    "e) 24928."
   ]
  },
  {
   "cell_type": "code",
   "execution_count": null,
   "metadata": {},
   "outputs": [],
   "source": [
    "# Deixe seus calculos aqui:\n",
    "total_habitantes = 10000\n",
    "lixo_pessoa_dia = 0.76\n",
    "atendimento_aterro = 82/100\n",
    "\n",
    "qtd_diaria_aterro = (total_habitantes*lixo_pessoa_dia)*atendimento_aterro\n",
    "print(f'Quantidade diaria que realmente vai para o aterro: {qtd_diaria_aterro}')"
   ]
  }
 ],
 "metadata": {
  "kernelspec": {
   "display_name": "Python 3",
   "language": "python",
   "name": "python3"
  },
  "language_info": {
   "codemirror_mode": {
    "name": "ipython",
    "version": 3
   },
   "file_extension": ".py",
   "mimetype": "text/x-python",
   "name": "python",
   "nbconvert_exporter": "python",
   "pygments_lexer": "ipython3",
   "version": "3.7.6"
  }
 },
 "nbformat": 4,
 "nbformat_minor": 4
}
