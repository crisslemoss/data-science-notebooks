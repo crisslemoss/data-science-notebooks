{
  "nbformat": 4,
  "nbformat_minor": 0,
  "metadata": {
    "colab": {
      "name": "Copy of treinamento_pandas_2",
      "provenance": [],
      "collapsed_sections": []
    },
    "kernelspec": {
      "name": "python3",
      "display_name": "Python 3"
    }
  },
  "cells": [
    {
      "cell_type": "code",
      "metadata": {
        "id": "lwBNzAQIzcXw",
        "colab_type": "code",
        "colab": {}
      },
      "source": [
        "# inicialmete importar as bibliotecas\n",
        "import pandas as pd\n",
        "import numpy as np\n",
        "np.random.seed(123)\n"
      ],
      "execution_count": 9,
      "outputs": []
    },
    {
      "cell_type": "code",
      "metadata": {
        "id": "EQo3RzVjOkXV",
        "colab_type": "code",
        "colab": {
          "base_uri": "https://localhost:8080/",
          "height": 119
        },
        "outputId": "b6145a40-7849-4239-d4c1-43c731917771"
      },
      "source": [
        "# crie um uma matriz de 6 linha se 7 colunas\n",
        "x=np.random.randint(0,100,42).reshape(6,7)\n",
        "x\n"
      ],
      "execution_count": 10,
      "outputs": [
        {
          "output_type": "execute_result",
          "data": {
            "text/plain": [
              "array([[66, 92, 98, 17, 83, 57, 86],\n",
              "       [97, 96, 47, 73, 32, 46, 96],\n",
              "       [25, 83, 78, 36, 96, 80, 68],\n",
              "       [49, 55, 67,  2, 84, 39, 66],\n",
              "       [84, 47, 61, 48,  7, 99, 92],\n",
              "       [52, 97, 85, 94, 27, 34, 97]])"
            ]
          },
          "metadata": {
            "tags": []
          },
          "execution_count": 10
        }
      ]
    },
    {
      "cell_type": "code",
      "metadata": {
        "id": "npJza8mpsgzC",
        "colab_type": "code",
        "colab": {
          "base_uri": "https://localhost:8080/",
          "height": 235
        },
        "outputId": "053d3cf3-b250-43b1-aede-20e3faae949a"
      },
      "source": [
        "# com os dados da matriz acima crie um DataFrame\n",
        "df=pd.DataFrame(x)\n",
        "df"
      ],
      "execution_count": 11,
      "outputs": [
        {
          "output_type": "execute_result",
          "data": {
            "text/html": [
              "<div>\n",
              "<style scoped>\n",
              "    .dataframe tbody tr th:only-of-type {\n",
              "        vertical-align: middle;\n",
              "    }\n",
              "\n",
              "    .dataframe tbody tr th {\n",
              "        vertical-align: top;\n",
              "    }\n",
              "\n",
              "    .dataframe thead th {\n",
              "        text-align: right;\n",
              "    }\n",
              "</style>\n",
              "<table border=\"1\" class=\"dataframe\">\n",
              "  <thead>\n",
              "    <tr style=\"text-align: right;\">\n",
              "      <th></th>\n",
              "      <th>0</th>\n",
              "      <th>1</th>\n",
              "      <th>2</th>\n",
              "      <th>3</th>\n",
              "      <th>4</th>\n",
              "      <th>5</th>\n",
              "      <th>6</th>\n",
              "    </tr>\n",
              "  </thead>\n",
              "  <tbody>\n",
              "    <tr>\n",
              "      <th>0</th>\n",
              "      <td>66</td>\n",
              "      <td>92</td>\n",
              "      <td>98</td>\n",
              "      <td>17</td>\n",
              "      <td>83</td>\n",
              "      <td>57</td>\n",
              "      <td>86</td>\n",
              "    </tr>\n",
              "    <tr>\n",
              "      <th>1</th>\n",
              "      <td>97</td>\n",
              "      <td>96</td>\n",
              "      <td>47</td>\n",
              "      <td>73</td>\n",
              "      <td>32</td>\n",
              "      <td>46</td>\n",
              "      <td>96</td>\n",
              "    </tr>\n",
              "    <tr>\n",
              "      <th>2</th>\n",
              "      <td>25</td>\n",
              "      <td>83</td>\n",
              "      <td>78</td>\n",
              "      <td>36</td>\n",
              "      <td>96</td>\n",
              "      <td>80</td>\n",
              "      <td>68</td>\n",
              "    </tr>\n",
              "    <tr>\n",
              "      <th>3</th>\n",
              "      <td>49</td>\n",
              "      <td>55</td>\n",
              "      <td>67</td>\n",
              "      <td>2</td>\n",
              "      <td>84</td>\n",
              "      <td>39</td>\n",
              "      <td>66</td>\n",
              "    </tr>\n",
              "    <tr>\n",
              "      <th>4</th>\n",
              "      <td>84</td>\n",
              "      <td>47</td>\n",
              "      <td>61</td>\n",
              "      <td>48</td>\n",
              "      <td>7</td>\n",
              "      <td>99</td>\n",
              "      <td>92</td>\n",
              "    </tr>\n",
              "    <tr>\n",
              "      <th>5</th>\n",
              "      <td>52</td>\n",
              "      <td>97</td>\n",
              "      <td>85</td>\n",
              "      <td>94</td>\n",
              "      <td>27</td>\n",
              "      <td>34</td>\n",
              "      <td>97</td>\n",
              "    </tr>\n",
              "  </tbody>\n",
              "</table>\n",
              "</div>"
            ],
            "text/plain": [
              "    0   1   2   3   4   5   6\n",
              "0  66  92  98  17  83  57  86\n",
              "1  97  96  47  73  32  46  96\n",
              "2  25  83  78  36  96  80  68\n",
              "3  49  55  67   2  84  39  66\n",
              "4  84  47  61  48   7  99  92\n",
              "5  52  97  85  94  27  34  97"
            ]
          },
          "metadata": {
            "tags": []
          },
          "execution_count": 11
        }
      ]
    },
    {
      "cell_type": "code",
      "metadata": {
        "id": "wObmYfHmvIO1",
        "colab_type": "code",
        "colab": {
          "base_uri": "https://localhost:8080/",
          "height": 235
        },
        "outputId": "e54c6e05-df55-4682-cedf-8648ec86429a"
      },
      "source": [
        "# crie um DataFrame com índice em letras minúscula\n",
        "# e coluna com letras maiúsculas\n",
        "df=pd.DataFrame(data=x,index=['a','b','c','d','e','f'],columns=['A','B','C','D','E','F','G'])\n",
        "df"
      ],
      "execution_count": 12,
      "outputs": [
        {
          "output_type": "execute_result",
          "data": {
            "text/html": [
              "<div>\n",
              "<style scoped>\n",
              "    .dataframe tbody tr th:only-of-type {\n",
              "        vertical-align: middle;\n",
              "    }\n",
              "\n",
              "    .dataframe tbody tr th {\n",
              "        vertical-align: top;\n",
              "    }\n",
              "\n",
              "    .dataframe thead th {\n",
              "        text-align: right;\n",
              "    }\n",
              "</style>\n",
              "<table border=\"1\" class=\"dataframe\">\n",
              "  <thead>\n",
              "    <tr style=\"text-align: right;\">\n",
              "      <th></th>\n",
              "      <th>A</th>\n",
              "      <th>B</th>\n",
              "      <th>C</th>\n",
              "      <th>D</th>\n",
              "      <th>E</th>\n",
              "      <th>F</th>\n",
              "      <th>G</th>\n",
              "    </tr>\n",
              "  </thead>\n",
              "  <tbody>\n",
              "    <tr>\n",
              "      <th>a</th>\n",
              "      <td>66</td>\n",
              "      <td>92</td>\n",
              "      <td>98</td>\n",
              "      <td>17</td>\n",
              "      <td>83</td>\n",
              "      <td>57</td>\n",
              "      <td>86</td>\n",
              "    </tr>\n",
              "    <tr>\n",
              "      <th>b</th>\n",
              "      <td>97</td>\n",
              "      <td>96</td>\n",
              "      <td>47</td>\n",
              "      <td>73</td>\n",
              "      <td>32</td>\n",
              "      <td>46</td>\n",
              "      <td>96</td>\n",
              "    </tr>\n",
              "    <tr>\n",
              "      <th>c</th>\n",
              "      <td>25</td>\n",
              "      <td>83</td>\n",
              "      <td>78</td>\n",
              "      <td>36</td>\n",
              "      <td>96</td>\n",
              "      <td>80</td>\n",
              "      <td>68</td>\n",
              "    </tr>\n",
              "    <tr>\n",
              "      <th>d</th>\n",
              "      <td>49</td>\n",
              "      <td>55</td>\n",
              "      <td>67</td>\n",
              "      <td>2</td>\n",
              "      <td>84</td>\n",
              "      <td>39</td>\n",
              "      <td>66</td>\n",
              "    </tr>\n",
              "    <tr>\n",
              "      <th>e</th>\n",
              "      <td>84</td>\n",
              "      <td>47</td>\n",
              "      <td>61</td>\n",
              "      <td>48</td>\n",
              "      <td>7</td>\n",
              "      <td>99</td>\n",
              "      <td>92</td>\n",
              "    </tr>\n",
              "    <tr>\n",
              "      <th>f</th>\n",
              "      <td>52</td>\n",
              "      <td>97</td>\n",
              "      <td>85</td>\n",
              "      <td>94</td>\n",
              "      <td>27</td>\n",
              "      <td>34</td>\n",
              "      <td>97</td>\n",
              "    </tr>\n",
              "  </tbody>\n",
              "</table>\n",
              "</div>"
            ],
            "text/plain": [
              "    A   B   C   D   E   F   G\n",
              "a  66  92  98  17  83  57  86\n",
              "b  97  96  47  73  32  46  96\n",
              "c  25  83  78  36  96  80  68\n",
              "d  49  55  67   2  84  39  66\n",
              "e  84  47  61  48   7  99  92\n",
              "f  52  97  85  94  27  34  97"
            ]
          },
          "metadata": {
            "tags": []
          },
          "execution_count": 12
        }
      ]
    },
    {
      "cell_type": "code",
      "metadata": {
        "id": "FdMtROsgx-Ru",
        "colab_type": "code",
        "colab": {
          "base_uri": "https://localhost:8080/",
          "height": 153
        },
        "outputId": "fb33dfd8-3ff7-4610-ca01-5340afd1f8c7"
      },
      "source": [
        "# encontre os valores médios do DataFrame\n",
        "# para as todas as colunas\n",
        "df.mean()"
      ],
      "execution_count": 13,
      "outputs": [
        {
          "output_type": "execute_result",
          "data": {
            "text/plain": [
              "A    62.166667\n",
              "B    78.333333\n",
              "C    72.666667\n",
              "D    45.000000\n",
              "E    54.833333\n",
              "F    59.166667\n",
              "G    84.166667\n",
              "dtype: float64"
            ]
          },
          "metadata": {
            "tags": []
          },
          "execution_count": 13
        }
      ]
    },
    {
      "cell_type": "code",
      "metadata": {
        "id": "avEC6zW_2LkJ",
        "colab_type": "code",
        "colab": {
          "base_uri": "https://localhost:8080/",
          "height": 34
        },
        "outputId": "852898e5-e16b-4c92-e7c0-3a7c6deaeef9"
      },
      "source": [
        "# encontre o valor médio do DataFrame\n",
        "# para a primeira coluna\n",
        "df[\"A\"].mean()"
      ],
      "execution_count": 14,
      "outputs": [
        {
          "output_type": "execute_result",
          "data": {
            "text/plain": [
              "62.166666666666664"
            ]
          },
          "metadata": {
            "tags": []
          },
          "execution_count": 14
        }
      ]
    },
    {
      "cell_type": "code",
      "metadata": {
        "id": "h-7IE6rjsstV",
        "colab_type": "code",
        "colab": {
          "base_uri": "https://localhost:8080/",
          "height": 235
        },
        "outputId": "408531ca-e8ac-47ed-bd18-9f5aef204b85"
      },
      "source": [
        "# indentifique quais valores são maiores que 45\n",
        "# escrevendo um novo DataFrame com OS NÚMEROS\n",
        "df1=df[df > 45] \n",
        "df1"
      ],
      "execution_count": 22,
      "outputs": [
        {
          "output_type": "execute_result",
          "data": {
            "text/html": [
              "<div>\n",
              "<style scoped>\n",
              "    .dataframe tbody tr th:only-of-type {\n",
              "        vertical-align: middle;\n",
              "    }\n",
              "\n",
              "    .dataframe tbody tr th {\n",
              "        vertical-align: top;\n",
              "    }\n",
              "\n",
              "    .dataframe thead th {\n",
              "        text-align: right;\n",
              "    }\n",
              "</style>\n",
              "<table border=\"1\" class=\"dataframe\">\n",
              "  <thead>\n",
              "    <tr style=\"text-align: right;\">\n",
              "      <th></th>\n",
              "      <th>A</th>\n",
              "      <th>B</th>\n",
              "      <th>C</th>\n",
              "      <th>D</th>\n",
              "      <th>E</th>\n",
              "      <th>F</th>\n",
              "      <th>G</th>\n",
              "    </tr>\n",
              "  </thead>\n",
              "  <tbody>\n",
              "    <tr>\n",
              "      <th>a</th>\n",
              "      <td>66.0</td>\n",
              "      <td>92</td>\n",
              "      <td>98</td>\n",
              "      <td>NaN</td>\n",
              "      <td>83.0</td>\n",
              "      <td>57.0</td>\n",
              "      <td>86</td>\n",
              "    </tr>\n",
              "    <tr>\n",
              "      <th>b</th>\n",
              "      <td>97.0</td>\n",
              "      <td>96</td>\n",
              "      <td>47</td>\n",
              "      <td>73.0</td>\n",
              "      <td>NaN</td>\n",
              "      <td>46.0</td>\n",
              "      <td>96</td>\n",
              "    </tr>\n",
              "    <tr>\n",
              "      <th>c</th>\n",
              "      <td>NaN</td>\n",
              "      <td>83</td>\n",
              "      <td>78</td>\n",
              "      <td>NaN</td>\n",
              "      <td>96.0</td>\n",
              "      <td>80.0</td>\n",
              "      <td>68</td>\n",
              "    </tr>\n",
              "    <tr>\n",
              "      <th>d</th>\n",
              "      <td>49.0</td>\n",
              "      <td>55</td>\n",
              "      <td>67</td>\n",
              "      <td>NaN</td>\n",
              "      <td>84.0</td>\n",
              "      <td>NaN</td>\n",
              "      <td>66</td>\n",
              "    </tr>\n",
              "    <tr>\n",
              "      <th>e</th>\n",
              "      <td>84.0</td>\n",
              "      <td>47</td>\n",
              "      <td>61</td>\n",
              "      <td>48.0</td>\n",
              "      <td>NaN</td>\n",
              "      <td>99.0</td>\n",
              "      <td>92</td>\n",
              "    </tr>\n",
              "    <tr>\n",
              "      <th>f</th>\n",
              "      <td>52.0</td>\n",
              "      <td>97</td>\n",
              "      <td>85</td>\n",
              "      <td>94.0</td>\n",
              "      <td>NaN</td>\n",
              "      <td>NaN</td>\n",
              "      <td>97</td>\n",
              "    </tr>\n",
              "  </tbody>\n",
              "</table>\n",
              "</div>"
            ],
            "text/plain": [
              "      A   B   C     D     E     F   G\n",
              "a  66.0  92  98   NaN  83.0  57.0  86\n",
              "b  97.0  96  47  73.0   NaN  46.0  96\n",
              "c   NaN  83  78   NaN  96.0  80.0  68\n",
              "d  49.0  55  67   NaN  84.0   NaN  66\n",
              "e  84.0  47  61  48.0   NaN  99.0  92\n",
              "f  52.0  97  85  94.0   NaN   NaN  97"
            ]
          },
          "metadata": {
            "tags": []
          },
          "execution_count": 22
        }
      ]
    },
    {
      "cell_type": "code",
      "metadata": {
        "id": "8PH4lR2GtQM9",
        "colab_type": "code",
        "colab": {
          "base_uri": "https://localhost:8080/",
          "height": 153
        },
        "outputId": "c9894e00-5f63-49c0-ecd0-2403b1c80916"
      },
      "source": [
        "# encontre a quantidade de valores maiores \n",
        "# que 45 \n",
        "qdt = (df >= 45).sum()\n",
        "print(qdt)"
      ],
      "execution_count": 24,
      "outputs": [
        {
          "output_type": "stream",
          "text": [
            "A    5\n",
            "B    6\n",
            "C    6\n",
            "D    3\n",
            "E    3\n",
            "F    4\n",
            "G    6\n",
            "dtype: int64\n"
          ],
          "name": "stdout"
        }
      ]
    },
    {
      "cell_type": "code",
      "metadata": {
        "id": "Q_g5DD0Jx2b5",
        "colab_type": "code",
        "colab": {
          "base_uri": "https://localhost:8080/",
          "height": 153
        },
        "outputId": "187dd248-109b-4238-b464-0a1cb2b0af60"
      },
      "source": [
        "# encontre o valor médio para o \n",
        "# DataFrame com valores maiores que 45\n",
        "df1.mean()\n"
      ],
      "execution_count": 27,
      "outputs": [
        {
          "output_type": "execute_result",
          "data": {
            "text/plain": [
              "A    69.600000\n",
              "B    78.333333\n",
              "C    72.666667\n",
              "D    71.666667\n",
              "E    87.666667\n",
              "F    70.500000\n",
              "G    84.166667\n",
              "dtype: float64"
            ]
          },
          "metadata": {
            "tags": []
          },
          "execution_count": 27
        }
      ]
    },
    {
      "cell_type": "code",
      "metadata": {
        "id": "_mujGUbowly_",
        "colab_type": "code",
        "colab": {
          "base_uri": "https://localhost:8080/",
          "height": 235
        },
        "outputId": "2d91494a-51ba-407d-ca37-65361be16d3f"
      },
      "source": [
        "# crie um novo DataFrame com valores maior que 45\n",
        "df2 = df1\n",
        "df2"
      ],
      "execution_count": 32,
      "outputs": [
        {
          "output_type": "execute_result",
          "data": {
            "text/html": [
              "<div>\n",
              "<style scoped>\n",
              "    .dataframe tbody tr th:only-of-type {\n",
              "        vertical-align: middle;\n",
              "    }\n",
              "\n",
              "    .dataframe tbody tr th {\n",
              "        vertical-align: top;\n",
              "    }\n",
              "\n",
              "    .dataframe thead th {\n",
              "        text-align: right;\n",
              "    }\n",
              "</style>\n",
              "<table border=\"1\" class=\"dataframe\">\n",
              "  <thead>\n",
              "    <tr style=\"text-align: right;\">\n",
              "      <th></th>\n",
              "      <th>A</th>\n",
              "      <th>B</th>\n",
              "      <th>C</th>\n",
              "      <th>D</th>\n",
              "      <th>E</th>\n",
              "      <th>F</th>\n",
              "      <th>G</th>\n",
              "    </tr>\n",
              "  </thead>\n",
              "  <tbody>\n",
              "    <tr>\n",
              "      <th>a</th>\n",
              "      <td>66.0</td>\n",
              "      <td>92</td>\n",
              "      <td>98</td>\n",
              "      <td>NaN</td>\n",
              "      <td>83.0</td>\n",
              "      <td>57.0</td>\n",
              "      <td>86</td>\n",
              "    </tr>\n",
              "    <tr>\n",
              "      <th>b</th>\n",
              "      <td>97.0</td>\n",
              "      <td>96</td>\n",
              "      <td>47</td>\n",
              "      <td>73.0</td>\n",
              "      <td>NaN</td>\n",
              "      <td>46.0</td>\n",
              "      <td>96</td>\n",
              "    </tr>\n",
              "    <tr>\n",
              "      <th>c</th>\n",
              "      <td>NaN</td>\n",
              "      <td>83</td>\n",
              "      <td>78</td>\n",
              "      <td>NaN</td>\n",
              "      <td>96.0</td>\n",
              "      <td>80.0</td>\n",
              "      <td>68</td>\n",
              "    </tr>\n",
              "    <tr>\n",
              "      <th>d</th>\n",
              "      <td>49.0</td>\n",
              "      <td>55</td>\n",
              "      <td>67</td>\n",
              "      <td>NaN</td>\n",
              "      <td>84.0</td>\n",
              "      <td>NaN</td>\n",
              "      <td>66</td>\n",
              "    </tr>\n",
              "    <tr>\n",
              "      <th>e</th>\n",
              "      <td>84.0</td>\n",
              "      <td>47</td>\n",
              "      <td>61</td>\n",
              "      <td>48.0</td>\n",
              "      <td>NaN</td>\n",
              "      <td>99.0</td>\n",
              "      <td>92</td>\n",
              "    </tr>\n",
              "    <tr>\n",
              "      <th>f</th>\n",
              "      <td>52.0</td>\n",
              "      <td>97</td>\n",
              "      <td>85</td>\n",
              "      <td>94.0</td>\n",
              "      <td>NaN</td>\n",
              "      <td>NaN</td>\n",
              "      <td>97</td>\n",
              "    </tr>\n",
              "  </tbody>\n",
              "</table>\n",
              "</div>"
            ],
            "text/plain": [
              "      A   B   C     D     E     F   G\n",
              "a  66.0  92  98   NaN  83.0  57.0  86\n",
              "b  97.0  96  47  73.0   NaN  46.0  96\n",
              "c   NaN  83  78   NaN  96.0  80.0  68\n",
              "d  49.0  55  67   NaN  84.0   NaN  66\n",
              "e  84.0  47  61  48.0   NaN  99.0  92\n",
              "f  52.0  97  85  94.0   NaN   NaN  97"
            ]
          },
          "metadata": {
            "tags": []
          },
          "execution_count": 32
        }
      ]
    },
    {
      "cell_type": "code",
      "metadata": {
        "id": "FrYf6n-9zPLM",
        "colab_type": "code",
        "colab": {
          "base_uri": "https://localhost:8080/",
          "height": 235
        },
        "outputId": "37893269-a0f5-44d9-b323-57fd604b86a0"
      },
      "source": [
        "# excluir todas as colunas com NaN\n",
        "df2.dropna(axis=1, how='any')"
      ],
      "execution_count": 45,
      "outputs": [
        {
          "output_type": "execute_result",
          "data": {
            "text/html": [
              "<div>\n",
              "<style scoped>\n",
              "    .dataframe tbody tr th:only-of-type {\n",
              "        vertical-align: middle;\n",
              "    }\n",
              "\n",
              "    .dataframe tbody tr th {\n",
              "        vertical-align: top;\n",
              "    }\n",
              "\n",
              "    .dataframe thead th {\n",
              "        text-align: right;\n",
              "    }\n",
              "</style>\n",
              "<table border=\"1\" class=\"dataframe\">\n",
              "  <thead>\n",
              "    <tr style=\"text-align: right;\">\n",
              "      <th></th>\n",
              "      <th>B</th>\n",
              "      <th>C</th>\n",
              "      <th>G</th>\n",
              "    </tr>\n",
              "  </thead>\n",
              "  <tbody>\n",
              "    <tr>\n",
              "      <th>a</th>\n",
              "      <td>92</td>\n",
              "      <td>98</td>\n",
              "      <td>86</td>\n",
              "    </tr>\n",
              "    <tr>\n",
              "      <th>b</th>\n",
              "      <td>96</td>\n",
              "      <td>47</td>\n",
              "      <td>96</td>\n",
              "    </tr>\n",
              "    <tr>\n",
              "      <th>c</th>\n",
              "      <td>83</td>\n",
              "      <td>78</td>\n",
              "      <td>68</td>\n",
              "    </tr>\n",
              "    <tr>\n",
              "      <th>d</th>\n",
              "      <td>55</td>\n",
              "      <td>67</td>\n",
              "      <td>66</td>\n",
              "    </tr>\n",
              "    <tr>\n",
              "      <th>e</th>\n",
              "      <td>47</td>\n",
              "      <td>61</td>\n",
              "      <td>92</td>\n",
              "    </tr>\n",
              "    <tr>\n",
              "      <th>f</th>\n",
              "      <td>97</td>\n",
              "      <td>85</td>\n",
              "      <td>97</td>\n",
              "    </tr>\n",
              "  </tbody>\n",
              "</table>\n",
              "</div>"
            ],
            "text/plain": [
              "    B   C   G\n",
              "a  92  98  86\n",
              "b  96  47  96\n",
              "c  83  78  68\n",
              "d  55  67  66\n",
              "e  47  61  92\n",
              "f  97  85  97"
            ]
          },
          "metadata": {
            "tags": []
          },
          "execution_count": 45
        }
      ]
    },
    {
      "cell_type": "code",
      "metadata": {
        "id": "S5W6ErJy0KSF",
        "colab_type": "code",
        "colab": {
          "base_uri": "https://localhost:8080/",
          "height": 235
        },
        "outputId": "49cc406e-a3b9-40d3-e4e9-f7c7693bc5ec"
      },
      "source": [
        "# no novo DataFrame substitua \n",
        "# os valores NaN pela media\n",
        "# do valor da coluna\n",
        "df2.fillna(value=df2.mean())"
      ],
      "execution_count": 47,
      "outputs": [
        {
          "output_type": "execute_result",
          "data": {
            "text/html": [
              "<div>\n",
              "<style scoped>\n",
              "    .dataframe tbody tr th:only-of-type {\n",
              "        vertical-align: middle;\n",
              "    }\n",
              "\n",
              "    .dataframe tbody tr th {\n",
              "        vertical-align: top;\n",
              "    }\n",
              "\n",
              "    .dataframe thead th {\n",
              "        text-align: right;\n",
              "    }\n",
              "</style>\n",
              "<table border=\"1\" class=\"dataframe\">\n",
              "  <thead>\n",
              "    <tr style=\"text-align: right;\">\n",
              "      <th></th>\n",
              "      <th>A</th>\n",
              "      <th>B</th>\n",
              "      <th>C</th>\n",
              "      <th>D</th>\n",
              "      <th>E</th>\n",
              "      <th>F</th>\n",
              "      <th>G</th>\n",
              "    </tr>\n",
              "  </thead>\n",
              "  <tbody>\n",
              "    <tr>\n",
              "      <th>a</th>\n",
              "      <td>66.0</td>\n",
              "      <td>92</td>\n",
              "      <td>98</td>\n",
              "      <td>71.666667</td>\n",
              "      <td>83.000000</td>\n",
              "      <td>57.0</td>\n",
              "      <td>86</td>\n",
              "    </tr>\n",
              "    <tr>\n",
              "      <th>b</th>\n",
              "      <td>97.0</td>\n",
              "      <td>96</td>\n",
              "      <td>47</td>\n",
              "      <td>73.000000</td>\n",
              "      <td>87.666667</td>\n",
              "      <td>46.0</td>\n",
              "      <td>96</td>\n",
              "    </tr>\n",
              "    <tr>\n",
              "      <th>c</th>\n",
              "      <td>69.6</td>\n",
              "      <td>83</td>\n",
              "      <td>78</td>\n",
              "      <td>71.666667</td>\n",
              "      <td>96.000000</td>\n",
              "      <td>80.0</td>\n",
              "      <td>68</td>\n",
              "    </tr>\n",
              "    <tr>\n",
              "      <th>d</th>\n",
              "      <td>49.0</td>\n",
              "      <td>55</td>\n",
              "      <td>67</td>\n",
              "      <td>71.666667</td>\n",
              "      <td>84.000000</td>\n",
              "      <td>70.5</td>\n",
              "      <td>66</td>\n",
              "    </tr>\n",
              "    <tr>\n",
              "      <th>e</th>\n",
              "      <td>84.0</td>\n",
              "      <td>47</td>\n",
              "      <td>61</td>\n",
              "      <td>48.000000</td>\n",
              "      <td>87.666667</td>\n",
              "      <td>99.0</td>\n",
              "      <td>92</td>\n",
              "    </tr>\n",
              "    <tr>\n",
              "      <th>f</th>\n",
              "      <td>52.0</td>\n",
              "      <td>97</td>\n",
              "      <td>85</td>\n",
              "      <td>94.000000</td>\n",
              "      <td>87.666667</td>\n",
              "      <td>70.5</td>\n",
              "      <td>97</td>\n",
              "    </tr>\n",
              "  </tbody>\n",
              "</table>\n",
              "</div>"
            ],
            "text/plain": [
              "      A   B   C          D          E     F   G\n",
              "a  66.0  92  98  71.666667  83.000000  57.0  86\n",
              "b  97.0  96  47  73.000000  87.666667  46.0  96\n",
              "c  69.6  83  78  71.666667  96.000000  80.0  68\n",
              "d  49.0  55  67  71.666667  84.000000  70.5  66\n",
              "e  84.0  47  61  48.000000  87.666667  99.0  92\n",
              "f  52.0  97  85  94.000000  87.666667  70.5  97"
            ]
          },
          "metadata": {
            "tags": []
          },
          "execution_count": 47
        }
      ]
    },
    {
      "cell_type": "code",
      "metadata": {
        "id": "159CqI831Asy",
        "colab_type": "code",
        "colab": {
          "base_uri": "https://localhost:8080/",
          "height": 235
        },
        "outputId": "572da110-8201-4c8a-a998-ed5de07469aa"
      },
      "source": [
        "# torne essas mudanças permanente\n",
        "df2.dropna(axis=1, how='any',inplace=True)\n",
        "df2"
      ],
      "execution_count": 55,
      "outputs": [
        {
          "output_type": "execute_result",
          "data": {
            "text/html": [
              "<div>\n",
              "<style scoped>\n",
              "    .dataframe tbody tr th:only-of-type {\n",
              "        vertical-align: middle;\n",
              "    }\n",
              "\n",
              "    .dataframe tbody tr th {\n",
              "        vertical-align: top;\n",
              "    }\n",
              "\n",
              "    .dataframe thead th {\n",
              "        text-align: right;\n",
              "    }\n",
              "</style>\n",
              "<table border=\"1\" class=\"dataframe\">\n",
              "  <thead>\n",
              "    <tr style=\"text-align: right;\">\n",
              "      <th></th>\n",
              "      <th>B</th>\n",
              "      <th>C</th>\n",
              "      <th>G</th>\n",
              "    </tr>\n",
              "  </thead>\n",
              "  <tbody>\n",
              "    <tr>\n",
              "      <th>a</th>\n",
              "      <td>92</td>\n",
              "      <td>98</td>\n",
              "      <td>86</td>\n",
              "    </tr>\n",
              "    <tr>\n",
              "      <th>b</th>\n",
              "      <td>96</td>\n",
              "      <td>47</td>\n",
              "      <td>96</td>\n",
              "    </tr>\n",
              "    <tr>\n",
              "      <th>c</th>\n",
              "      <td>83</td>\n",
              "      <td>78</td>\n",
              "      <td>68</td>\n",
              "    </tr>\n",
              "    <tr>\n",
              "      <th>d</th>\n",
              "      <td>55</td>\n",
              "      <td>67</td>\n",
              "      <td>66</td>\n",
              "    </tr>\n",
              "    <tr>\n",
              "      <th>e</th>\n",
              "      <td>47</td>\n",
              "      <td>61</td>\n",
              "      <td>92</td>\n",
              "    </tr>\n",
              "    <tr>\n",
              "      <th>f</th>\n",
              "      <td>97</td>\n",
              "      <td>85</td>\n",
              "      <td>97</td>\n",
              "    </tr>\n",
              "  </tbody>\n",
              "</table>\n",
              "</div>"
            ],
            "text/plain": [
              "    B   C   G\n",
              "a  92  98  86\n",
              "b  96  47  96\n",
              "c  83  78  68\n",
              "d  55  67  66\n",
              "e  47  61  92\n",
              "f  97  85  97"
            ]
          },
          "metadata": {
            "tags": []
          },
          "execution_count": 55
        }
      ]
    },
    {
      "cell_type": "code",
      "metadata": {
        "id": "X3ZVYiSA1M_I",
        "colab_type": "code",
        "colab": {
          "base_uri": "https://localhost:8080/",
          "height": 173
        },
        "outputId": "fa0079ba-dd8c-405d-cc86-0611e41a8c1e"
      },
      "source": [
        "# mostrar aleatoriamente 4 linhas \n",
        "# com as mudanças  permanente\n",
        "df2.sample(4)"
      ],
      "execution_count": 57,
      "outputs": [
        {
          "output_type": "execute_result",
          "data": {
            "text/html": [
              "<div>\n",
              "<style scoped>\n",
              "    .dataframe tbody tr th:only-of-type {\n",
              "        vertical-align: middle;\n",
              "    }\n",
              "\n",
              "    .dataframe tbody tr th {\n",
              "        vertical-align: top;\n",
              "    }\n",
              "\n",
              "    .dataframe thead th {\n",
              "        text-align: right;\n",
              "    }\n",
              "</style>\n",
              "<table border=\"1\" class=\"dataframe\">\n",
              "  <thead>\n",
              "    <tr style=\"text-align: right;\">\n",
              "      <th></th>\n",
              "      <th>B</th>\n",
              "      <th>C</th>\n",
              "      <th>G</th>\n",
              "    </tr>\n",
              "  </thead>\n",
              "  <tbody>\n",
              "    <tr>\n",
              "      <th>f</th>\n",
              "      <td>97</td>\n",
              "      <td>85</td>\n",
              "      <td>97</td>\n",
              "    </tr>\n",
              "    <tr>\n",
              "      <th>b</th>\n",
              "      <td>96</td>\n",
              "      <td>47</td>\n",
              "      <td>96</td>\n",
              "    </tr>\n",
              "    <tr>\n",
              "      <th>c</th>\n",
              "      <td>83</td>\n",
              "      <td>78</td>\n",
              "      <td>68</td>\n",
              "    </tr>\n",
              "    <tr>\n",
              "      <th>d</th>\n",
              "      <td>55</td>\n",
              "      <td>67</td>\n",
              "      <td>66</td>\n",
              "    </tr>\n",
              "  </tbody>\n",
              "</table>\n",
              "</div>"
            ],
            "text/plain": [
              "    B   C   G\n",
              "f  97  85  97\n",
              "b  96  47  96\n",
              "c  83  78  68\n",
              "d  55  67  66"
            ]
          },
          "metadata": {
            "tags": []
          },
          "execution_count": 57
        }
      ]
    }
  ]
}