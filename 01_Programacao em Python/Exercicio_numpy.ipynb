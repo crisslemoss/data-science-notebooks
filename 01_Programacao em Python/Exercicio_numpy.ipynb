{
  "nbformat": 4,
  "nbformat_minor": 0,
  "metadata": {
    "colab": {
      "name": "Untitled0.ipynb",
      "provenance": [],
      "collapsed_sections": []
    },
    "kernelspec": {
      "name": "python3",
      "display_name": "Python 3"
    }
  },
  "cells": [
    {
      "cell_type": "code",
      "metadata": {
        "id": "spkpAKAoWuFQ",
        "colab_type": "code",
        "colab": {}
      },
      "source": [
        "Faça um programa em que crie uma matriz e  o fatiamento que o usuário solicitar (usando o numpy)"
      ],
      "execution_count": 0,
      "outputs": []
    },
    {
      "cell_type": "code",
      "metadata": {
        "id": "_1wWydbKYiQz",
        "colab_type": "code",
        "colab": {
          "base_uri": "https://localhost:8080/",
          "height": 884
        },
        "outputId": "1f32527b-1a6b-44e8-c84c-4143a172d2ff"
      },
      "source": [
        "import numpy as np\n",
        "\n",
        "numeros=[]\n",
        "linha = int(input('Linha:\\n'))\n",
        "coluna = int(input('Coluna:\\n'))\n",
        "count = linha * coluna\n",
        "\n",
        "print(f'Será necessário digitar: {count} Números...\\n')\n",
        "print('_'*30)\n",
        "\n",
        "for x in range(count):\n",
        "    numeros.append(str(input('Numero:\\n')))            \n",
        "\n",
        "print('_'*30)\n",
        "vetor = np.array(numeros)\n",
        "print(f'\\nVetor:\\n{vetor}')\n",
        "matriz=vetor.reshape(linha,coluna)\n",
        "print(f'\\nMatriz:\\n{matriz}')\n",
        "print('_'*30)\n",
        "\n",
        "while True:\n",
        "    linha_inicio = int(input(f'\\nInício da Linha (valor deve ser entre 0 e {linha}):\\n'))\n",
        "    linha_fim = int(input(f'Fim da Linha (valor deve ser entre {linha_inicio} e {linha}):\\n'))\n",
        "    coluna_inicio = int(input(f'Início da Coluna (valor deve ser entre 0 e {coluna}):\\n'))\n",
        "    coluna_fim = int(input(f'Fim da coluna (valor deve ser entre {coluna_inicio} e {coluna}):\\n'))\n",
        "    print('_'*30)\n",
        "    print (f'Matriz fatida do índice a[{linha_inicio}:{linha_fim}, {coluna_inicio}:{coluna_fim}]')\n",
        "    print(matriz[linha_inicio:linha_fim, coluna_inicio:coluna_fim])\n",
        "    print('_'*30)\n",
        "    resposta = str(input('Deseja realizar novo fatiamento? [S/N]: \\n')).upper()[0]\n",
        "    if (resposta == 'N'):\n",
        "        break\n"
      ],
      "execution_count": 16,
      "outputs": [
        {
          "output_type": "stream",
          "text": [
            "Linha:\n",
            "3\n",
            "Coluna:\n",
            "3\n",
            "Será necessário digitar: 9 Números...\n",
            "\n",
            "______________________________\n",
            "Numero:\n",
            "1\n",
            "Numero:\n",
            "2\n",
            "Numero:\n",
            "3\n",
            "Numero:\n",
            "4\n",
            "Numero:\n",
            "5\n",
            "Numero:\n",
            "6\n",
            "Numero:\n",
            "7\n",
            "Numero:\n",
            "8\n",
            "Numero:\n",
            "9\n",
            "______________________________\n",
            "\n",
            "Vetor:\n",
            "['1' '2' '3' '4' '5' '6' '7' '8' '9']\n",
            "\n",
            "Matriz:\n",
            "[['1' '2' '3']\n",
            " ['4' '5' '6']\n",
            " ['7' '8' '9']]\n",
            "______________________________\n",
            "\n",
            "Início da Linha (valor deve ser entre 0 e 3):\n",
            "1\n",
            "Fim da Linha (valor deve ser entre 1 e 3):\n",
            "3\n",
            "Início da Coluna (valor deve ser entre 0 e 3):\n",
            "2\n",
            "Fim da coluna (valor deve ser entre 2 e 3):\n",
            "3\n",
            "______________________________\n",
            "Matriz fatida do índice a[1:3, 2:3]\n",
            "[['6']\n",
            " ['9']]\n",
            "______________________________\n",
            "Deseja realizar novo fatiamento? [S/N]: \n",
            "N\n"
          ],
          "name": "stdout"
        }
      ]
    }
  ]
}