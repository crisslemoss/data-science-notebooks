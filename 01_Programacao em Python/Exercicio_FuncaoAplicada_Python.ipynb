{
  "nbformat": 4,
  "nbformat_minor": 0,
  "metadata": {
    "colab": {
      "name": "Untitled13.ipynb",
      "provenance": [],
      "collapsed_sections": []
    },
    "kernelspec": {
      "name": "python3",
      "display_name": "Python 3"
    }
  },
  "cells": [
    {
      "cell_type": "markdown",
      "metadata": {
        "id": "vA0c_xQ4lAb1",
        "colab_type": "text"
      },
      "source": [
        "Criar três funções: A primeira vai criar uma lista com a quantidade de números (inteiros) que o usuário quiser. A segunda vai verificar se estes números estão ordenados. A terceira vai ordenar os números caso necessário e retornar na tela a lista"
      ]
    },
    {
      "cell_type": "code",
      "metadata": {
        "id": "G7tETdgVk9s_",
        "colab_type": "code",
        "colab": {
          "base_uri": "https://localhost:8080/",
          "height": 323
        },
        "outputId": "78f17f84-ecda-4aab-fd48-7a0da465a7dd"
      },
      "source": [
        "listaGlobal=[]\n",
        "\n",
        "def cria_Lista():    \n",
        "    listaGlobal.append(int(input('Digite um numero: \\n')))\n",
        "\n",
        "    pergunta = str(input('Continuar [S/N]: \\n')).upper()[0]\n",
        "    if pergunta == 'S':        \n",
        "        cria_Lista()\n",
        "\n",
        "    return listaGlobal\n",
        "    \n",
        "def  verifica_Ordenacao(lista):    \n",
        "    return ('\\033[92m Sim \\033[0m' if lista == sorted(lista) else '\\033[91m Não \\033[0m')   \n",
        "\n",
        "def ordena_Lista(lista):\n",
        "    if lista == sorted(lista):\n",
        "        return \"Lista já estava ordenada\"\n",
        "    else:\n",
        "        return sorted(lista)        \n",
        "\n",
        "print(f'\\nLista:\\033[36m{cria_Lista()}\\033[0m')\n",
        "print('_'*50)\n",
        "print(f'A lista esta ordenada:{verifica_Ordenacao(listaGlobal)}')\n",
        "print(f'Lista ordenada: {ordena_Lista(listaGlobal)}')\n",
        "print('_'*50) "
      ],
      "execution_count": 9,
      "outputs": [
        {
          "output_type": "stream",
          "text": [
            "Digite um numero: \n",
            "1\n",
            "Continuar [S/N]: \n",
            "s\n",
            "Digite um numero: \n",
            "8\n",
            "Continuar [S/N]: \n",
            "s\n",
            "Digite um numero: \n",
            "3\n",
            "Continuar [S/N]: \n",
            "n\n",
            "\n",
            "Lista:\u001b[36m[1, 8, 3]\u001b[0m\n",
            "__________________________________________________\n",
            "A lista esta ordenada:\u001b[91m Não \u001b[0m\n",
            "Lista ordenada: [1, 3, 8]\n",
            "__________________________________________________\n"
          ],
          "name": "stdout"
        }
      ]
    },
    {
      "cell_type": "code",
      "metadata": {
        "id": "KJMm5h6_AJp0",
        "colab_type": "code",
        "colab": {
          "base_uri": "https://localhost:8080/",
          "height": 34
        },
        "outputId": "1dc16e5c-66d3-414b-c576-26fe206aae85"
      },
      "source": [
        "from termcolor import colored\n",
        "print(colored('hello', 'red'), colored('world', 'green'))"
      ],
      "execution_count": 3,
      "outputs": [
        {
          "output_type": "stream",
          "text": [
            "\u001b[31mhello\u001b[0m \u001b[32mworld\u001b[0m\n"
          ],
          "name": "stdout"
        }
      ]
    }
  ]
}