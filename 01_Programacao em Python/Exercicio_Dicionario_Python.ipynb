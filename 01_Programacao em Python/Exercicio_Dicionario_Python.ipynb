{
  "nbformat": 4,
  "nbformat_minor": 0,
  "metadata": {
    "colab": {
      "name": "Untitled8.ipynb",
      "provenance": [],
      "collapsed_sections": []
    },
    "kernelspec": {
      "name": "python3",
      "display_name": "Python 3"
    }
  },
  "cells": [
    {
      "cell_type": "markdown",
      "metadata": {
        "id": "bPdGqKTFoYY1",
        "colab_type": "text"
      },
      "source": [
        "Faça um programa que leia, nome, sexo e idade de 3 pessoas (em dicionário). \n",
        "Depois gerar uma lista geral com os dados dos  dicionários. Fazer um print: \n",
        "- média de idade; \n",
        "- lista de mulheres; \n",
        "- uma lista de nome com idade acima da média."
      ]
    },
    {
      "cell_type": "code",
      "metadata": {
        "id": "YKfvqcFwoUSm",
        "colab_type": "code",
        "outputId": "2e626384-877a-40d7-843b-637050b3bee3",
        "colab": {
          "base_uri": "https://localhost:8080/",
          "height": 425
        }
      },
      "source": [
        "dicionario={}\n",
        "listaF=[]\n",
        "listaGeral=[]\n",
        "soma=0\n",
        "for x in range(3):\n",
        "    dicionario['nome'] = str(input('Digite o nome:\\n'))\n",
        "    dicionario['sexo'] = str(input(f'Digite o sexo:\\n')).upper()[0]\n",
        "    while dicionario['sexo'] != \"M\" and dicionario['sexo'] != \"F\":\n",
        "        dicionario['sexo'] = str(input(f'Digite o sexo:\\n')).upper()[0]\n",
        "\n",
        "    dicionario['idade']= int(input('Digite a idade:\\n'))\n",
        "    print('_'*30)\n",
        "    if dicionario['sexo'] == 'F':\n",
        "        listaF.append(dicionario['nome'])\n",
        "    \n",
        "    soma += dicionario['idade']\n",
        "    listaGeral.append(dicionario.copy())    \n",
        "    dicionario.clear()\n",
        "\n",
        "media = soma/len(listaGeral)\n",
        "print(f'Média de idade: {media:.2f}')\n",
        "print(f'Mulheres: {listaF}')\n",
        "\n",
        "for dc in listaGeral:\n",
        "    if dc['idade']  > media:\n",
        "        print(f\"{dc['nome']}, \",end='')\n",
        "print('Pessoa(s) com idade acima da média')\n",
        "\n",
        "    \n"
      ],
      "execution_count": 0,
      "outputs": [
        {
          "output_type": "stream",
          "text": [
            "Digite o nome:\n",
            "m1\n",
            "Digite o sexo:\n",
            "f\n",
            "Digite a idade:\n",
            "10\n",
            "______________________________\n",
            "Digite o nome:\n",
            "m2\n",
            "Digite o sexo:\n",
            "f\n",
            "Digite a idade:\n",
            "11\n",
            "______________________________\n",
            "Digite o nome:\n",
            "m3\n",
            "Digite o sexo:\n",
            "f\n",
            "Digite a idade:\n",
            "11\n",
            "______________________________\n",
            "Média de idade: 10.67\n",
            "Mulheres: ['m1', 'm2', 'm3']\n",
            "m2,m3,Pessoa(s) com idade acima da média\n"
          ],
          "name": "stdout"
        }
      ]
    }
  ]
}