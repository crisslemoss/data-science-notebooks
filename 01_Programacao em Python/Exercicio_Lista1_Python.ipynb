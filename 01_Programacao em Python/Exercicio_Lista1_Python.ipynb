{
  "nbformat": 4,
  "nbformat_minor": 0,
  "metadata": {
    "colab": {
      "name": "Untitled",
      "provenance": [],
      "collapsed_sections": []
    },
    "kernelspec": {
      "name": "python3",
      "display_name": "Python 3"
    }
  },
  "cells": [
    {
      "cell_type": "markdown",
      "metadata": {
        "id": "74a61kGIb3II",
        "colab_type": "text"
      },
      "source": [
        "Crie um programa que mostre qual foi o maior e menor valor digitado  nas suas posições que estão inseridos em uma lista. O programa deverá ter 7 valores que serão adicionados em uma lista.\n"
      ]
    },
    {
      "cell_type": "code",
      "metadata": {
        "id": "ffwPH6fsTFBB",
        "colab_type": "code",
        "outputId": "35c57a93-7d57-400d-bad3-cb59d9dd21a8",
        "colab": {
          "base_uri": "https://localhost:8080/",
          "height": 357
        }
      },
      "source": [
        "lista = []\n",
        "for x in range(0,7):\n",
        "    lista.append(int(input('Digite o numero: \\n')))\n",
        "\n",
        "print('_'*30)\n",
        "print(f'Lista:{lista}')\n",
        "print('_'*30)\n",
        "print(f'O MENOR número na lista é o \"{min(lista)}\" que está na posição: {lista.index(min(lista))}' )\n",
        "print(f'O MAIOR número na lista é o \"{max(lista)}\" que está na posição: {lista.index(max(lista))}' )\n",
        "print('_'*30)"
      ],
      "execution_count": 0,
      "outputs": [
        {
          "output_type": "stream",
          "text": [
            "Digite o numero: \n",
            "9\n",
            "Digite o numero: \n",
            "9\n",
            "Digite o numero: \n",
            "5\n",
            "Digite o numero: \n",
            "7\n",
            "Digite o numero: \n",
            "0\n",
            "Digite o numero: \n",
            "2\n",
            "Digite o numero: \n",
            "3\n",
            "______________________________\n",
            "Lista:[9, 9, 5, 7, 0, 2, 3]\n",
            "______________________________\n",
            "O MENOR número na lista é o \"0\" que está na posição: 4\n",
            "O MAIOR número na lista é o \"9\" que está na posição: 0\n",
            "______________________________\n"
          ],
          "name": "stdout"
        }
      ]
    }
  ]
}