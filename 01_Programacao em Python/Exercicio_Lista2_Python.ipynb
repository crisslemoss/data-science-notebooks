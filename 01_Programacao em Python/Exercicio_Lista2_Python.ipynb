{
  "nbformat": 4,
  "nbformat_minor": 0,
  "metadata": {
    "colab": {
      "name": "Exercicio_Lista2_Python.ipynb",
      "provenance": [],
      "collapsed_sections": []
    },
    "kernelspec": {
      "name": "python3",
      "display_name": "Python 3"
    }
  },
  "cells": [
    {
      "cell_type": "markdown",
      "metadata": {
        "id": "Mf5xQSgkkUSS",
        "colab_type": "text"
      },
      "source": [
        "Faça um programa onde se digite números inteiros. Esses valores vão para uma lista geral, separada em duas lista com valores pares e ímpares (dentro desta lista geral). Os valores pares em ordem decrescente e os ímpares em ordem crescente. Mostrar como resultado a lista geral. Imprimir o primeiro valor da lista par e o último da lista ímpar."
      ]
    },
    {
      "cell_type": "code",
      "metadata": {
        "id": "1qmoU_UZkXay",
        "colab_type": "code",
        "colab": {
          "base_uri": "https://localhost:8080/",
          "height": 221
        },
        "outputId": "abf1aced-3f5d-42b8-fec6-ddac5c915324"
      },
      "source": [
        "lista_geral=[]\n",
        "lista_par=[]\n",
        "lista_impar=[]\n",
        "\n",
        "while True:\n",
        "    num=int(input('Digite um numero: '))\n",
        "    \n",
        "    #lista_geral.append(num)\n",
        "\n",
        "    if (num %2 ==0):\n",
        "        lista_par.append(num)\n",
        "    else:\n",
        "        lista_impar.append(num)\n",
        "\n",
        "    pergunta = str(input('Continuar [S/N]: ')).upper()[0]\n",
        "    if pergunta == 'N':\n",
        "        break\n",
        "\n",
        "lista_par.sort()\n",
        "lista_geral.append(lista_par.copy())\n",
        "lista_impar.sort(reverse=True)\n",
        "lista_geral.append(lista_impar.copy())\n",
        "print(f'Lista geral:\\n {lista_geral}')\n"
      ],
      "execution_count": 3,
      "outputs": [
        {
          "output_type": "stream",
          "text": [
            "Digite o numero: 1\n",
            "Continuar [S/N]: s\n",
            "Digite o numero: 2\n",
            "Continuar [S/N]: s\n",
            "Digite o numero: 3\n",
            "Continuar [S/N]: s\n",
            "Digite o numero: 4\n",
            "Continuar [S/N]: s\n",
            "Digite o numero: 5\n",
            "Continuar [S/N]: n\n",
            "Lista geral:\n",
            " [[2, 4], [5, 3, 1]]\n"
          ],
          "name": "stdout"
        }
      ]
    }
  ]
}