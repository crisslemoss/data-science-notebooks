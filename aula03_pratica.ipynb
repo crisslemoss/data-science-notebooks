{
 "cells": [
  {
   "cell_type": "markdown",
   "metadata": {},
   "source": [
    "1) Calcule o maximo, o minimo e a amplitude do conjunto [2,4,6,8,10,12]"
   ]
  },
  {
   "cell_type": "code",
   "execution_count": 1,
   "metadata": {},
   "outputs": [],
   "source": [
    "# Deixe sua resposta aqui\n"
   ]
  },
  {
   "cell_type": "markdown",
   "metadata": {},
   "source": [
    "2) Calcule os desvios dos dados do cojunto [1,3,5,7,9,11]\n"
   ]
  },
  {
   "cell_type": "code",
   "execution_count": 2,
   "metadata": {},
   "outputs": [],
   "source": [
    "# Deixe sua resposta aqui\n"
   ]
  },
  {
   "cell_type": "markdown",
   "metadata": {},
   "source": [
    "3) Calcule a media, mediana e desvio padrao dos dois conjuntos de dados e comente sobre o resultado encontrado.\n",
    "\n",
    "<h4 align=\"center\"> Tabela 1: Numero de aparicoes do vereador X fora do periodo de eleicoes, <br> e dentro do periodo de eleicoes </h4>\n",
    "  \n",
    "| | | | | | | |  \n",
    "| :---: | :---: | :---: | :---: | :---: | :---: | :---: | \n",
    "| fora | 5 | 4 | 7 | 4 | 6 | 22 | \n",
    "| dentro | 23 | 20 | 24 | 25 | 23 | 23 | \n"
   ]
  },
  {
   "cell_type": "code",
   "execution_count": 3,
   "metadata": {},
   "outputs": [],
   "source": [
    "# Deixe sua resposta aqui\n",
    "\n",
    " "
   ]
  },
  {
   "cell_type": "code",
   "execution_count": 4,
   "metadata": {},
   "outputs": [],
   "source": [
    "# "
   ]
  },
  {
   "cell_type": "markdown",
   "metadata": {},
   "source": [
    "4) Duas funcionarias de uma fabrica estao sendo avaliadas de acordo com o tempo que levam para realizar duas\n",
    "tarefas consecutivas (tarefa 1, e tarefa 2), conforme a tabela abaixo.\n",
    "\n",
    "<h4 align=\"center\"> Tabela 2: Tempo, em minutos, para realizacao de 2 tarefas, para 2 funcionarias </h4>\n",
    "  \n",
    "| Func A | | func B | |\n",
    "| :---: | :---: | :---: | :---: | \n",
    "| tarefa 1 | tarefa 2 | tarefa 1 | tarefa 2 |\n",
    "| 30 | 2 | 31 | 7 | \n",
    "| 28 | 4 | 30 | 2 | \n",
    "| 31 | 3 | 32 | 6 | \n",
    "| 38 | 3 | 30 | 5 |\n",
    "| 25 | 2 | 29 | 4 | \n",
    "| 29 | 4 | 30 | 1 |\n",
    "| 30 | 3 | 31 | 4 | \n",
    "\n",
    "\n",
    "a) Calcule o tempo medio de cada uma das funcionarias para completar as 2 tarefas; <br>\n",
    "b) Calcule a amplitude de cada subtarefa para cada funcionaria; <br>\n",
    "c) Em qual subtarefa e pra qual funcionaria houve maior variabilidade?"
   ]
  },
  {
   "cell_type": "code",
   "execution_count": 5,
   "metadata": {},
   "outputs": [],
   "source": [
    "# Deixe sua resposta aqui\n"
   ]
  },
  {
   "cell_type": "code",
   "execution_count": null,
   "metadata": {},
   "outputs": [],
   "source": [
    "\n"
   ]
  },
  {
   "cell_type": "code",
   "execution_count": 6,
   "metadata": {},
   "outputs": [],
   "source": [
    "# "
   ]
  },
  {
   "cell_type": "markdown",
   "metadata": {},
   "source": [
    "5) Em um curso de Computacao com turmas no periodo diurno e noturno, foram obtidas as seguintes medias nas disciplinas:\n",
    "\n",
    "<h4 align=\"center\"> Tabela 3: Medias de notas de acordo com o periodo cursado. </h4>\n",
    "  \n",
    "| Disciplina | Diurno | Noturno | \n",
    "| :---: | :---: | :---: | \n",
    "| Algoritmos | 51,2 | 47,1 |  \n",
    "| Data Science |55,1 | 59,0 |  \n",
    "| Matematica aplicada | 43,3 | 35,7 |  \n",
    "| Linguagens | 46,0 | 46,6 | \n",
    "| Fundamentos de eletronica | 43 | 43 |  \n",
    "| Calculo | 46,6 | 46,5 | \n",
    "| SO | 49,5 | 42,6 | \n",
    "| Topicos Especiais | 63,3 | 58,2 | \n",
    "| Redes | 29,3 | 29,8 | \n",
    "\n",
    "a) Qual periodo obteve a media maior?;<br>\n",
    "b) Em qual periodo houve maior variabilidade de medias?"
   ]
  },
  {
   "cell_type": "code",
   "execution_count": 7,
   "metadata": {},
   "outputs": [],
   "source": [
    "# Deixe sua resposta aqui\n"
   ]
  },
  {
   "cell_type": "code",
   "execution_count": 8,
   "metadata": {},
   "outputs": [],
   "source": [
    "# "
   ]
  },
  {
   "cell_type": "markdown",
   "metadata": {},
   "source": [
    "6) Crie um box plot para os dados: [72,103,87,78,89,69,8,87,97,78,80,90,98,78,86,90,91,99]"
   ]
  },
  {
   "cell_type": "code",
   "execution_count": 9,
   "metadata": {},
   "outputs": [],
   "source": [
    "# Deixe sua resposta aqui\n"
   ]
  },
  {
   "cell_type": "code",
   "execution_count": null,
   "metadata": {
    "scrolled": false
   },
   "outputs": [],
   "source": []
  },
  {
   "cell_type": "markdown",
   "metadata": {},
   "source": [
    "7) Calcule a mediana, a amplitude e os quartis para os dados: [4.74, 4.72, 4.72, 4.76, 4.76, 4.74, 4.72, 4.75, 4.73, 4.75]\n",
    "    "
   ]
  },
  {
   "cell_type": "code",
   "execution_count": 10,
   "metadata": {},
   "outputs": [],
   "source": [
    "# Deixe sua resposta aqui\n"
   ]
  },
  {
   "cell_type": "markdown",
   "metadata": {},
   "source": [
    "8) Responda:\n",
    "\n",
    "a) A variancia pode ser negativa?<br>\n",
    "b) Uma mercadoria que possui um alto desvio padrao tem uma boa qualidade? Comente.<br>\n",
    "c) A mediana corresponde a qual percentil?<br>\n",
    "d) Um dado discrepante afeta a variancia?<br>"
   ]
  },
  {
   "cell_type": "code",
   "execution_count": 11,
   "metadata": {},
   "outputs": [],
   "source": [
    "# Deixe sua resposta aqui\n"
   ]
  },
  {
   "cell_type": "markdown",
   "metadata": {},
   "source": [
    "9) Calcule o maximo, o minimo e a amplitude do conjunto [6, 10, 7, 7, 9, 7, 1, 9, 8, 11, 10, 3, 6, 9, 5]. Se os dados fossem para medidas de tempo de espera de uma ligacao, o que a mediana informaria?\n"
   ]
  },
  {
   "cell_type": "code",
   "execution_count": 12,
   "metadata": {},
   "outputs": [],
   "source": [
    "# Deixe sua resposta aqui\n"
   ]
  },
  {
   "cell_type": "code",
   "execution_count": 13,
   "metadata": {},
   "outputs": [],
   "source": [
    "# "
   ]
  },
  {
   "cell_type": "markdown",
   "metadata": {},
   "source": [
    "10) Calcule o desvio padrao para o tempo de duracao que uma pessoa demora na fila de uma lanchonete fora do horario de pico.\n",
    "\n",
    "dados = [4, 4, 2, 2, 8, 5, 1, 12, 7]."
   ]
  },
  {
   "cell_type": "code",
   "execution_count": 14,
   "metadata": {},
   "outputs": [],
   "source": [
    "# Deixe sua resposta aqui\n"
   ]
  },
  {
   "cell_type": "markdown",
   "metadata": {},
   "source": [
    "11) Uma montadora de veiculos resolve fazer um teste de duracao de uma determinada peca de 2 marcas de fabricantes: fornecedor A e fornecedor B. Calcule a media e o desvio padrao, e indique qual seria mais vantajoso.\n",
    "\n",
    "Dados do fornecedor A: [486,490,491,491,494,494,496,498,498,498,502,504,505,506,507,508,510,514,515,527]; <br>\n",
    "Dados do fornecedor B: [489,489,492,492,491,492,492,493,493,494,495,496,497,497,497,498,499,502,503,505];"
   ]
  },
  {
   "cell_type": "code",
   "execution_count": 15,
   "metadata": {},
   "outputs": [],
   "source": [
    "# Deixe sua resposta aqui\n"
   ]
  },
  {
   "cell_type": "code",
   "execution_count": 16,
   "metadata": {},
   "outputs": [],
   "source": [
    "# "
   ]
  },
  {
   "cell_type": "markdown",
   "metadata": {},
   "source": [
    "12) Relembrando o estudo para verificar o tempo que um semaforo de pedestres deve ficar aberto para que idosos possam atravessar com seguranca, verificamos que os seguintes dados para tempo (em segundos) foram computados:\n",
    "\n",
    "Dados: [21,4; 15,1; 13,6; 16,0; 15,0; 19,1; 21,0; 14,2; 15,6; 20,1; 21,1; 22,2].\n",
    "\n",
    "Ache os percentis e indique quantos idosos ficaram acima do terceiro percentil."
   ]
  },
  {
   "cell_type": "code",
   "execution_count": null,
   "metadata": {},
   "outputs": [],
   "source": []
  }
 ],
 "metadata": {
  "kernelspec": {
   "display_name": "Python 3",
   "language": "python",
   "name": "python3"
  },
  "language_info": {
   "codemirror_mode": {
    "name": "ipython",
    "version": 3
   },
   "file_extension": ".py",
   "mimetype": "text/x-python",
   "name": "python",
   "nbconvert_exporter": "python",
   "pygments_lexer": "ipython3",
   "version": "3.7.6"
  }
 },
 "nbformat": 4,
 "nbformat_minor": 4
}
