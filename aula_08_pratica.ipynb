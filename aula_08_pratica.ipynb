{
 "cells": [
  {
   "cell_type": "markdown",
   "metadata": {},
   "source": [
    "1) Em uma fabrica de enlatados, um pHmetro detectou o pH de 39 latas, conforme a tabela abaixo. Sabendo que o pH deve ser em torno de 7.0, e que os erros possuem distribuicao normal, a media = 0 e desvio padrao de 0.4, construa um grafico com os erros de leituras."
   ]
  },
  {
   "cell_type": "markdown",
   "metadata": {},
   "source": [
    "<h4 align=\"center\">Tabela 01: Leitura do pHmetro de 39 latas </h4>\n",
    "\n",
    "|  | | Leituras <br>de pH |  |  |  |\n",
    "| :---: | :---: | :---: | :---: | :---: | :---: |\n",
    "| 6.5 | 6.8 | 6.9 | 7 | 7.1 | 7.3 |\n",
    "| 6.6 | 6.9 | 7 | 7 | 7.1 | 7.3 |\n",
    "| 6.7 | 6.9 | 7 | 7.1 | 7.2 | 7.3 |\n",
    "| 6.7 | 6.9 | 7 | 7.1 | 7.2 | 7.4 |\n",
    "| 6.8 | 6.9 | 7 | 7.1 | 7.2 |  |\n",
    "| 6.8 | 6.9 | 7 | 7.1 | 7.2 |  |\n",
    "| 6.8 | 6.9 | 7 | 7.1 | 7.2 |  |"
   ]
  },
  {
   "cell_type": "code",
   "execution_count": 1,
   "metadata": {},
   "outputs": [],
   "source": [
    "# Deixe sua resposta aqui.\n",
    "#dados = [6.5, 6.8, 6.9, 7, 7.1, 7.3, 6.6, 6.9, 7, 7,7.1, 7.3, 6.7, 6.9, 7, 7.1, 7.2, 7.3, 6.7, 6.9, 7,7.1, 7.2, 7.4, 6.8, 6.9, 7, 7.1, 7.2, 6.8, 6.9, 7, 7.1, 7.2, 6.8, 6.9, 7, 7.1, 7.2]\n",
    "import numpy as np\n",
    "import matplotlib.pyplot as plt\n",
    "from scipy.stats import norm\n",
    "import scipy\n",
    "\n",
    "dados = [6.5, 6.8, 6.8]\n",
    "mean = np.arange(5, 8, 0.01)"
   ]
  },
  {
   "cell_type": "markdown",
   "metadata": {},
   "source": [
    "2) Em uma distribuicao normal, que proporcao de casos cai:\n",
    "\n",
    "a) Fora dos limites de X = (media - 1 * desvio padrao) e X = (media + 1 * desvio padrao)? <br>\n",
    "b) Fora dos limites de X = (media - 2 * desvio padrao) e X = (media + 2 * desvio padrao)? "
   ]
  },
  {
   "cell_type": "code",
   "execution_count": 2,
   "metadata": {},
   "outputs": [],
   "source": [
    "# Deixe sua resposta aqui.\n",
    "# a) A area abaixo da curva representa 100%, entao, se tirarmos o equivalente a area do desvio padrao\n",
    "# pela regra empririca, ficaria: 100% - 68% = 32%. Logo, 16% ficaria abaixo, e 16% acima.\n",
    "\n",
    "# b) A area abaixo da curva representa 100%, entao, se tirarmos o equivalente a area do desvio padrao\n",
    "# pela regra empririca, ficaria: 100% - 95% = 5%. Logo, 2.5% ficaria abaixo, e 2.5% acima."
   ]
  },
  {
   "cell_type": "markdown",
   "metadata": {},
   "source": [
    "3) A resistencia de resistores tem distribuicao normal de media = 100 ohms e desvio padrao de 2 ohms. Qual a porcentagem de resistores com resistencia de:\n",
    "\n",
    "a) 98 a 102 ohms? <br>\n",
    "b) maior do que 95 ohms?"
   ]
  },
  {
   "cell_type": "code",
   "execution_count": 3,
   "metadata": {},
   "outputs": [
    {
     "name": "stdout",
     "output_type": "stream",
     "text": [
      "98\n",
      "102\n",
      "pela regra empirica, 68% dos dados estao no intervalo de 98 a 102 ohms.\n"
     ]
    }
   ],
   "source": [
    "# Deixe sua resposta aqui.\n",
    "# a)\n",
    "print(100 - 1*2)\n",
    "print(100 + 1*2)\n",
    "print('pela regra empirica, 68% dos dados estao no intervalo de 98 a 102 ohms.')"
   ]
  },
  {
   "cell_type": "code",
   "execution_count": 4,
   "metadata": {},
   "outputs": [
    {
     "name": "stdout",
     "output_type": "stream",
     "text": [
      "96\n",
      "104\n",
      "pela regra empirica, 97.5% dos dados estao no intervalo 96 a 104.\n"
     ]
    }
   ],
   "source": [
    "# b)\n",
    "print(100 - 2*2)\n",
    "print(100 + 2*2)\n",
    "print('pela regra empirica, 97.5% dos dados estao no intervalo 96 a 104.')"
   ]
  },
  {
   "cell_type": "markdown",
   "metadata": {},
   "source": [
    "4) Uma maquina de empacotar determinado produto apresenta variacoes de peso com desvio padrao de 20g. O peso medio esta regulado para 400g. Serao descartados 5% dos produtos com menor peso. Qual seria esse peso de corte?"
   ]
  },
  {
   "cell_type": "code",
   "execution_count": 5,
   "metadata": {},
   "outputs": [
    {
     "name": "stdout",
     "output_type": "stream",
     "text": [
      "367.1\n"
     ]
    }
   ],
   "source": [
    "# Deixe sua resposta aqui.\n",
    "num_descartados = 400 - (1.645 * 20)\n",
    "print(num_descartados)"
   ]
  },
  {
   "cell_type": "markdown",
   "metadata": {},
   "source": [
    "5) Em uma academia, o pessoal levanta, em media, 80kg no supino, com desvio padrao de 10kg. pressupondo uma distribuicao normal, qual a proporcao de pessoas que levantam mais de 100kg?"
   ]
  },
  {
   "cell_type": "code",
   "execution_count": 6,
   "metadata": {},
   "outputs": [
    {
     "name": "stdout",
     "output_type": "stream",
     "text": [
      "limite superior para 1 desvio padrao, ou 68%: 90\n",
      "limite superior para 2 desvio padrao, ou 95%: 100\n",
      "Com a area da curva do limite superior seria equivalente a 100%\n"
     ]
    }
   ],
   "source": [
    "# Deixe sua resposta aqui.\n",
    "print('limite superior para 1 desvio padrao, ou 68%: ' + str(80 + 1*10))\n",
    "print('limite superior para 2 desvio padrao, ou 95%: ' + str(80 + 2*10))\n",
    "print('Com a area da curva do limite superior seria equivalente a 100%')"
   ]
  },
  {
   "cell_type": "markdown",
   "metadata": {},
   "source": [
    "6) A tensao de energia eletrica recebida em uma sala de maquinas tem uma distribuicao conforme os dados da tabela abaixo. Construa um histograma e responda: Os dados assemelham-se a uma distribuicao normal?"
   ]
  },
  {
   "cell_type": "markdown",
   "metadata": {},
   "source": [
    "<h4 align=\"center\">Tabela 01: Tensao, em volts, recebida em uma sala de maquinas </h4>\n",
    "\n",
    "|  |  |  |  |  |\n",
    "| :---: | :---: | :---: | :---: | :---: |\n",
    "| 110 | 115 | 112 | 109 | 117 | \n",
    "| 112 | 109 | 109 | 120 | 112 | \n",
    "| 127 | 112 | 108 | 108 | 126 | \n",
    "| 109 | 114 | 123 | 109 | 128 | \n",
    "| 126 | 117 | 124 | 115 | 127 |  "
   ]
  },
  {
   "cell_type": "code",
   "execution_count": 7,
   "metadata": {},
   "outputs": [
    {
     "name": "stdout",
     "output_type": "stream",
     "text": [
      "[108, 108, 109, 109, 109, 109, 109, 110, 112, 112, 112, 112, 114, 115, 115, 117, 117, 120, 123, 124, 126, 126, 127, 127, 128]\n"
     ]
    },
    {
     "data": {
      "image/png": "[encoded data removed]",
      "text/plain": [
       "<Figure size 576x360 with 1 Axes>"
      ]
     },
     "metadata": {
      "needs_background": "light"
     },
     "output_type": "display_data"
    }
   ],
   "source": [
    "# Deixe sua resposta aqui.\n",
    "dados = [110,115,112,109,117,112,109,109,120,112,127,112,108,108,126,109,114,123,109,128,126,117,124,115,127]\n",
    "dados = sorted(dados)\n",
    "print(dados)\n",
    "data = np.array(dados) \n",
    "\n",
    "fig, ax = plt.subplots(figsize =(8, 5)) \n",
    "ax.hist(data, bins = np.arange(108, 127, 2), edgecolor='black', linewidth=1) \n",
    "plt.ylabel('Frequencia')\n",
    "plt.xlabel('Tensão em volts')\n",
    "plt.title('Histograma: Tensão, em volts, recebida em uma sala de maquinas')\n",
    "plt.show()"
   ]
  },
  {
   "cell_type": "code",
   "execution_count": 15,
   "metadata": {},
   "outputs": [],
   "source": [
    "#Os dados não se parece uma distribuiçao normal, não apresenta simetria em torno dos pontos médios"
   ]
  },
  {
   "cell_type": "markdown",
   "metadata": {},
   "source": [
    "7) O quociente intelectual (QI) sendo uma variavel aleatoria com distribuicao normal de media 100 e desvio padrao 15 permite calcular, pela regra empirica, a proporcao de pessoas acima de 130. Qual seria essa proporcao?"
   ]
  },
  {
   "cell_type": "code",
   "execution_count": 14,
   "metadata": {},
   "outputs": [
    {
     "name": "stdout",
     "output_type": "stream",
     "text": [
      "limite superior para 1 desvio padrao, ou 68%: 115\n",
      "limite superior para 2 desvio padrao, ou 95%: 130\n"
     ]
    }
   ],
   "source": [
    "# Deixe sua resposta aqui.\n",
    "desvio_padrao = 15\n",
    "media = 100\n",
    "\n",
    "print('limite superior para 1 desvio padrao, ou 68%: ' + str(media + 1*desvio_padrao))\n",
    "print('limite superior para 2 desvio padrao, ou 95%: ' + str(media + 2*desvio_padrao))"
   ]
  },
  {
   "cell_type": "markdown",
   "metadata": {},
   "source": [
    "8) Assinale a opcao correta:\n",
    "\n",
    "a) A variancia e' uma medida cujo significado e' a metade do desvio padrao.;<br>\n",
    "b) A variancia e' calculada com base no dobro do desvio padrao.;<br>\n",
    "c) O desvio padrao e' a raiz quadrada da variancia.;<br>\n",
    "d) A media dividida pelo desvio padrao forma a variancia;<br>\n",
    "e) A variancia elevada ao quadrado indica qual e' o desvio padrao."
   ]
  },
  {
   "cell_type": "code",
   "execution_count": null,
   "metadata": {},
   "outputs": [],
   "source": [
    "# Deixe sua resposta aqui.\n",
    "# opçao correta é a C) O desvio padrao e' a raiz quadrada da variancia.;"
   ]
  },
  {
   "cell_type": "markdown",
   "metadata": {},
   "source": [
    "9) A probabilidade de se observar um ponto alem de uma distancia da media igual  ou maior que 2 desvios padroes, para mais ou para menos, e' maior que 4%.\n",
    "\n",
    "a) Verdadeiro; <br>\n",
    "b) Falso."
   ]
  },
  {
   "cell_type": "code",
   "execution_count": null,
   "metadata": {},
   "outputs": [],
   "source": [
    "# Deixe sua resposta aqui.\n",
    "# Verdadeiro, essa probabilidade é de 5%"
   ]
  },
  {
   "cell_type": "markdown",
   "metadata": {},
   "source": [
    "10) Considere a afirmacao: \"Considerando um conjunto de dados, uma variavel aleatoria pode assumir qualquer valor variando dentro desse intervalo definido\".\n",
    "\n",
    "a) Verdadeiro, ou; <br>\n",
    "b) Falso?."
   ]
  },
  {
   "cell_type": "code",
   "execution_count": null,
   "metadata": {},
   "outputs": [],
   "source": [
    "# Deixe sua resposta aqui.\n",
    "# Verdadeiro"
   ]
  }
 ],
 "metadata": {
  "kernelspec": {
   "display_name": "Python 3",
   "language": "python",
   "name": "python3"
  },
  "language_info": {
   "codemirror_mode": {
    "name": "ipython",
    "version": 3
   },
   "file_extension": ".py",
   "mimetype": "text/x-python",
   "name": "python",
   "nbconvert_exporter": "python",
   "pygments_lexer": "ipython3",
   "version": "3.7.6"
  }
 },
 "nbformat": 4,
 "nbformat_minor": 4
}
